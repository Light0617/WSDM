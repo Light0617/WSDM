{
 "cells": [
  {
   "cell_type": "code",
   "execution_count": 1,
   "metadata": {
    "collapsed": true
   },
   "outputs": [],
   "source": [
    "import pandas as pd\n",
    "import numpy as np"
   ]
  },
  {
   "cell_type": "code",
   "execution_count": 2,
   "metadata": {
    "collapsed": true
   },
   "outputs": [],
   "source": [
    "def convert_to_year(x):\n",
    "    val = int(x)\n",
    "    if val >= 19:\n",
    "        return 1900 + val\n",
    "    else:\n",
    "        return 2000 + val"
   ]
  },
  {
   "cell_type": "code",
   "execution_count": 9,
   "metadata": {
    "collapsed": true
   },
   "outputs": [],
   "source": [
    "data_path = '../data/'\n",
    "songs_extra = pd.read_csv(data_path + 'song_extra_info.csv')"
   ]
  },
  {
   "cell_type": "code",
   "execution_count": 30,
   "metadata": {
    "collapsed": true
   },
   "outputs": [],
   "source": [
    "song_extra_cols = ['id', 'song_id', 'song_name', 'isrc', 'song_country']"
   ]
  },
  {
   "cell_type": "code",
   "execution_count": 31,
   "metadata": {
    "collapsed": true
   },
   "outputs": [],
   "source": [
    "new_songs_extra = songs_extra[song_extra_cols]"
   ]
  },
  {
   "cell_type": "code",
   "execution_count": 32,
   "metadata": {},
   "outputs": [
    {
     "name": "stdout",
     "output_type": "stream",
     "text": [
      "id\n",
      "song_id\n",
      "song_name\n",
      "isrc\n",
      "song_country\n",
      "song_year\n"
     ]
    }
   ],
   "source": [
    "for x in list(new_songs_extra):\n",
    "    print x"
   ]
  },
  {
   "cell_type": "code",
   "execution_count": 33,
   "metadata": {},
   "outputs": [
    {
     "name": "stderr",
     "output_type": "stream",
     "text": [
      "/Users/light/anaconda/envs/py2/lib/python2.7/site-packages/pandas/core/indexing.py:517: SettingWithCopyWarning: \n",
      "A value is trying to be set on a copy of a slice from a DataFrame.\n",
      "Try using .loc[row_indexer,col_indexer] = value instead\n",
      "\n",
      "See the caveats in the documentation: http://pandas.pydata.org/pandas-docs/stable/indexing.html#indexing-view-versus-copy\n",
      "  self.obj[item] = s\n"
     ]
    }
   ],
   "source": [
    "new_songs_extra.loc[new_songs_extra.index.tolist(), 'song_year'] = \\\n",
    "                            new_songs_extra['song_year'].apply(lambda x: int(convert_to_year(x)))"
   ]
  },
  {
   "cell_type": "code",
   "execution_count": 27,
   "metadata": {},
   "outputs": [
    {
     "name": "stdout",
     "output_type": "stream",
     "text": [
      "id\n",
      "song_id\n",
      "song_name\n",
      "isrc\n",
      "song_country\n",
      "song_year\n"
     ]
    }
   ],
   "source": [
    "for x in list(new_songs_extra):\n",
    "    print x"
   ]
  },
  {
   "cell_type": "code",
   "execution_count": 37,
   "metadata": {},
   "outputs": [],
   "source": [
    "dict = {}\n",
    "for x in songs_extra['isrc']:\n",
    "    x = str(x)[5:7]\n",
    "    dict[x] = dict.get(x, 0) + 1"
   ]
  },
  {
   "cell_type": "code",
   "execution_count": 38,
   "metadata": {},
   "outputs": [
    {
     "name": "stdout",
     "output_type": "stream",
     "text": [
      " 136548\n",
      "24 1916\n",
      "25 1609\n",
      "26 4303\n",
      "27 1085\n",
      "20 2629\n",
      "21 1592\n",
      "22 1074\n",
      "23 1586\n",
      "28 78\n",
      "29 198\n",
      "59 1233\n",
      "58 1059\n",
      "55 750\n",
      "54 586\n",
      "57 899\n",
      "56 939\n",
      "51 1092\n",
      "50 1343\n",
      "53 385\n",
      "52 430\n",
      "88 13897\n",
      "89 13479\n",
      "82 4193\n",
      "83 4760\n",
      "80 3503\n",
      "81 4291\n",
      "86 5690\n",
      "87 6475\n",
      "84 4860\n",
      "85 5113\n",
      "02 35945\n",
      "03 45683\n",
      "00 43774\n",
      "01 41514\n",
      "06 63307\n",
      "07 65802\n",
      "04 57292\n",
      "05 56126\n",
      "08 78554\n",
      "09 89645\n",
      "39 114\n",
      "38 177\n",
      "33 277\n",
      "32 152\n",
      "31 115\n",
      "30 146\n",
      "37 300\n",
      "36 185\n",
      "35 199\n",
      "34 192\n",
      "60 1434\n",
      "61 1519\n",
      "62 1502\n",
      "63 1570\n",
      "64 2462\n",
      "65 1955\n",
      "66 1950\n",
      "67 2393\n",
      "68 2271\n",
      "69 2362\n",
      "99 38290\n",
      "98 22416\n",
      "91 14690\n",
      "90 15039\n",
      "93 11896\n",
      "92 15346\n",
      "95 16129\n",
      "94 13140\n",
      "97 19195\n",
      "96 17879\n",
      "11 105308\n",
      "10 113040\n",
      "13 136376\n",
      "12 130063\n",
      "15 268266\n",
      "14 211560\n",
      "17 29667\n",
      "16 254342\n",
      "19 2775\n",
      "18 3649\n",
      "48 38\n",
      "49 259\n",
      "46 112\n",
      "47 157\n",
      "44 79\n",
      "45 86\n",
      "42 150\n",
      "43 70\n",
      "40 132\n",
      "41 144\n",
      "77 3142\n",
      "76 3002\n",
      "75 3141\n",
      "74 2637\n",
      "73 2412\n",
      "72 2839\n",
      "71 2610\n",
      "70 2202\n",
      "79 3577\n",
      "78 3604\n"
     ]
    }
   ],
   "source": [
    "for x in dict:\n",
    "    print x, dict[x]"
   ]
  },
  {
   "cell_type": "code",
   "execution_count": null,
   "metadata": {
    "collapsed": true
   },
   "outputs": [],
   "source": [
    "data_path = '../data/'\n",
    "\n",
    "songs = pd.read_csv(data_path + 'songs.csv')\n",
    "songs_extra = pd.read_csv(data_path + 'song_extra_info.csv')\n",
    "song_cols = ['song_id', 'artist_name', 'genre_ids', 'song_length', 'language']\n",
    ",song_id,song_name,isrc,song_country,song_year,song_length,genre_ids,artist_name,composer,lyricist,language\n",
    "song_extra_cols = ['song_id', 'song_name', 'isrc']\n",
    "songs_extra['song_country'] = songs_extra['isrc'].apply(lambda x: -1 if x == -1 or x == '' or pd.isnull(x) else str(x)[:2])\n",
    "songs_extra['song_year'] = songs_extra['isrc'].apply(lambda x: -1 if x == -1 or x == '' or pd.isnull(x)\\\n",
    "                                                         else int(convert_to_year(x[5:7])))\n",
    "songs = songs.merge(songs_extra[songs_extra.columns], on='song_id', how='left')\n",
    "\n"
   ]
  },
  {
   "cell_type": "code",
   "execution_count": 39,
   "metadata": {
    "collapsed": true
   },
   "outputs": [],
   "source": [
    "data_path = '../data/'\n",
    "songs = pd.read_csv(data_path + 'songs.csv')\n",
    "songs_extra = pd.read_csv(data_path + 'song_extra_info0.csv')\n",
    "song_cols = ['song_id', 'artist_name', 'genre_ids', 'song_length', 'language']\n",
    "song_extra_cols = ['song_id', 'song_name', 'isrc']\n",
    "songs_extra['song_country'] = songs_extra['isrc'].apply(lambda x: -1 if x == -1 or x == '' or pd.isnull(x) else str(x)[:2])\n",
    "songs_extra['song_year'] = songs_extra['isrc'].apply(lambda x: -1 if x == -1 or x == '' or pd.isnull(x)\\\n",
    "                                                         else int(convert_to_year(x[5:7])))\n",
    "songs1 = songs.merge(songs_extra[songs_extra.columns], on='song_id', how='left')\n",
    "\n",
    "train = pd.read_csv(data_path + 'train.csv')\n",
    "test = pd.read_csv(data_path + 'test.csv')\n",
    "members = pd.read_csv(data_path + 'members.csv')\n",
    "\n",
    "train = train.merge(songs1[songs1.columns], on='song_id', how='left')\n",
    "test = test.merge(songs1[songs1.columns], on='song_id', how='left')\n",
    "\n",
    "members['registration_year'] = members['registration_init_time'].apply(lambda x: int(str(x)[0:4]))\n",
    "members['registration_month'] = members['registration_init_time'].apply(lambda x: int(str(x)[4:6]))\n",
    "members['registration_date'] = members['registration_init_time'].apply(lambda x: int(str(x)[6:8]))\n",
    "\n",
    "members['expiration_year'] = members['expiration_date'].apply(lambda x: int(str(x)[0:4]))\n",
    "members['expiration_month'] = members['expiration_date'].apply(lambda x: int(str(x)[4:6]))\n",
    "members['expiration_date'] = members['expiration_date'].apply(lambda x: int(str(x)[6:8]))\n",
    "member = members.drop(['registration_year', 'expiration_year'], axis=1)\n",
    "\n",
    "members_cols = members.columns\n",
    "train = train.merge(members[members_cols], on='msno', how='left')\n",
    "test = test.merge(members[members_cols], on='msno', how='left')\n",
    "\n"
   ]
  },
  {
   "cell_type": "code",
   "execution_count": 41,
   "metadata": {},
   "outputs": [],
   "source": [
    "artist_year = {}\n",
    "for song, artist, year in zip(songs1['song_name'], songs1['artist_name'], songs1['song_year']):\n",
    "    if year >= 1960:\n",
    "        artist_year[artist] = min(year, artist_year.get(artist, 3000))"
   ]
  },
  {
   "cell_type": "code",
   "execution_count": 42,
   "metadata": {
    "collapsed": true
   },
   "outputs": [],
   "source": [
    "non_artists = {}\n",
    "user_artists = {}\n",
    "for uid, artist, year in zip(train['msno'], songs1['artist_name'], songs1['song_year']):\n",
    "    if uid not in user_artists:\n",
    "        user_artists[uid] = set([])\n",
    "    user_artists[uid].add(artist)\n",
    "    if year < 1960:\n",
    "        predict_year = artist_year.get(artist, 3000)\n",
    "        if predict_year == 3000:\n",
    "            if artist not in non_artists:\n",
    "                non_artists[artist] = {}\n",
    "            non_artists[artist][uid] = non_artists[artist].get(uid, 0) + 1"
   ]
  },
  {
   "cell_type": "code",
   "execution_count": 45,
   "metadata": {},
   "outputs": [],
   "source": [
    "user_song_years = {}\n",
    "for uid in user_artists:\n",
    "    res = []\n",
    "    for artist in user_artists[uid]:\n",
    "        if artist in artist_year and\\\n",
    "                    artist_year[artist] != 3000:\n",
    "            res +=  artist_year[artist],\n",
    "    user_song_years[uid] = np.mean(res) if len(res) > 0 else 0"
   ]
  },
  {
   "cell_type": "code",
   "execution_count": 47,
   "metadata": {
    "scrolled": false
   },
   "outputs": [
    {
     "name": "stdout",
     "output_type": "stream",
     "text": [
      "0\n",
      "0\n",
      "0\n",
      "0\n",
      "0\n",
      "0\n",
      "0\n",
      "0\n",
      "0\n",
      "0\n",
      "0\n",
      "0\n",
      "0\n",
      "0\n",
      "0\n",
      "0\n",
      "0\n"
     ]
    }
   ],
   "source": [
    "for uid in user_artists:\n",
    "    if user_song_years[uid] < 1960 or user_song_years[uid] >= 2018:\n",
    "        print user_song_years[uid]"
   ]
  },
  {
   "cell_type": "code",
   "execution_count": 48,
   "metadata": {
    "collapsed": true
   },
   "outputs": [],
   "source": [
    "for artist in non_artists:\n",
    "    if artist in artist_year:\n",
    "        print 'D cup'\n",
    "    res = []\n",
    "    for uid in non_artists[artist]:\n",
    "        if user_song_years[uid] > 0:\n",
    "            res += user_song_years[uid],\n",
    "    artist_year[artist] = np.mean(res) if len(res) > 0 else 0"
   ]
  },
  {
   "cell_type": "code",
   "execution_count": null,
   "metadata": {
    "collapsed": true
   },
   "outputs": [],
   "source": []
  },
  {
   "cell_type": "code",
   "execution_count": 49,
   "metadata": {
    "collapsed": true
   },
   "outputs": [],
   "source": [
    "songs_cols = ['song_id', 'artist_name', 'genre_ids', 'song_length', 'language']"
   ]
  },
  {
   "cell_type": "code",
   "execution_count": 51,
   "metadata": {},
   "outputs": [
    {
     "name": "stdout",
     "output_type": "stream",
     "text": [
      "ok\n"
     ]
    }
   ],
   "source": [
    "songs_info = songs_extra.merge(songs[songs.columns], on='song_id', how='left')\n",
    "print 'ok'"
   ]
  },
  {
   "cell_type": "code",
   "execution_count": 57,
   "metadata": {},
   "outputs": [
    {
     "name": "stdout",
     "output_type": "stream",
     "text": [
      "song_id\n",
      "song_length\n",
      "genre_ids\n",
      "artist_name\n",
      "composer\n",
      "lyricist\n",
      "language\n",
      "song_name\n",
      "isrc\n",
      "song_country\n",
      "song_year\n"
     ]
    }
   ],
   "source": [
    "for x in list(songs1):\n",
    "    print x"
   ]
  },
  {
   "cell_type": "code",
   "execution_count": 66,
   "metadata": {},
   "outputs": [],
   "source": [
    "years = []\n",
    "for artist, year in zip(songs1['artist_name'], songs1['song_year']):\n",
    "    try:\n",
    "        year = int(year)\n",
    "    except:\n",
    "        if artist in artist_year:\n",
    "            years += int(artist_year[artist]),\n",
    "        else:\n",
    "            years += -1,\n",
    "        continue\n",
    "    if year >= 1960 and year <= 2018:\n",
    "        years += year,\n",
    "    else:     \n",
    "        years += int(artist_year[artist]),"
   ]
  },
  {
   "cell_type": "code",
   "execution_count": 67,
   "metadata": {
    "scrolled": false
   },
   "outputs": [
    {
     "name": "stdout",
     "output_type": "stream",
     "text": [
      "1960 12683\n",
      "1961 2999\n",
      "1962 2561\n",
      "1963 2147\n",
      "1964 3059\n",
      "1965 2109\n",
      "1966 2058\n",
      "1967 2543\n",
      "1968 2702\n",
      "1969 2479\n",
      "1970 2276\n",
      "1971 2878\n",
      "1972 3248\n",
      "1973 2548\n",
      "1974 2859\n",
      "1975 3534\n",
      "1976 3110\n",
      "1977 3305\n",
      "1978 3718\n",
      "1979 3712\n",
      "1980 3789\n",
      "1981 4434\n",
      "1982 4542\n",
      "1983 5199\n",
      "1984 5127\n",
      "1985 5392\n",
      "1986 5805\n",
      "1987 6791\n",
      "1988 15564\n",
      "1989 14095\n",
      "1990 15762\n",
      "1991 15126\n",
      "1992 16066\n",
      "1993 12566\n",
      "1994 14247\n",
      "1995 16783\n",
      "1996 18789\n",
      "1997 21583\n",
      "1998 58331\n",
      "1999 97907\n",
      "2000 48421\n",
      "2001 43309\n",
      "2002 37333\n",
      "2003 47730\n",
      "2004 59615\n",
      "2005 58123\n",
      "2006 65601\n",
      "2007 68766\n",
      "2008 83111\n",
      "2009 91534\n",
      "2010 114978\n",
      "2011 107109\n",
      "2012 132166\n",
      "2013 138168\n",
      "2014 214817\n",
      "2015 271397\n",
      "2016 255967\n",
      "2017 29972\n",
      "2018 3721\n",
      "-1 56\n"
     ]
    }
   ],
   "source": [
    "dict = {}\n",
    "for year in years:\n",
    "    dict[year] = dict.get(year, 0) + 1\n",
    "for x in dict:\n",
    "    print x, dict[x]"
   ]
  },
  {
   "cell_type": "code",
   "execution_count": 70,
   "metadata": {},
   "outputs": [
    {
     "name": "stdout",
     "output_type": "stream",
     "text": [
      "2296320 2296320\n"
     ]
    }
   ],
   "source": [
    "print len(songs1['song_year']), len(years)"
   ]
  },
  {
   "cell_type": "code",
   "execution_count": 72,
   "metadata": {
    "collapsed": true
   },
   "outputs": [],
   "source": [
    "songs1['song_year'] = years"
   ]
  },
  {
   "cell_type": "code",
   "execution_count": 73,
   "metadata": {
    "collapsed": true
   },
   "outputs": [],
   "source": [
    "songs1.to_csv(data_path + 'songs1.csv', sep=',', encoding='utf-8')"
   ]
  },
  {
   "cell_type": "code",
   "execution_count": 92,
   "metadata": {
    "collapsed": true
   },
   "outputs": [],
   "source": []
  },
  {
   "cell_type": "code",
   "execution_count": 77,
   "metadata": {},
   "outputs": [],
   "source": [
    "songs1 =  pd.read_csv(data_path + 'songs1.csv')"
   ]
  },
  {
   "cell_type": "code",
   "execution_count": 78,
   "metadata": {},
   "outputs": [
    {
     "name": "stdout",
     "output_type": "stream",
     "text": [
      "id\n",
      "song_id\n",
      "song_length\n",
      "genre_ids\n",
      "artist_name\n",
      "composer\n",
      "lyricist\n",
      "language\n",
      "song_name\n",
      "isrc\n",
      "song_country\n",
      "song_year\n"
     ]
    }
   ],
   "source": [
    "for x in list(songs1):\n",
    "    print x"
   ]
  },
  {
   "cell_type": "code",
   "execution_count": 17,
   "metadata": {},
   "outputs": [
    {
     "name": "stdout",
     "output_type": "stream",
     "text": [
      "97252 6573\n"
     ]
    }
   ],
   "source": [
    "print len(non_song), len(non_artists)"
   ]
  },
  {
   "cell_type": "code",
   "execution_count": null,
   "metadata": {
    "collapsed": true
   },
   "outputs": [],
   "source": []
  }
 ],
 "metadata": {
  "anaconda-cloud": {},
  "kernelspec": {
   "display_name": "Python [conda env:py2]",
   "language": "python",
   "name": "conda-env-py2-py"
  },
  "language_info": {
   "codemirror_mode": {
    "name": "ipython",
    "version": 2
   },
   "file_extension": ".py",
   "mimetype": "text/x-python",
   "name": "python",
   "nbconvert_exporter": "python",
   "pygments_lexer": "ipython2",
   "version": "2.7.13"
  }
 },
 "nbformat": 4,
 "nbformat_minor": 2
}
