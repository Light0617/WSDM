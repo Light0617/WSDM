{
 "cells": [
  {
   "cell_type": "code",
   "execution_count": 3,
   "metadata": {
    "collapsed": true
   },
   "outputs": [],
   "source": [
    "import csv\n",
    "import os"
   ]
  },
  {
   "cell_type": "code",
   "execution_count": 4,
   "metadata": {},
   "outputs": [
    {
     "name": "stdout",
     "output_type": "stream",
     "text": [
      "members.csv\n",
      "members.csv.7z\n",
      "sample_submission.csv\n",
      "sample_submission.csv.7z\n",
      "song_extra_info.csv\n",
      "song_extra_info.csv.7z\n",
      "songs.csv\n",
      "songs.csv.7z\n",
      "test.csv\n",
      "test.csv.7z\n",
      "train.csv\n",
      "train.csv.7z\n"
     ]
    }
   ],
   "source": [
    "dir = '../data'\n",
    "for f in os.listdir(dir):\n",
    "    print f"
   ]
  },
  {
   "cell_type": "code",
   "execution_count": 7,
   "metadata": {
    "collapsed": true
   },
   "outputs": [],
   "source": [
    "file_name = '/'.join([dir, 'songs.csv'])\n",
    "k = 0\n",
    "singers = set([])\n",
    "with open(file_name, 'r') as in_file:\n",
    "    for line in in_file:\n",
    "        k += 1\n",
    "        singers.add(line.split(',')[3])\n",
    "        if k > 2000:\n",
    "            break"
   ]
  },
  {
   "cell_type": "code",
   "execution_count": 20,
   "metadata": {
    "collapsed": true
   },
   "outputs": [],
   "source": [
    "file_name = '/'.join([dir, 'train.csv'])\n",
    "k = 0\n",
    "singers = set([])\n",
    "with open(file_name, 'r') as in_file:\n",
    "    for line in in_file:\n",
    "        k += 1\n",
    "        singers.add(line.split(',')[3])\n",
    "        if k > 2000:\n",
    "            break"
   ]
  },
  {
   "cell_type": "code",
   "execution_count": 21,
   "metadata": {},
   "outputs": [
    {
     "name": "stdout",
     "output_type": "stream",
     "text": [
      "\n",
      "My library\n",
      "Search\n",
      "Discover Genre\n",
      "Others profile more\n",
      "Unknown\n",
      "Album more\n",
      "source_screen_name\n",
      "Discover Chart\n",
      "Search Trends\n",
      "Explore\n",
      "Online playlist more\n",
      "Discover Feature\n",
      "Radio\n",
      "Local playlist more\n",
      "Artist more\n"
     ]
    }
   ],
   "source": [
    "for k in singers:\n",
    "    print k"
   ]
  },
  {
   "cell_type": "code",
   "execution_count": null,
   "metadata": {
    "collapsed": true
   },
   "outputs": [],
   "source": []
  }
 ],
 "metadata": {
  "anaconda-cloud": {},
  "kernelspec": {
   "display_name": "Python [conda env:py2]",
   "language": "python",
   "name": "conda-env-py2-py"
  },
  "language_info": {
   "codemirror_mode": {
    "name": "ipython",
    "version": 2
   },
   "file_extension": ".py",
   "mimetype": "text/x-python",
   "name": "python",
   "nbconvert_exporter": "python",
   "pygments_lexer": "ipython2",
   "version": "2.7.13"
  }
 },
 "nbformat": 4,
 "nbformat_minor": 2
}
