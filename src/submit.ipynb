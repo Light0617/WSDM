{
 "cells": [
  {
   "cell_type": "code",
   "execution_count": 4,
   "metadata": {
    "collapsed": true
   },
   "outputs": [],
   "source": [
    "import csv\n",
    "import os\n",
    "import sys\n",
    "import pickle\n",
    "import numpy as np\n",
    "import math\n",
    "sys.path.insert(0, '../')\n",
    "from model import model1\n",
    "from sklearn.metrics import roc_curve, auc"
   ]
  },
  {
   "cell_type": "code",
   "execution_count": 5,
   "metadata": {
    "collapsed": true
   },
   "outputs": [],
   "source": [
    "data = []\n",
    "with open('../data/val1/test.csv') as data_file:\n",
    "    for line in data_file:\n",
    "        data += line,"
   ]
  },
  {
   "cell_type": "code",
   "execution_count": 6,
   "metadata": {},
   "outputs": [],
   "source": [
    "with open('../data/val1/M.pickle', 'rb') as handle:\n",
    "    M = pickle.load(handle)"
   ]
  },
  {
   "cell_type": "code",
   "execution_count": 7,
   "metadata": {
    "collapsed": true
   },
   "outputs": [],
   "source": [
    "with open('../data/val1/users_dict.pickle', 'rb') as handle:\n",
    "    users = pickle.load(handle)\n",
    "with open('../data/val1/songs_dict.pickle', 'rb') as handle:\n",
    "    songs = pickle.load(handle)"
   ]
  },
  {
   "cell_type": "code",
   "execution_count": 8,
   "metadata": {
    "collapsed": true
   },
   "outputs": [],
   "source": [
    "with open('../data/val1/song_to_singer.pickle', 'rb') as handle:\n",
    "    song_to_singer = pickle.load(handle)\n",
    "with open('../data/val1/user_to_singer.pickle', 'rb') as handle:\n",
    "    user_to_singer = pickle.load(handle)"
   ]
  },
  {
   "cell_type": "code",
   "execution_count": null,
   "metadata": {
    "collapsed": true
   },
   "outputs": [],
   "source": [
    "def latent_vairable(user_id, M, k, W, V, alpha, lambda1, b_u, b_m, b):\n",
    "    #init\n",
    "    for music in table[user_id]:\n",
    "        r = M[user_id][music]\n",
    "        error = (rating[music] - \\\n",
    "                 np.dot(W[music], V[:,user_id]) - b_u[user_id] - b_m[music] - b)\n",
    "#         print np.dot(W[music], V[:,user_id])\n",
    "#         print b_u[user_id], b_m[music], b\n",
    "        V[:,user_id] += alpha * (error * W[music] - lambda1 * V[:,user_id])\n",
    "        W[music] += alpha * (error * V[:,user_id] - lambda1 * W[music])\n",
    "        b += alpha * error\n",
    "        b_u[user_id] += alpha * ( error - lambda1 * b_u[user_id])\n",
    "        b_m[music] += alpha * ( error - lambda1 * b_m[music])\n",
    "\n",
    "        if math.isnan(error):\n",
    "            break"
   ]
  },
  {
   "cell_type": "code",
   "execution_count": 132,
   "metadata": {
    "collapsed": true,
    "scrolled": false
   },
   "outputs": [],
   "source": [
    "b_u, b_m = np.zeros(len(users)), np.zeros(len(songs))\n",
    "for user in table:\n",
    "    b_u[user] = float(len(table[user])) / len(users)\n",
    "    for music in table[user]:\n",
    "        b_m[music] += 1\n",
    "b_m = b_m / float(len(users))"
   ]
  },
  {
   "cell_type": "code",
   "execution_count": 115,
   "metadata": {},
   "outputs": [
    {
     "name": "stdout",
     "output_type": "stream",
     "text": [
      "[1, 0, 0, 1, 0]\n"
     ]
    }
   ],
   "source": [
    "real_y = [int(x.split(',')[-1].strip('\\r\\n')) for x in data]\n",
    "print real_y[:5]"
   ]
  },
  {
   "cell_type": "code",
   "execution_count": null,
   "metadata": {
    "scrolled": false
   },
   "outputs": [
    {
     "name": "stdout",
     "output_type": "stream",
     "text": [
      "(324429, 100)\n",
      "go, 0\n"
     ]
    }
   ],
   "source": [
    "def MF_model_pred(x, users, songs, b_u, b_m, W, V, b):\n",
    "    x = x.split(',')\n",
    "    user_id, music_id = users.get(x[1], -1), songs.get(x[2], -1)\n",
    "    interaction = np.dot(W[music], V[:,user_id]) if user_id != -1 and music_id != -1 \\\n",
    "                    else 0\n",
    "    pred = b + b_u[user_id] + b_m[music_id] + interaction \n",
    "    return max(min(pred, 1), 0)\n",
    "    #return 1 if pred >= 0.5 else 0\n",
    "def latent_vairable_model(user_id, table, k, W, V, alpha, lambda1, b_u, b_m, b):\n",
    "    error = 0\n",
    "    while user_id < len(users):\n",
    "        error += latent_vairable(user_id, table, k, W, V, alpha, lambda1, b_u, b_m, b)\n",
    "        if math.isnan(error):\n",
    "            break\n",
    "        user_id = user_id + 1\n",
    "    return error\n",
    "def latent_vairable(user_id, table, k, W, V, alpha, lambda1, b_u, b_m, b):\n",
    "    #init\n",
    "    rating = [-1] * len(songs)\n",
    "    for music in table[user_id]:\n",
    "        r = table[user_id][music]\n",
    "        rating[music] = 0 if r < 1 else 1\n",
    "        error = (rating[music] - \\\n",
    "                 np.dot(W[music], V[:,user_id]) - b_u[user_id] - b_m[music] - b)\n",
    "#         print np.dot(W[music], V[:,user_id])\n",
    "#         print b_u[user_id], b_m[music], b\n",
    "        V[:,user_id] += alpha * (error * W[music] - lambda1 * V[:,user_id])\n",
    "        W[music] += alpha * (error * V[:,user_id] - lambda1 * W[music])\n",
    "        b += alpha * error\n",
    "        b_u[user_id] += alpha * ( error - lambda1 * b_u[user_id])\n",
    "        b_m[music] += alpha * ( error - lambda1 * b_m[music])\n",
    "\n",
    "        if math.isnan(error):\n",
    "            break\n",
    "    return error\n",
    "print np.shape(W)\n",
    "k, alpha = 100, 0.01\n",
    "W = np.random.rand(len(songs), k)\n",
    "V = np.random.rand(k, len(users))\n",
    "b_u, b_m = np.zeros(len(users)), np.zeros(len(songs))\n",
    "for user in table:\n",
    "    b_u[user] = float(len(table[user])) / len(users)\n",
    "    for music in table[user]:\n",
    "        b_m[music] += 1\n",
    "b_m = b_m / float(len(users))\n",
    "errors = []\n",
    "b = 0\n",
    "rocs = []\n",
    "lambda1 = 0.001\n",
    "for i in xrange(1):\n",
    "    print 'go,', i\n",
    "    user_id = 0\n",
    "    errors += latent_vairable_model(user_id, table, k, W, V, alpha, lambda1, b_u, b_m, b),\n",
    "    if math.isnan(errors[-1]) or \\\n",
    "    (len(errors) > 10 and abs(errors[-2] - errors[-1]) / abs(errors[-2]) < 0.01)\\\n",
    "    or (len(errors) > 10 and abs(errors[-2]) < abs(errors[-1])):\n",
    "        break\n",
    "    pred = [MF_model_pred(x, users, songs, b_u, b_m, W, V, b) for x in data]\n",
    "    fpr, tpr, _ = roc_curve(real_y, pred)\n",
    "    rocs += auc(fpr, tpr),"
   ]
  },
  {
   "cell_type": "code",
   "execution_count": null,
   "metadata": {},
   "outputs": [
    {
     "name": "stdout",
     "output_type": "stream",
     "text": [
      "go, 0\n",
      "go, 1\n"
     ]
    }
   ],
   "source": [
    "for i in xrange(10):\n",
    "    print 'go,', i\n",
    "    user_id = 0\n",
    "    errors += latent_vairable_model(user_id, table, k, W, V, alpha, lambda1, b_u, b_m, b),\n",
    "    if math.isnan(errors[-1]) or \\\n",
    "    (len(errors) > 10 and abs(errors[-2] - errors[-1]) / abs(errors[-2]) < 0.01)\\\n",
    "    or (len(errors) > 10 and abs(errors[-2]) < abs(errors[-1])):\n",
    "        break\n",
    "    pred = [MF_model_pred(x, users, songs, b_u, b_m, W, V, b) for x in data]\n",
    "    fpr, tpr, _ = roc_curve(real_y, pred)\n",
    "    rocs += auc(fpr, tpr),"
   ]
  },
  {
   "cell_type": "code",
   "execution_count": null,
   "metadata": {
    "collapsed": true
   },
   "outputs": [],
   "source": [
    "print rocs"
   ]
  },
  {
   "cell_type": "code",
   "execution_count": null,
   "metadata": {
    "collapsed": true
   },
   "outputs": [],
   "source": [
    "plt.figure()\n",
    "lw = 2\n",
    "plt.plot(fpr, tpr, color='darkorange',\n",
    "         lw=lw, label='ROC curve (area = %0.2f)' % roc_auc)\n",
    "plt.plot([0, 1], [0, 1], color='navy', lw=lw, linestyle='--')\n",
    "plt.xlim([0.0, 1.0])\n",
    "plt.ylim([0.0, 1.05])\n",
    "plt.xlabel('False Positive Rate')\n",
    "plt.ylabel('True Positive Rate')\n",
    "plt.title('Receiver operating characteristic example')\n",
    "plt.legend(loc=\"lower right\")\n",
    "plt.show()"
   ]
  },
  {
   "cell_type": "code",
   "execution_count": 153,
   "metadata": {},
   "outputs": [
    {
     "data": {
      "image/png": "[encoded data removed]",
      "text/plain": [
       "<matplotlib.figure.Figure at 0x14a48a550>"
      ]
     },
     "metadata": {},
     "output_type": "display_data"
    }
   ],
   "source": [
    "import matplotlib.pyplot as plt\n",
    "plt.plot(range(len(errors)), np.abs(errors))\n",
    "plt.plot(range(len(rocs)), rocs)\n",
    "plt.show()"
   ]
  },
  {
   "cell_type": "code",
   "execution_count": 154,
   "metadata": {},
   "outputs": [
    {
     "name": "stdout",
     "output_type": "stream",
     "text": [
      "[3679.8764865464732, 2344.8945269123101, 1827.095149567826, 1538.9544593461271, 1349.1773753775208, 1211.9775234262563, 1106.7676137235057, 1022.7414519960714, 953.60690300180659, 895.41396831699319, 845.53793181966387]\n"
     ]
    }
   ],
   "source": [
    "print errors"
   ]
  },
  {
   "cell_type": "code",
   "execution_count": 91,
   "metadata": {},
   "outputs": [
    {
     "name": "stdout",
     "output_type": "stream",
     "text": [
      "0\n"
     ]
    }
   ],
   "source": [
    "def MF_model(x, users, songs, b_u, b_m, W, V):\n",
    "    x = x.split(',')\n",
    "    user_id, music_id = users.get(x[1], -1), songs.get(x[2], -1)\n",
    "    interaction = np.dot(W[music], V[:,user_id]) if user_id != -1 and music_id != -1 \\\n",
    "                    else 0\n",
    "    pred = b_u[user_id] + b_m[music_id] + interaction \n",
    "    #return max(min(pred, 1), 0)\n",
    "    return 1 if pred >= 0.5 else 0\n",
    "print MF_model(data[2], users, songs, b_u, b_m, W, V)"
   ]
  },
  {
   "cell_type": "code",
   "execution_count": 95,
   "metadata": {
    "collapsed": true
   },
   "outputs": [],
   "source": [
    "test_data = []\n",
    "with open('../data/test.csv') as data_file:\n",
    "    for line in data_file:\n",
    "        test_data += line,"
   ]
  },
  {
   "cell_type": "code",
   "execution_count": 96,
   "metadata": {
    "collapsed": true
   },
   "outputs": [],
   "source": [
    "output = [[int(x.split(',')[0]), \\\n",
    "           MF_model(x, users, songs, b_u, b_m, W, V)] \\\n",
    "          for x in test_data[1:]]"
   ]
  },
  {
   "cell_type": "code",
   "execution_count": null,
   "metadata": {
    "collapsed": true
   },
   "outputs": [],
   "source": [
    "def evaluate(pred, real):\n",
    "    pred = [x[1] for x in pred]\n",
    "    truth = [x[-1] for x in real]\n",
    "    return np.sum(np.abs(pred - truth))\n",
    "evaluate(output, data)"
   ]
  },
  {
   "cell_type": "code",
   "execution_count": null,
   "metadata": {
    "collapsed": true
   },
   "outputs": [],
   "source": [
    "with open('../data/val1/V.pickle', 'wb') as handle:\n",
    "    pickle.dump(V, handle, protocol=pickle.HIGHEST_PROTOCOL)\n",
    "with open('../data/val1/W.pickle', 'wb') as handle:\n",
    "    pickle.dump(W, handle, protocol=pickle.HIGHEST_PROTOCOL)\n",
    "with open('../data/val1/b_u.pickle', 'wb') as handle:\n",
    "    pickle.dump(b_u, handle, protocol=pickle.HIGHEST_PROTOCOL)\n",
    "with open('../data/val1/b_m.pickle', 'wb') as handle:\n",
    "    pickle.dump(b_m, handle, protocol=pickle.HIGHEST_PROTOCOL)"
   ]
  },
  {
   "cell_type": "code",
   "execution_count": 88,
   "metadata": {},
   "outputs": [
    {
     "ename": "NameError",
     "evalue": "name 'output' is not defined",
     "output_type": "error",
     "traceback": [
      "\u001b[0;31m---------------------------------------------------------------------------\u001b[0m",
      "\u001b[0;31mNameError\u001b[0m                                 Traceback (most recent call last)",
      "\u001b[0;32m<ipython-input-88-9522dca08278>\u001b[0m in \u001b[0;36m<module>\u001b[0;34m()\u001b[0m\n\u001b[1;32m      1\u001b[0m \u001b[0;32mfor\u001b[0m \u001b[0mi\u001b[0m \u001b[0;32min\u001b[0m \u001b[0mrange\u001b[0m\u001b[0;34m(\u001b[0m\u001b[0;36m5\u001b[0m\u001b[0;34m)\u001b[0m\u001b[0;34m:\u001b[0m\u001b[0;34m\u001b[0m\u001b[0m\n\u001b[0;32m----> 2\u001b[0;31m     \u001b[0;32mprint\u001b[0m \u001b[0moutput\u001b[0m\u001b[0;34m[\u001b[0m\u001b[0mi\u001b[0m\u001b[0;34m]\u001b[0m\u001b[0;34m\u001b[0m\u001b[0m\n\u001b[0m",
      "\u001b[0;31mNameError\u001b[0m: name 'output' is not defined"
     ]
    }
   ],
   "source": [
    "for i in range(5):\n",
    "    print output[i]"
   ]
  },
  {
   "cell_type": "code",
   "execution_count": 97,
   "metadata": {
    "collapsed": true
   },
   "outputs": [],
   "source": [
    "with open('../submissions/MF_validat.csv', 'w') as csvfile:\n",
    "    writer = csv.writer(csvfile, delimiter=',',\n",
    "                            quotechar=',', quoting=csv.QUOTE_MINIMAL)\n",
    "    writer.writerow(['id','target'])\n",
    "    for row in output:\n",
    "        writer.writerow(row)"
   ]
  },
  {
   "cell_type": "code",
   "execution_count": 98,
   "metadata": {},
   "outputs": [
    {
     "name": "stdout",
     "output_type": "stream",
     "text": [
      "done\n"
     ]
    }
   ],
   "source": [
    "print 'done'"
   ]
  },
  {
   "cell_type": "code",
   "execution_count": null,
   "metadata": {
    "collapsed": true
   },
   "outputs": [],
   "source": []
  }
 ],
 "metadata": {
  "anaconda-cloud": {},
  "kernelspec": {
   "display_name": "Python [conda env:py2]",
   "language": "python",
   "name": "conda-env-py2-py"
  },
  "language_info": {
   "codemirror_mode": {
    "name": "ipython",
    "version": 2
   },
   "file_extension": ".py",
   "mimetype": "text/x-python",
   "name": "python",
   "nbconvert_exporter": "python",
   "pygments_lexer": "ipython2",
   "version": "2.7.13"
  }
 },
 "nbformat": 4,
 "nbformat_minor": 2
}
