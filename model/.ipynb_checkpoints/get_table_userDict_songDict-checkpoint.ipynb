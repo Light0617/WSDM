{
 "cells": [
  {
   "cell_type": "code",
   "execution_count": 2,
   "metadata": {
    "collapsed": true
   },
   "outputs": [],
   "source": [
    "import csv\n",
    "import json\n",
    "import pickle"
   ]
  },
  {
   "cell_type": "code",
   "execution_count": 9,
   "metadata": {},
   "outputs": [
    {
     "name": "stdout",
     "output_type": "stream",
     "text": [
      "msno,song_id,source_system_tab,source_screen_name,source_type,target\n",
      "\n"
     ]
    }
   ],
   "source": [
    "# k = 0\n",
    "# users, songs, table = {}, {}, {}\n",
    "# targets = set([])\n",
    "# with open('../data/train.csv') as data_file:\n",
    "#     for line in data_file:\n",
    "#         k += 1\n",
    "#         if k == 1: \n",
    "#             print line\n",
    "#             continue\n",
    "#         data = line.split(',')\n",
    "#         if data[0] not in users:\n",
    "#             users[data[0]] = len(users)\n",
    "#             table[users[data[0]]] = {}\n",
    "#         if data[1] not in songs:\n",
    "#             songs[data[1]] = len(songs)\n",
    "#         target = int(data[-1].strip('\\n'))\n",
    "#         table.get(users[data[0]])[songs[data[1]]] = 1 if target == 1 else 0.5"
   ]
  },
  {
   "cell_type": "code",
   "execution_count": 10,
   "metadata": {},
   "outputs": [
    {
     "name": "stdout",
     "output_type": "stream",
     "text": [
      "30755 359966\n",
      "set([])\n"
     ]
    }
   ],
   "source": [
    "# print len(users), len(songs)"
   ]
  },
  {
   "cell_type": "code",
   "execution_count": null,
   "metadata": {
    "collapsed": true
   },
   "outputs": [],
   "source": []
  },
  {
   "cell_type": "code",
   "execution_count": 11,
   "metadata": {
    "collapsed": true
   },
   "outputs": [],
   "source": [
    "# with open('users_dict.pickle', 'wb') as handle:\n",
    "#     pickle.dump(users, handle, protocol=pickle.HIGHEST_PROTOCOL)\n",
    "# with open('songs_dict.pickle', 'wb') as handle:\n",
    "#     pickle.dump(songs, handle, protocol=pickle.HIGHEST_PROTOCOL)\n",
    "# with open('table_dict.pickle', 'wb') as handle:\n",
    "#     pickle.dump(table, handle, protocol=pickle.HIGHEST_PROTOCOL)"
   ]
  },
  {
   "cell_type": "code",
   "execution_count": 6,
   "metadata": {},
   "outputs": [
    {
     "name": "stdout",
     "output_type": "stream",
     "text": [
      "song_id,song_length,genre_ids,artist_name,composer,lyricist,language\n",
      "\n"
     ]
    }
   ],
   "source": [
    "k = 0\n",
    "song_to_singer = {}\n",
    "with open('../data/songs.csv') as data_file:\n",
    "    for line in data_file:\n",
    "        k += 1\n",
    "        if k == 1: \n",
    "            print line\n",
    "            continue\n",
    "        data = line.split(',')\n",
    "        song, singer = data[0], data[3]\n",
    "        song_to_singer[song] = singer"
   ]
  },
  {
   "cell_type": "code",
   "execution_count": 9,
   "metadata": {},
   "outputs": [
    {
     "name": "stdout",
     "output_type": "stream",
     "text": [
      "msno,song_id,source_system_tab,source_screen_name,source_type,target\n",
      "\n"
     ]
    }
   ],
   "source": [
    "k = 0\n",
    "user_to_singer = {}\n",
    "with open('../data/train.csv') as data_file:\n",
    "    for line in data_file:\n",
    "        k += 1\n",
    "        if k == 1: \n",
    "            print line\n",
    "            continue\n",
    "        data = line.split(',')\n",
    "        user, song = data[0], data[1]\n",
    "        singer = song_to_singer.get(song,-1)\n",
    "        if singer == -1:\n",
    "            continue\n",
    "        if user not in user_to_singer: \n",
    "            user_to_singer[user] = set([])\n",
    "        user_to_singer.get(user).add(singer)"
   ]
  },
  {
   "cell_type": "code",
   "execution_count": 10,
   "metadata": {},
   "outputs": [
    {
     "name": "stdout",
     "output_type": "stream",
     "text": [
      "30755\n"
     ]
    }
   ],
   "source": [
    "print len(user_to_singer)"
   ]
  },
  {
   "cell_type": "code",
   "execution_count": 11,
   "metadata": {
    "collapsed": true
   },
   "outputs": [],
   "source": [
    "with open('song_to_singer.pickle', 'wb') as handle:\n",
    "    pickle.dump(song_to_singer, handle, protocol=pickle.HIGHEST_PROTOCOL)\n",
    "with open('user_to_singer.pickle', 'wb') as handle:\n",
    "    pickle.dump(user_to_singer, handle, protocol=pickle.HIGHEST_PROTOCOL)"
   ]
  },
  {
   "cell_type": "code",
   "execution_count": 12,
   "metadata": {},
   "outputs": [
    {
     "name": "stdout",
     "output_type": "stream",
     "text": [
      "done\n"
     ]
    }
   ],
   "source": [
    "print 'done'"
   ]
  },
  {
   "cell_type": "code",
   "execution_count": null,
   "metadata": {
    "collapsed": true
   },
   "outputs": [],
   "source": []
  }
 ],
 "metadata": {
  "anaconda-cloud": {},
  "kernelspec": {
   "display_name": "Python [conda env:py2]",
   "language": "python",
   "name": "conda-env-py2-py"
  },
  "language_info": {
   "codemirror_mode": {
    "name": "ipython",
    "version": 2
   },
   "file_extension": ".py",
   "mimetype": "text/x-python",
   "name": "python",
   "nbconvert_exporter": "python",
   "pygments_lexer": "ipython2",
   "version": "2.7.13"
  }
 },
 "nbformat": 4,
 "nbformat_minor": 2
}
