{
 "cells": [
  {
   "cell_type": "code",
   "execution_count": 14,
   "metadata": {},
   "outputs": [],
   "source": [
    "import pickle\n",
    "import numpy as np\n",
    "import pandas as pd"
   ]
  },
  {
   "cell_type": "code",
   "execution_count": 4,
   "metadata": {},
   "outputs": [],
   "source": [
    "data_path = '../data/'\n",
    "p_tests = pickle.load(open(data_path + 'p_tests', 'rb'))\n",
    "weights = pickle.load(open(data_path + 'weights', 'rb'))"
   ]
  },
  {
   "cell_type": "code",
   "execution_count": 21,
   "metadata": {},
   "outputs": [
    {
     "name": "stdout",
     "output_type": "stream",
     "text": [
      "2556790\n",
      "12 2556790\n"
     ]
    }
   ],
   "source": [
    "X_test = test.drop(['id'], axis=1)\n",
    "ids = test['id'].values\n",
    "print len(ids)\n",
    "print len(result), len(p_test)"
   ]
  },
  {
   "cell_type": "code",
   "execution_count": 23,
   "metadata": {},
   "outputs": [],
   "source": [
    "weights0 = weights"
   ]
  },
  {
   "cell_type": "code",
   "execution_count": 30,
   "metadata": {},
   "outputs": [],
   "source": [
    "p_tests0 = p_tests"
   ]
  },
  {
   "cell_type": "code",
   "execution_count": 37,
   "metadata": {},
   "outputs": [],
   "source": [
    "weights = weights0[4:6] + weights0[8:]\n",
    "p_tests = p_tests0[4:6] + p_tests0[8:]"
   ]
  },
  {
   "cell_type": "code",
   "execution_count": 39,
   "metadata": {},
   "outputs": [],
   "source": [
    "weights = [(x * 20 ) ** 2 for x in weights]"
   ]
  },
  {
   "cell_type": "code",
   "execution_count": 40,
   "metadata": {},
   "outputs": [
    {
     "name": "stdout",
     "output_type": "stream",
     "text": [
      "Done making predictions\n"
     ]
    }
   ],
   "source": [
    "result = (np.array(p_tests).T * np.array(weights)).T\n",
    "print('Done making predictions')"
   ]
  },
  {
   "cell_type": "code",
   "execution_count": 41,
   "metadata": {},
   "outputs": [
    {
     "name": "stdout",
     "output_type": "stream",
     "text": [
      "[ 115.8680555   122.17389658   13.57597308 ...,   43.82378372   85.99886013\n",
      "   87.12021772]\n",
      "1113.63836943\n"
     ]
    }
   ],
   "source": [
    "print result[0]\n",
    "total = np.sum(weights)\n",
    "print total"
   ]
  },
  {
   "cell_type": "code",
   "execution_count": 42,
   "metadata": {},
   "outputs": [
    {
     "name": "stdout",
     "output_type": "stream",
     "text": [
      "(6, 2556790)\n",
      "(2556790,)\n",
      "(1, 2556790)\n",
      "0.438444496455\n",
      "0.511562830102\n",
      "0.0975421339922\n"
     ]
    }
   ],
   "source": [
    "print (np.shape(result))\n",
    "mat = np.sum(np.matrix(result), axis = 0)\n",
    "p_test = [x / total for x in (mat.tolist()[0])]\n",
    "print (np.shape(p_test))\n",
    "print np.shape(mat)\n",
    "for x in p_test[:3]:\n",
    "    print (x)"
   ]
  },
  {
   "cell_type": "code",
   "execution_count": 43,
   "metadata": {},
   "outputs": [
    {
     "name": "stdout",
     "output_type": "stream",
     "text": [
      "Saving predictions Model model of gbdt\n",
      "Done!\n"
     ]
    }
   ],
   "source": [
    "print ('Saving predictions Model model of gbdt')\n",
    "\n",
    "subm = pd.DataFrame()\n",
    "subm['id'] = ids\n",
    "subm['target'] = p_test\n",
    "subm.to_csv(data_path + '../submissions/submission_lgbm_avg22.csv.gz', compression = 'gzip', index=False, float_format = '%.5f')\n",
    "\n",
    "print('Done!')"
   ]
  },
  {
   "cell_type": "code",
   "execution_count": null,
   "metadata": {},
   "outputs": [],
   "source": []
  }
 ],
 "metadata": {
  "kernelspec": {
   "display_name": "Python 2",
   "language": "python",
   "name": "python2"
  },
  "language_info": {
   "codemirror_mode": {
    "name": "ipython",
    "version": 2
   },
   "file_extension": ".py",
   "mimetype": "text/x-python",
   "name": "python",
   "nbconvert_exporter": "python",
   "pygments_lexer": "ipython2",
   "version": "2.7.11"
  }
 },
 "nbformat": 4,
 "nbformat_minor": 2
}
