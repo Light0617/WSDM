{
 "cells": [
  {
   "cell_type": "code",
   "execution_count": 1,
   "metadata": {},
   "outputs": [
    {
     "name": "stderr",
     "output_type": "stream",
     "text": [
      "/Users/light/anaconda/lib/python3.5/site-packages/sklearn/cross_validation.py:44: DeprecationWarning: This module was deprecated in version 0.18 in favor of the model_selection module into which all the refactored classes and functions are moved. Also note that the interface of the new CV iterators are different from that of this module. This module will be removed in 0.20.\n",
      "  \"This module will be removed in 0.20.\", DeprecationWarning)\n"
     ]
    }
   ],
   "source": [
    "import numpy as np\n",
    "import pandas as pd\n",
    "\n",
    "from sklearn.model_selection import train_test_split\n",
    "from sklearn.preprocessing import LabelEncoder\n",
    "\n",
    "from tqdm import tqdm\n",
    "import xgboost as xgb\n",
    "\n",
    "import pickle"
   ]
  },
  {
   "cell_type": "code",
   "execution_count": 2,
   "metadata": {
    "collapsed": true
   },
   "outputs": [],
   "source": [
    "data_path = '../data/'\n",
    "train = pd.read_csv(data_path + 'train.csv')\n",
    "test = pd.read_csv(data_path + 'test.csv')\n",
    "songs = pd.read_csv(data_path + 'songs1.csv')\n",
    "members = pd.read_csv(data_path + 'members.csv')\n",
    "\n",
    "song_cols = ['song_id', 'song_length', 'genre_ids', 'artist_name', 'composer',\\\n",
    "            'lyricist', 'language', 'song_name', 'song_country', 'song_year']\n",
    "\n",
    "train = train.merge(songs[song_cols], on='song_id', how='left')\n",
    "test = test.merge(songs[song_cols], on='song_id', how='left')\n",
    "\n",
    "members['registration_year'] = members['registration_init_time'].apply(lambda x: int(str(x)[0:4]))\n",
    "members['registration_month'] = members['registration_init_time'].apply(lambda x: int(str(x)[4:6]))\n",
    "members['registration_date'] = members['registration_init_time'].apply(lambda x: int(str(x)[6:8]))\n",
    "\n",
    "members['expiration_year'] = members['expiration_date'].apply(lambda x: int(str(x)[0:4]))\n",
    "members['expiration_month'] = members['expiration_date'].apply(lambda x: int(str(x)[4:6]))\n",
    "members['expiration_date'] = members['expiration_date'].apply(lambda x: int(str(x)[6:8]))\n",
    "member = members.drop(['registration_year', 'expiration_year'], axis=1)\n",
    "\n",
    "members_cols = members.columns\n",
    "train = train.merge(members[members_cols], on='msno', how='left')\n",
    "test = test.merge(members[members_cols], on='msno', how='left')\n",
    "\n",
    "train = train.fillna(-1)\n",
    "test = test.fillna(-1)"
   ]
  },
  {
   "cell_type": "code",
   "execution_count": 13,
   "metadata": {},
   "outputs": [
    {
     "name": "stdout",
     "output_type": "stream",
     "text": [
      "id\n",
      "song_id\n",
      "song_length\n",
      "genre_ids\n",
      "artist_name\n",
      "composer\n",
      "lyricist\n",
      "language\n",
      "song_name\n",
      "isrc\n",
      "song_country\n",
      "song_year\n"
     ]
    }
   ],
   "source": [
    "for x in list(songs):\n",
    "    print (x)"
   ]
  },
  {
   "cell_type": "code",
   "execution_count": 15,
   "metadata": {},
   "outputs": [
    {
     "data": {
      "text/plain": [
       "0           Bastille\n",
       "1    Various Artists\n",
       "2                Nas\n",
       "3           Soundway\n",
       "Name: artist_name, dtype: object"
      ]
     },
     "execution_count": 15,
     "metadata": {},
     "output_type": "execute_result"
    }
   ],
   "source": [
    "train['artist_name'][:4]"
   ]
  },
  {
   "cell_type": "code",
   "execution_count": 3,
   "metadata": {
    "collapsed": true
   },
   "outputs": [],
   "source": [
    "#<class 'pandas.core.series.Series'> object\n",
    "#pandas.core.frame.DataFrame"
   ]
  },
  {
   "cell_type": "code",
   "execution_count": 3,
   "metadata": {
    "scrolled": false
   },
   "outputs": [
    {
     "name": "stderr",
     "output_type": "stream",
     "text": [
      "  4%|▍         | 1/25 [00:23<09:26, 23.59s/it]"
     ]
    },
    {
     "name": "stdout",
     "output_type": "stream",
     "text": [
      "msno: 30755, 25131\n"
     ]
    },
    {
     "name": "stderr",
     "output_type": "stream",
     "text": [
      "\r",
      "  8%|▊         | 2/25 [01:23<15:57, 41.63s/it]"
     ]
    },
    {
     "name": "stdout",
     "output_type": "stream",
     "text": [
      "song_id: 359966, 224753\n"
     ]
    },
    {
     "name": "stderr",
     "output_type": "stream",
     "text": [
      "\r",
      " 12%|█▏        | 3/25 [01:40<12:20, 33.67s/it]"
     ]
    },
    {
     "name": "stdout",
     "output_type": "stream",
     "text": [
      "source_system_tab: 10, 10\n"
     ]
    },
    {
     "name": "stderr",
     "output_type": "stream",
     "text": [
      "\r",
      " 16%|█▌        | 4/25 [02:00<10:31, 30.08s/it]"
     ]
    },
    {
     "name": "stdout",
     "output_type": "stream",
     "text": [
      "source_screen_name: 21, 23\n"
     ]
    },
    {
     "name": "stderr",
     "output_type": "stream",
     "text": [
      "\r",
      " 20%|██        | 5/25 [02:21<09:26, 28.31s/it]"
     ]
    },
    {
     "name": "stdout",
     "output_type": "stream",
     "text": [
      "source_type: 13, 13\n"
     ]
    },
    {
     "name": "stderr",
     "output_type": "stream",
     "text": [
      "\r",
      " 28%|██▊       | 7/25 [02:41<06:56, 23.13s/it]"
     ]
    },
    {
     "name": "stdout",
     "output_type": "stream",
     "text": [
      "genre_ids: 573, 502\n"
     ]
    },
    {
     "name": "stderr",
     "output_type": "stream",
     "text": [
      "\r",
      " 32%|███▏      | 8/25 [03:32<07:32, 26.60s/it]"
     ]
    },
    {
     "name": "stdout",
     "output_type": "stream",
     "text": [
      "artist_name: 40583, 27564\n"
     ]
    },
    {
     "name": "stderr",
     "output_type": "stream",
     "text": [
      "\r",
      " 36%|███▌      | 9/25 [05:20<09:30, 35.65s/it]"
     ]
    },
    {
     "name": "stdout",
     "output_type": "stream",
     "text": [
      "composer: 76065, 52307\n"
     ]
    },
    {
     "name": "stderr",
     "output_type": "stream",
     "text": [
      "\r",
      " 40%|████      | 10/25 [05:57<08:55, 35.73s/it]"
     ]
    },
    {
     "name": "stdout",
     "output_type": "stream",
     "text": [
      "lyricist: 33890, 24911\n"
     ]
    },
    {
     "name": "stderr",
     "output_type": "stream",
     "text": [
      "\r",
      " 48%|████▊     | 12/25 [07:52<08:31, 39.37s/it]"
     ]
    },
    {
     "name": "stdout",
     "output_type": "stream",
     "text": [
      "song_name: 234112, 154708\n"
     ]
    },
    {
     "name": "stderr",
     "output_type": "stream",
     "text": [
      "\r",
      " 52%|█████▏    | 13/25 [08:12<07:34, 37.90s/it]"
     ]
    },
    {
     "name": "stdout",
     "output_type": "stream",
     "text": [
      "song_country: 110, 97\n"
     ]
    },
    {
     "name": "stderr",
     "output_type": "stream",
     "text": [
      "100%|██████████| 25/25 [08:27<00:00, 20.30s/it]"
     ]
    },
    {
     "name": "stdout",
     "output_type": "stream",
     "text": [
      "gender: 3, 3\n"
     ]
    },
    {
     "name": "stderr",
     "output_type": "stream",
     "text": [
      "\n"
     ]
    }
   ],
   "source": [
    "# Preprocess dataset\n",
    "cols = list(train.columns)\n",
    "cols.remove('target')\n",
    "\n",
    "for col in tqdm(cols):\n",
    "    try:\n",
    "        if train[col].dtype == 'object':\n",
    "            train[col] = train[col].apply(str)\n",
    "            test[col] = test[col].apply(str)\n",
    "\n",
    "            le = LabelEncoder()\n",
    "            train_vals = list(train[col].unique())\n",
    "            test_vals = list(test[col].unique())\n",
    "            le.fit(train_vals + test_vals)\n",
    "            train[col] = le.transform(train[col])\n",
    "            test[col] = le.transform(test[col])\n",
    "\n",
    "            print(col + ': ' + str(len(train_vals)) + ', ' + str(len(test_vals)))\n",
    "    except:\n",
    "        print (col, type(train[col]))\n",
    "        break\n",
    "\n"
   ]
  },
  {
   "cell_type": "code",
   "execution_count": 6,
   "metadata": {},
   "outputs": [
    {
     "name": "stdout",
     "output_type": "stream",
     "text": [
      "    msno  song_id  source_system_tab  source_screen_name  source_type  target  \\\n",
      "0   9176    86884                  2                   8            7       1   \n",
      "1  19273   260594                  4                   9            5       1   \n",
      "2  19273   140755                  4                   9            5       1   \n",
      "3  19273    27577                  4                   9            5       1   \n",
      "4   9176    38706                  2                   8            7       1   \n",
      "\n",
      "   song_length  genre_ids  artist_name  composer        ...         bd  \\\n",
      "0     206471.0        308         3785     16654        ...          0   \n",
      "1     284584.0         98        36868        71        ...         24   \n",
      "2     225396.0         98        24602     51541        ...         24   \n",
      "3     255512.0          7        31652     41992        ...         24   \n",
      "4     187802.0          3         5191      9702        ...          0   \n",
      "\n",
      "   gender  registered_via  registration_init_time  expiration_date  \\\n",
      "0       0               7                20120102                5   \n",
      "1       1               9                20110525               11   \n",
      "2       1               9                20110525               11   \n",
      "3       1               9                20110525               11   \n",
      "4       0               7                20120102                5   \n",
      "\n",
      "   registration_year  registration_month  registration_date  expiration_year  \\\n",
      "0               2012                   1                  2             2017   \n",
      "1               2011                   5                 25             2017   \n",
      "2               2011                   5                 25             2017   \n",
      "3               2011                   5                 25             2017   \n",
      "4               2012                   1                  2             2017   \n",
      "\n",
      "   expiration_month  \n",
      "0                10  \n",
      "1                 9  \n",
      "2                 9  \n",
      "3                 9  \n",
      "4                10  \n",
      "\n",
      "[5 rows x 26 columns]\n"
     ]
    }
   ],
   "source": [
    "print (train.head())\n",
    "    "
   ]
  },
  {
   "cell_type": "code",
   "execution_count": 19,
   "metadata": {},
   "outputs": [
    {
     "name": "stdout",
     "output_type": "stream",
     "text": [
      "    msno  song_id  source_system_tab  source_screen_name  source_type  target  \\\n",
      "0   9176    86884                  2                   8            7       1   \n",
      "1  19273   260594                  4                   9            5       1   \n",
      "2  19273   140755                  4                   9            5       1   \n",
      "3  19273    27577                  4                   9            5       1   \n",
      "4   9176    38706                  2                   8            7       1   \n",
      "\n",
      "   song_length  genre_ids  artist_name  composer        ...         bd  \\\n",
      "0     206471.0        308         3785     16654        ...          0   \n",
      "1     284584.0         98        36868        71        ...         24   \n",
      "2     225396.0         98        24602     51541        ...         24   \n",
      "3     255512.0          7        31652     41992        ...         24   \n",
      "4     187802.0          3         5191      9702        ...          0   \n",
      "\n",
      "   gender  registered_via  registration_init_time  expiration_date  \\\n",
      "0       0               7                20120102                5   \n",
      "1       1               9                20110525               11   \n",
      "2       1               9                20110525               11   \n",
      "3       1               9                20110525               11   \n",
      "4       0               7                20120102                5   \n",
      "\n",
      "   registration_year  registration_month  registration_date  expiration_year  \\\n",
      "0               2012                   1                  2             2017   \n",
      "1               2011                   5                 25             2017   \n",
      "2               2011                   5                 25             2017   \n",
      "3               2011                   5                 25             2017   \n",
      "4               2012                   1                  2             2017   \n",
      "\n",
      "   expiration_month  \n",
      "0                10  \n",
      "1                 9  \n",
      "2                 9  \n",
      "3                 9  \n",
      "4                10  \n",
      "\n",
      "[5 rows x 26 columns]\n",
      "   id   msno  song_id  source_system_tab  source_screen_name  source_type  \\\n",
      "0   0  17724   228222                  4                   9            4   \n",
      "1   1  17724   407039                  4                   9            4   \n",
      "2   2    977    70211                  1                   0           10   \n",
      "3   3   1878   419092                  7                  17            8   \n",
      "4   4   1878   160096                  7                  17            8   \n",
      "\n",
      "   song_length  genre_ids  artist_name  composer        ...         bd  \\\n",
      "0     224130.0        365        42813     56690        ...          0   \n",
      "1     320470.0        372        42633     79915        ...          0   \n",
      "2     315899.0        201        38493     73207        ...          0   \n",
      "3     285210.0        372        36424     67328        ...         30   \n",
      "4     197590.0        520        38299     52439        ...         30   \n",
      "\n",
      "   gender  registered_via  registration_init_time  expiration_date  \\\n",
      "0       0               7                20160219               18   \n",
      "1       0               7                20160219               18   \n",
      "2       0               4                20161117               24   \n",
      "3       2               9                20070725               30   \n",
      "4       2               9                20070725               30   \n",
      "\n",
      "   registration_year  registration_month  registration_date  expiration_year  \\\n",
      "0               2016                   2                 19             2017   \n",
      "1               2016                   2                 19             2017   \n",
      "2               2016                  11                 17             2016   \n",
      "3               2007                   7                 25             2017   \n",
      "4               2007                   7                 25             2017   \n",
      "\n",
      "   expiration_month  \n",
      "0                 9  \n",
      "1                 9  \n",
      "2                11  \n",
      "3                 4  \n",
      "4                 4  \n",
      "\n",
      "[5 rows x 26 columns]\n"
     ]
    }
   ],
   "source": [
    "print(train.head())\n",
    "print(test.head())\n",
    "\n",
    "X = np.array(train.drop(['target'], axis=1))\n",
    "y = train['target'].values\n",
    "\n",
    "X_test = np.array(test.drop(['id'], axis=1))\n",
    "ids = test['id'].values\n",
    "\n",
    "X_train, X_valid, y_train, y_valid = train_test_split(X, y, \\\n",
    "    test_size=0.2, random_state=0)\n",
    "\n",
    "\n",
    "d_train = xgb.DMatrix(X_train, label=y_train)\n",
    "d_valid = xgb.DMatrix(X_valid, label=y_valid) \n",
    "d_test = xgb.DMatrix(X_test)\n",
    "\n",
    "eval_set = [(X_train, y_train), (X_valid, y_valid)]\n",
    "watchlist = [(d_train, 'train'), (d_valid, 'valid')]"
   ]
  },
  {
   "cell_type": "code",
   "execution_count": null,
   "metadata": {
    "collapsed": true
   },
   "outputs": [],
   "source": [
    "for x in list(train)\n",
    "    print (x)"
   ]
  },
  {
   "cell_type": "code",
   "execution_count": 20,
   "metadata": {},
   "outputs": [
    {
     "name": "stdout",
     "output_type": "stream",
     "text": [
      "The history saving thread hit an unexpected error (OperationalError('unable to open database file',)).History will not be written to the database.\n"
     ]
    }
   ],
   "source": [
    "# Train model, evaluate and make predictions\n",
    "def model(eta, max_depth):\n",
    "    params = {}\n",
    "    params['objective'] = 'binary:logistic'\n",
    "    params['eta'] = eta #0.7\n",
    "    params['max_depth'] = max_depth #5\n",
    "    params['silent'] = 1\n",
    "    params['eval_metric'] = 'auc'\n",
    "    params['subsample'] = 1.0 #1.0\n",
    "    params['min_child_weight'] = 5 #5\n",
    "    params['colsample_bytree'] = 0.2 # 0.2\n",
    "    evals_result = {}\n",
    "    \n",
    "    model = xgb.train(params, d_train, 105, watchlist, early_stopping_rounds=20, \\\n",
    "        maximize=True, verbose_eval=10, evals_result = evals_result)\n",
    "\n",
    "    p_test = model.predict(d_test)\n",
    "    return [p_test, [evals_result['train']['auc'][-1], evals_result['valid']['auc'][-1]]]"
   ]
  },
  {
   "cell_type": "code",
   "execution_count": 58,
   "metadata": {
    "collapsed": true
   },
   "outputs": [],
   "source": [
    "etas = [0.01 * (2 ** x) for x in range(1, 8)] # 0.01 to 1.28\n",
    "subsamples = [0.1 * x for x in range(5, 11)]\n",
    "min_child_weights = [ x for x in range(2, 10)] \n",
    "colsample_bytrees = [0.1 * x for x in range(1, 11)]"
   ]
  },
  {
   "cell_type": "code",
   "execution_count": 91,
   "metadata": {
    "scrolled": false
   },
   "outputs": [
    {
     "name": "stdout",
     "output_type": "stream",
     "text": [
      "[0]\ttrain-auc:0.672375\tvalid-auc:0.669357\n",
      "Multiple eval metrics have been passed: 'valid-auc' will be used for early stopping.\n",
      "\n",
      "Will train until valid-auc hasn't improved in 20 rounds.\n",
      "[10]\ttrain-auc:0.739736\tvalid-auc:0.723105\n",
      "[20]\ttrain-auc:0.770706\tvalid-auc:0.746783\n",
      "[30]\ttrain-auc:0.798802\tvalid-auc:0.767644\n",
      "[40]\ttrain-auc:0.810921\tvalid-auc:0.773276\n",
      "[50]\ttrain-auc:0.823404\tvalid-auc:0.77987\n",
      "[60]\ttrain-auc:0.834247\tvalid-auc:0.785858\n",
      "[70]\ttrain-auc:0.843202\tvalid-auc:0.790514\n",
      "[80]\ttrain-auc:0.850653\tvalid-auc:0.79307\n",
      "[90]\ttrain-auc:0.857859\tvalid-auc:0.795769\n",
      "[100]\ttrain-auc:0.86311\tvalid-auc:0.79654\n",
      "[0]\ttrain-auc:0.67369\tvalid-auc:0.67017\n",
      "Multiple eval metrics have been passed: 'valid-auc' will be used for early stopping.\n",
      "\n",
      "Will train until valid-auc hasn't improved in 20 rounds.\n",
      "[10]\ttrain-auc:0.749925\tvalid-auc:0.728443\n",
      "[20]\ttrain-auc:0.783072\tvalid-auc:0.752503\n",
      "[30]\ttrain-auc:0.813068\tvalid-auc:0.773582\n",
      "[40]\ttrain-auc:0.825832\tvalid-auc:0.77869\n",
      "[50]\ttrain-auc:0.839455\tvalid-auc:0.785351\n",
      "[60]\ttrain-auc:0.851073\tvalid-auc:0.791097\n",
      "[70]\ttrain-auc:0.860324\tvalid-auc:0.795368\n",
      "[80]\ttrain-auc:0.868441\tvalid-auc:0.797784\n",
      "[90]\ttrain-auc:0.876472\tvalid-auc:0.800526\n",
      "[100]\ttrain-auc:0.882261\tvalid-auc:0.801014\n",
      "[0]\ttrain-auc:0.674863\tvalid-auc:0.670773\n",
      "Multiple eval metrics have been passed: 'valid-auc' will be used for early stopping.\n",
      "\n",
      "Will train until valid-auc hasn't improved in 20 rounds.\n",
      "[10]\ttrain-auc:0.760956\tvalid-auc:0.733247\n",
      "[20]\ttrain-auc:0.796022\tvalid-auc:0.757441\n",
      "[30]\ttrain-auc:0.828798\tvalid-auc:0.778972\n",
      "[40]\ttrain-auc:0.842513\tvalid-auc:0.783583\n",
      "[50]\ttrain-auc:0.857326\tvalid-auc:0.789969\n",
      "[60]\ttrain-auc:0.86853\tvalid-auc:0.795172\n",
      "[70]\ttrain-auc:0.878346\tvalid-auc:0.799488\n",
      "[80]\ttrain-auc:0.887056\tvalid-auc:0.801623\n",
      "[90]\ttrain-auc:0.894688\tvalid-auc:0.804187\n",
      "[100]\ttrain-auc:0.900706\tvalid-auc:0.804256\n",
      "[0]\ttrain-auc:0.675808\tvalid-auc:0.671345\n",
      "Multiple eval metrics have been passed: 'valid-auc' will be used for early stopping.\n",
      "\n",
      "Will train until valid-auc hasn't improved in 20 rounds.\n",
      "[10]\ttrain-auc:0.771427\tvalid-auc:0.73736\n",
      "[20]\ttrain-auc:0.808039\tvalid-auc:0.761832\n",
      "[30]\ttrain-auc:0.841063\tvalid-auc:0.781882\n",
      "[40]\ttrain-auc:0.855859\tvalid-auc:0.78656\n",
      "[50]\ttrain-auc:0.8708\tvalid-auc:0.792559\n",
      "[60]\ttrain-auc:0.882408\tvalid-auc:0.797326\n",
      "[70]\ttrain-auc:0.892159\tvalid-auc:0.80082\n",
      "[80]\ttrain-auc:0.901298\tvalid-auc:0.802666\n",
      "[90]\ttrain-auc:0.909059\tvalid-auc:0.804741\n",
      "[100]\ttrain-auc:0.915051\tvalid-auc:0.804597\n",
      "[0]\ttrain-auc:0.676576\tvalid-auc:0.671717\n",
      "Multiple eval metrics have been passed: 'valid-auc' will be used for early stopping.\n",
      "\n",
      "Will train until valid-auc hasn't improved in 20 rounds.\n",
      "[10]\ttrain-auc:0.78058\tvalid-auc:0.739983\n",
      "[20]\ttrain-auc:0.819239\tvalid-auc:0.765152\n",
      "[30]\ttrain-auc:0.854051\tvalid-auc:0.785333\n",
      "[40]\ttrain-auc:0.869184\tvalid-auc:0.789676\n",
      "[50]\ttrain-auc:0.884966\tvalid-auc:0.7959\n",
      "[60]\ttrain-auc:0.896602\tvalid-auc:0.79981\n",
      "[70]\ttrain-auc:0.906958\tvalid-auc:0.802825\n",
      "[80]\ttrain-auc:0.915946\tvalid-auc:0.804315\n",
      "[90]\ttrain-auc:0.923752\tvalid-auc:0.806421\n",
      "[100]\ttrain-auc:0.930558\tvalid-auc:0.806149\n",
      "[0]\ttrain-auc:0.677127\tvalid-auc:0.671899\n",
      "Multiple eval metrics have been passed: 'valid-auc' will be used for early stopping.\n",
      "\n",
      "Will train until valid-auc hasn't improved in 20 rounds.\n",
      "[10]\ttrain-auc:0.790114\tvalid-auc:0.742076\n",
      "[20]\ttrain-auc:0.829112\tvalid-auc:0.766631\n",
      "[30]\ttrain-auc:0.865996\tvalid-auc:0.78695\n",
      "[40]\ttrain-auc:0.881608\tvalid-auc:0.791332\n",
      "[50]\ttrain-auc:0.897102\tvalid-auc:0.797254\n",
      "[60]\ttrain-auc:0.909128\tvalid-auc:0.800333\n",
      "[70]\ttrain-auc:0.919881\tvalid-auc:0.803602\n",
      "[80]\ttrain-auc:0.928652\tvalid-auc:0.804923\n",
      "[90]\ttrain-auc:0.936527\tvalid-auc:0.80696\n",
      "[100]\ttrain-auc:0.942325\tvalid-auc:0.806766\n"
     ]
    }
   ],
   "source": [
    "p_tests = []\n",
    "weights = []\n",
    "for max_depth in range(15, 21):\n",
    "    for eta in [0.3]:\n",
    "        p_test, res = model(eta, max_depth)\n",
    "        with open('%s_%s.pickle' % (eta*10, max_depth),\\\n",
    "                                      'wb')as handle:\n",
    "            pickle.dump(p_test, handle, protocol=pickle.HIGHEST_PROTOCOL)\n",
    "        with open('%s_%s_res.pickle' % (eta*10, max_depth),\\\n",
    "                                      'wb')as handle:\n",
    "            pickle.dump(res, handle, protocol=pickle.HIGHEST_PROTOCOL)\n",
    "        p_tests += p_test,\n",
    "        weights += res,"
   ]
  },
  {
   "cell_type": "code",
   "execution_count": 92,
   "metadata": {},
   "outputs": [
    {
     "name": "stdout",
     "output_type": "stream",
     "text": [
      "[0.79709, 0.801606, 0.804713, 0.805065, 0.806413, 0.806967]\n"
     ]
    }
   ],
   "source": [
    "weights = [x[1] for x in weights]\n",
    "print (weights)"
   ]
  },
  {
   "cell_type": "code",
   "execution_count": 93,
   "metadata": {},
   "outputs": [
    {
     "name": "stdout",
     "output_type": "stream",
     "text": [
      "4.821854\n"
     ]
    }
   ],
   "source": [
    "total = np.sum(weights)\n",
    "print (total)\n",
    "result = (np.array(p_tests).T * np.array(weights)).T"
   ]
  },
  {
   "cell_type": "code",
   "execution_count": 94,
   "metadata": {},
   "outputs": [
    {
     "name": "stdout",
     "output_type": "stream",
     "text": [
      "(6, 2556790)\n",
      "(2556790,)\n"
     ]
    }
   ],
   "source": [
    "print (np.shape(result))\n",
    "mat = np.sum(np.matrix(result), axis = 0)\n",
    "p_test = [x / total for x in (mat.tolist()[0])]\n",
    "print (np.shape(p_test))"
   ]
  },
  {
   "cell_type": "code",
   "execution_count": 95,
   "metadata": {},
   "outputs": [
    {
     "name": "stdout",
     "output_type": "stream",
     "text": [
      "0.575256256761\n",
      "0.594704083322\n",
      "0.0494060050799\n",
      "0.164167855608\n",
      "0.171569517369\n",
      "0.0749725261829\n",
      "0.172234587915\n",
      "0.756745259223\n",
      "0.0690728427169\n",
      "0.755896027506\n"
     ]
    }
   ],
   "source": [
    "for x in p_test[:10]:\n",
    "    print (x)"
   ]
  },
  {
   "cell_type": "code",
   "execution_count": 96,
   "metadata": {
    "collapsed": true
   },
   "outputs": [],
   "source": [
    "# with open('p_tests.pickle', 'wb') as handle:\n",
    "#     pickle.dump(p_tests, handle, protocol=pickle.HIGHEST_PROTOCOL)\n",
    "# with open('weights.pickle', 'wb') as handle:\n",
    "#     pickle.dump(weights, handle, protocol=pickle.HIGHEST_PROTOCOL)"
   ]
  },
  {
   "cell_type": "code",
   "execution_count": 97,
   "metadata": {},
   "outputs": [
    {
     "name": "stdout",
     "output_type": "stream",
     "text": [
      "1124953.3455\n"
     ]
    }
   ],
   "source": [
    "print (np.sum(p_test))"
   ]
  },
  {
   "cell_type": "code",
   "execution_count": 98,
   "metadata": {},
   "outputs": [
    {
     "name": "stdout",
     "output_type": "stream",
     "text": [
      "2556790 2556790\n"
     ]
    }
   ],
   "source": [
    "# Prepare submission\n",
    "subm = pd.DataFrame()\n",
    "subm['id'] = ids\n",
    "subm['target'] = p_test\n",
    "print(len(ids), len(p_test))\n",
    "subm.to_csv('../submissions/submission.csv', index=False)"
   ]
  },
  {
   "cell_type": "code",
   "execution_count": null,
   "metadata": {
    "collapsed": true
   },
   "outputs": [],
   "source": []
  }
 ],
 "metadata": {
  "anaconda-cloud": {},
  "kernelspec": {
   "display_name": "Python 2",
   "language": "python",
   "name": "python2"
  },
  "language_info": {
   "codemirror_mode": {
    "name": "ipython",
    "version": 2
   },
   "file_extension": ".py",
   "mimetype": "text/x-python",
   "name": "python",
   "nbconvert_exporter": "python",
   "pygments_lexer": "ipython2",
   "version": "2.7.14"
  }
 },
 "nbformat": 4,
 "nbformat_minor": 2
}
