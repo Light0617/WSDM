{
 "cells": [
  {
   "cell_type": "code",
   "execution_count": 1,
   "metadata": {},
   "outputs": [],
   "source": [
    "import numpy as np\n",
    "import pandas as pd\n",
    "\n",
    "from sklearn.model_selection import train_test_split\n",
    "from sklearn.preprocessing import LabelEncoder\n",
    "\n",
    "from tqdm import tqdm\n",
    "import xgboost as xgb\n",
    "\n",
    "import pickle"
   ]
  },
  {
   "cell_type": "code",
   "execution_count": 2,
   "metadata": {},
   "outputs": [],
   "source": [
    "data_path = '../data/'\n",
    "test = pickle.load(open(data_path + 'test', 'r'))\n",
    "train = pickle.load(open(data_path + 'train', 'r'))"
   ]
  },
  {
   "cell_type": "code",
   "execution_count": 3,
   "metadata": {},
   "outputs": [],
   "source": [
    "# print train.head(0)"
   ]
  },
  {
   "cell_type": "code",
   "execution_count": 5,
   "metadata": {},
   "outputs": [
    {
     "name": "stdout",
     "output_type": "stream",
     "text": [
      "                                           msno  \\\n",
      "0  FGtllVqz18RPiwJj/edr2gV78zirAiY/9SmYvia+kCg=   \n",
      "1  Xumu+NIjS6QYVxDS4/t3SawvJ7viT9hPKXmf0RtLNx8=   \n",
      "2  Xumu+NIjS6QYVxDS4/t3SawvJ7viT9hPKXmf0RtLNx8=   \n",
      "3  Xumu+NIjS6QYVxDS4/t3SawvJ7viT9hPKXmf0RtLNx8=   \n",
      "4  FGtllVqz18RPiwJj/edr2gV78zirAiY/9SmYvia+kCg=   \n",
      "\n",
      "                                        song_id source_system_tab  \\\n",
      "0  BBzumQNXUHKdEBOB7mAJuzok+IJA1c2Ryg/yzTF6tik=           explore   \n",
      "1  bhp/MpSNoqoxOIB+/l8WPqu6jldth4DIpCm3ayXnJqM=        my library   \n",
      "2  JNWfrrC7zNN7BdMpsISKa4Mw+xVJYNnxXh3/Epw7QgY=        my library   \n",
      "3  2A87tzfnJTSWqD7gIZHisolhe4DMdzkbd6LzO1KHjNs=        my library   \n",
      "4  3qm6XTZ6MOCU11x8FIVbAGH5l5uMkT3/ZalWG1oo2Gc=           explore   \n",
      "\n",
      "    source_screen_name      source_type  target  song_length genre_ids  \\\n",
      "0              Explore  online-playlist       1     206471.0       359   \n",
      "1  Local playlist more   local-playlist       1     284584.0      1259   \n",
      "2  Local playlist more   local-playlist       1     225396.0      1259   \n",
      "3  Local playlist more   local-playlist       1     255512.0      1019   \n",
      "4              Explore  online-playlist       1     187802.0      1011   \n",
      "\n",
      "       artist_name                                 composer        ...         \\\n",
      "0         Bastille                     Dan Smith| Mark Crew        ...          \n",
      "1  Various Artists                                       -1        ...          \n",
      "2              Nas     N. Jones、W. Adams、J. Lordan、D. Ingle        ...          \n",
      "3         Soundway                            Kwadwo Donkoh        ...          \n",
      "4      Brett Young  Brett Young| Kelly Archer| Justin Ebach        ...          \n",
      "\n",
      "   bd  gender registered_via registration_init_time  expiration_date  \\\n",
      "0   0      -1              7               20120102                5   \n",
      "1  24  female              9               20110525               11   \n",
      "2  24  female              9               20110525               11   \n",
      "3  24  female              9               20110525               11   \n",
      "4   0      -1              7               20120102                5   \n",
      "\n",
      "   registration_year  registration_month registration_date  expiration_year  \\\n",
      "0               2012                   1                 2             2017   \n",
      "1               2011                   5                25             2017   \n",
      "2               2011                   5                25             2017   \n",
      "3               2011                   5                25             2017   \n",
      "4               2012                   1                 2             2017   \n",
      "\n",
      "   expiration_month  \n",
      "0                10  \n",
      "1                 9  \n",
      "2                 9  \n",
      "3                 9  \n",
      "4                10  \n",
      "\n",
      "[5 rows x 26 columns]\n"
     ]
    }
   ],
   "source": [
    "#<class 'pandas.core.series.Series'> object\n",
    "#pandas.core.frame.DataFrame\n",
    "print train.head()"
   ]
  },
  {
   "cell_type": "code",
   "execution_count": 6,
   "metadata": {
    "scrolled": false
   },
   "outputs": [
    {
     "name": "stderr",
     "output_type": "stream",
     "text": [
      "  4%|▍         | 1/25 [00:34<13:53, 34.72s/it]"
     ]
    },
    {
     "name": "stdout",
     "output_type": "stream",
     "text": [
      "msno: 30755, 25131\n"
     ]
    },
    {
     "name": "stderr",
     "output_type": "stream",
     "text": [
      "\r",
      "  8%|▊         | 2/25 [02:14<25:46, 67.23s/it]"
     ]
    },
    {
     "name": "stdout",
     "output_type": "stream",
     "text": [
      "song_id: 359966, 224753\n"
     ]
    },
    {
     "name": "stderr",
     "output_type": "stream",
     "text": [
      "\r",
      " 12%|█▏        | 3/25 [02:33<18:42, 51.00s/it]"
     ]
    },
    {
     "name": "stdout",
     "output_type": "stream",
     "text": [
      "source_system_tab: 9, 9\n"
     ]
    },
    {
     "name": "stderr",
     "output_type": "stream",
     "text": [
      "\r",
      " 16%|█▌        | 4/25 [02:55<15:19, 43.78s/it]"
     ]
    },
    {
     "name": "stdout",
     "output_type": "stream",
     "text": [
      "source_screen_name: 21, 23\n"
     ]
    },
    {
     "name": "stderr",
     "output_type": "stream",
     "text": [
      "\r",
      " 20%|██        | 5/25 [03:15<13:03, 39.19s/it]"
     ]
    },
    {
     "name": "stdout",
     "output_type": "stream",
     "text": [
      "source_type: 13, 13\n"
     ]
    },
    {
     "name": "stderr",
     "output_type": "stream",
     "text": [
      "\r",
      " 28%|██▊       | 7/25 [03:39<09:24, 31.36s/it]"
     ]
    },
    {
     "name": "stdout",
     "output_type": "stream",
     "text": [
      "genre_ids: 573, 502\n"
     ]
    },
    {
     "name": "stderr",
     "output_type": "stream",
     "text": [
      "\r",
      " 32%|███▏      | 8/25 [04:17<09:07, 32.22s/it]"
     ]
    },
    {
     "name": "stdout",
     "output_type": "stream",
     "text": [
      "artist_name: 40583, 27564\n"
     ]
    },
    {
     "name": "stderr",
     "output_type": "stream",
     "text": [
      "\r",
      " 36%|███▌      | 9/25 [05:07<09:05, 34.12s/it]"
     ]
    },
    {
     "name": "stdout",
     "output_type": "stream",
     "text": [
      "composer: 76065, 52307\n"
     ]
    },
    {
     "name": "stderr",
     "output_type": "stream",
     "text": [
      "\r",
      " 40%|████      | 10/25 [05:38<08:27, 33.85s/it]"
     ]
    },
    {
     "name": "stdout",
     "output_type": "stream",
     "text": [
      "lyricist: 33889, 24911\n"
     ]
    },
    {
     "name": "stderr",
     "output_type": "stream",
     "text": [
      "\r",
      " 48%|████▊     | 12/25 [07:02<07:37, 35.22s/it]"
     ]
    },
    {
     "name": "stdout",
     "output_type": "stream",
     "text": [
      "song_name: 234112, 154708\n"
     ]
    },
    {
     "name": "stderr",
     "output_type": "stream",
     "text": [
      "\r",
      " 52%|█████▏    | 13/25 [07:22<06:48, 34.02s/it]"
     ]
    },
    {
     "name": "stdout",
     "output_type": "stream",
     "text": [
      "song_country: 110, 97\n"
     ]
    },
    {
     "name": "stderr",
     "output_type": "stream",
     "text": [
      "100%|██████████| 25/25 [07:36<00:00, 18.27s/it]"
     ]
    },
    {
     "name": "stdout",
     "output_type": "stream",
     "text": [
      "gender: 3, 3\n"
     ]
    },
    {
     "name": "stderr",
     "output_type": "stream",
     "text": [
      "\n"
     ]
    }
   ],
   "source": [
    "# Preprocess dataset\n",
    "cols = list(train.columns)\n",
    "cols.remove('target')\n",
    "\n",
    "for col in tqdm(cols):\n",
    "    try:\n",
    "        if train[col].dtype == 'object':\n",
    "            train[col] = train[col].apply(str)\n",
    "            test[col] = test[col].apply(str)\n",
    "\n",
    "            le = LabelEncoder()\n",
    "            train_vals = list(train[col].unique())\n",
    "            test_vals = list(test[col].unique())\n",
    "            le.fit(train_vals + test_vals)\n",
    "            train[col] = le.transform(train[col])\n",
    "            test[col] = le.transform(test[col])\n",
    "\n",
    "            print(col + ': ' + str(len(train_vals)) + ', ' + str(len(test_vals)))\n",
    "    except:\n",
    "        print (col, type(train[col]))\n",
    "        break"
   ]
  },
  {
   "cell_type": "code",
   "execution_count": 7,
   "metadata": {},
   "outputs": [
    {
     "name": "stdout",
     "output_type": "stream",
     "text": [
      "    msno  song_id  source_system_tab  source_screen_name  source_type  target  \\\n",
      "0   9176    86884                  2                   8            7       1   \n",
      "1  19273   260594                  4                   9            5       1   \n",
      "\n",
      "   song_length  genre_ids  artist_name  composer        ...         bd  \\\n",
      "0     206471.0        308         3785     16654        ...          0   \n",
      "1     284584.0         98        36868        71        ...         24   \n",
      "\n",
      "   gender  registered_via  registration_init_time  expiration_date  \\\n",
      "0       0               7                20120102                5   \n",
      "1       1               9                20110525               11   \n",
      "\n",
      "   registration_year  registration_month  registration_date  expiration_year  \\\n",
      "0               2012                   1                  2             2017   \n",
      "1               2011                   5                 25             2017   \n",
      "\n",
      "   expiration_month  \n",
      "0                10  \n",
      "1                 9  \n",
      "\n",
      "[2 rows x 26 columns]\n"
     ]
    }
   ],
   "source": [
    "print (train.head(2))"
   ]
  },
  {
   "cell_type": "code",
   "execution_count": 8,
   "metadata": {},
   "outputs": [],
   "source": [
    "X = np.array(train.drop(['target'], axis=1))\n",
    "y = train['target'].values\n",
    "\n",
    "X_test = np.array(test.drop(['id'], axis=1))\n",
    "ids = test['id'].values\n",
    "\n",
    "# X_train, X_valid, y_train, y_valid = train_test_split(X, y, \\\n",
    "#     test_size=0.2, random_state=0)\n",
    "l = int(np.shape(X)[0] * 0.8)\n",
    "X_train, X_valid, y_train, y_valid = X[:l], X[l:], y[:l], y[l:]\n",
    "\n",
    "\n",
    "d_train = xgb.DMatrix(X_train, label=y_train)\n",
    "d_valid = xgb.DMatrix(X_valid, label=y_valid) \n",
    "d_test = xgb.DMatrix(X_test)\n",
    "\n",
    "eval_set = [(X_train, y_train), (X_valid, y_valid)]\n",
    "watchlist = [(d_train, 'train'), (d_valid, 'valid')]"
   ]
  },
  {
   "cell_type": "code",
   "execution_count": 9,
   "metadata": {},
   "outputs": [],
   "source": [
    "# Train model, evaluate and make predictions\n",
    "def model(eta, max_depth):\n",
    "    params = {}\n",
    "    params['objective'] = 'binary:logistic'\n",
    "    params['eta'] = eta #0.7\n",
    "    params['max_depth'] = max_depth #5\n",
    "    params['silent'] = 1\n",
    "    params['eval_metric'] = 'auc'\n",
    "    params['subsample'] = 1.0 #1.0\n",
    "    params['min_child_weight'] = 5 #5\n",
    "    params['colsample_bytree'] = 0.2 # 0.2\n",
    "    evals_result = {}\n",
    "    \n",
    "    model = xgb.train(params, d_train, 105, watchlist, early_stopping_rounds=20, \\\n",
    "        maximize=True, verbose_eval=10, evals_result = evals_result)\n",
    "\n",
    "    p_test = model.predict(d_test)\n",
    "    return [p_test, [evals_result['train']['auc'][-1], evals_result['valid']['auc'][-1]]]"
   ]
  },
  {
   "cell_type": "code",
   "execution_count": 18,
   "metadata": {
    "scrolled": false
   },
   "outputs": [
    {
     "name": "stdout",
     "output_type": "stream",
     "text": [
      "[0]\ttrain-auc:0.662731\tvalid-auc:0.598634\n",
      "Multiple eval metrics have been passed: 'valid-auc' will be used for early stopping.\n",
      "\n",
      "Will train until valid-auc hasn't improved in 20 rounds.\n",
      "[10]\ttrain-auc:0.704115\tvalid-auc:0.626949\n",
      "[20]\ttrain-auc:0.720329\tvalid-auc:0.635454\n",
      "[30]\ttrain-auc:0.734481\tvalid-auc:0.643341\n",
      "[40]\ttrain-auc:0.744398\tvalid-auc:0.646602\n",
      "[50]\ttrain-auc:0.750529\tvalid-auc:0.649651\n",
      "[60]\ttrain-auc:0.758824\tvalid-auc:0.65314\n",
      "[70]\ttrain-auc:0.763944\tvalid-auc:0.654889\n",
      "[80]\ttrain-auc:0.768342\tvalid-auc:0.65673\n",
      "[90]\ttrain-auc:0.772604\tvalid-auc:0.658156\n",
      "[100]\ttrain-auc:0.775828\tvalid-auc:0.658527\n",
      "[104]\ttrain-auc:0.777442\tvalid-auc:0.65917\n",
      "[0]\ttrain-auc:0.663824\tvalid-auc:0.598275\n",
      "Multiple eval metrics have been passed: 'valid-auc' will be used for early stopping.\n",
      "\n",
      "Will train until valid-auc hasn't improved in 20 rounds.\n",
      "[10]\ttrain-auc:0.710352\tvalid-auc:0.626976\n",
      "[20]\ttrain-auc:0.731513\tvalid-auc:0.636657\n",
      "[30]\ttrain-auc:0.748417\tvalid-auc:0.645228\n",
      "[40]\ttrain-auc:0.760453\tvalid-auc:0.649781\n",
      "[50]\ttrain-auc:0.76678\tvalid-auc:0.65252\n",
      "[60]\ttrain-auc:0.775066\tvalid-auc:0.655635\n",
      "[70]\ttrain-auc:0.782124\tvalid-auc:0.65836\n",
      "[80]\ttrain-auc:0.786906\tvalid-auc:0.65947\n",
      "[90]\ttrain-auc:0.790906\tvalid-auc:0.66057\n",
      "[100]\ttrain-auc:0.795146\tvalid-auc:0.660448\n",
      "[104]\ttrain-auc:0.796913\tvalid-auc:0.661144\n",
      "[0]\ttrain-auc:0.664862\tvalid-auc:0.598494\n",
      "Multiple eval metrics have been passed: 'valid-auc' will be used for early stopping.\n",
      "\n",
      "Will train until valid-auc hasn't improved in 20 rounds.\n",
      "[10]\ttrain-auc:0.71745\tvalid-auc:0.630203\n",
      "[20]\ttrain-auc:0.742297\tvalid-auc:0.641011\n",
      "[30]\ttrain-auc:0.76132\tvalid-auc:0.649538\n",
      "[40]\ttrain-auc:0.775764\tvalid-auc:0.654187\n",
      "[50]\ttrain-auc:0.783923\tvalid-auc:0.657314\n",
      "[60]\ttrain-auc:0.792922\tvalid-auc:0.659969\n",
      "[70]\ttrain-auc:0.799034\tvalid-auc:0.662135\n",
      "[80]\ttrain-auc:0.804502\tvalid-auc:0.663189\n",
      "[90]\ttrain-auc:0.808971\tvalid-auc:0.66394\n",
      "[100]\ttrain-auc:0.813576\tvalid-auc:0.66397\n",
      "[104]\ttrain-auc:0.815155\tvalid-auc:0.664255\n",
      "[0]\ttrain-auc:0.666096\tvalid-auc:0.598458\n",
      "Multiple eval metrics have been passed: 'valid-auc' will be used for early stopping.\n",
      "\n",
      "Will train until valid-auc hasn't improved in 20 rounds.\n",
      "[10]\ttrain-auc:0.725385\tvalid-auc:0.632864\n",
      "[20]\ttrain-auc:0.751803\tvalid-auc:0.643062\n",
      "[30]\ttrain-auc:0.773995\tvalid-auc:0.652448\n",
      "[40]\ttrain-auc:0.790982\tvalid-auc:0.656974\n",
      "[50]\ttrain-auc:0.800347\tvalid-auc:0.659697\n",
      "[60]\ttrain-auc:0.810411\tvalid-auc:0.662572\n",
      "[70]\ttrain-auc:0.817463\tvalid-auc:0.664238\n",
      "[80]\ttrain-auc:0.823568\tvalid-auc:0.665112\n",
      "[90]\ttrain-auc:0.828256\tvalid-auc:0.665416\n",
      "[100]\ttrain-auc:0.833464\tvalid-auc:0.665474\n",
      "[104]\ttrain-auc:0.835384\tvalid-auc:0.666004\n",
      "[0]\ttrain-auc:0.667191\tvalid-auc:0.598023\n",
      "Multiple eval metrics have been passed: 'valid-auc' will be used for early stopping.\n",
      "\n",
      "Will train until valid-auc hasn't improved in 20 rounds.\n",
      "[10]\ttrain-auc:0.733936\tvalid-auc:0.63314\n",
      "[20]\ttrain-auc:0.768477\tvalid-auc:0.646765\n",
      "[30]\ttrain-auc:0.791003\tvalid-auc:0.655074\n",
      "[40]\ttrain-auc:0.80939\tvalid-auc:0.659706\n",
      "[50]\ttrain-auc:0.818418\tvalid-auc:0.661618\n",
      "[60]\ttrain-auc:0.828515\tvalid-auc:0.664137\n",
      "[70]\ttrain-auc:0.835783\tvalid-auc:0.66584\n",
      "[80]\ttrain-auc:0.842118\tvalid-auc:0.666201\n",
      "[90]\ttrain-auc:0.847163\tvalid-auc:0.666571\n",
      "[100]\ttrain-auc:0.853333\tvalid-auc:0.666355\n",
      "[104]\ttrain-auc:0.855102\tvalid-auc:0.666707\n"
     ]
    }
   ],
   "source": [
    "weights = []\n",
    "for max_depth in range(10, 15):\n",
    "    for eta in [0.3]:\n",
    "        p_test, res = model(eta, max_depth)\n",
    "        weights += res,"
   ]
  },
  {
   "cell_type": "code",
   "execution_count": 19,
   "metadata": {},
   "outputs": [
    {
     "name": "stdout",
     "output_type": "stream",
     "text": [
      "[0.65917, 0.661144, 0.664255, 0.666004, 0.666707]\n"
     ]
    }
   ],
   "source": [
    "weights = [x[1] for x in weights]\n",
    "print (weights)\n",
    "#16-20\n",
    "#0.665855, 0.664718, 0.664207, 0.664103, 0.661541\n",
    "##11-15\n",
    "#0.661144, 0.664255, 0.666004, 0.666707, 0.666783\n",
    "#15"
   ]
  },
  {
   "cell_type": "code",
   "execution_count": 12,
   "metadata": {},
   "outputs": [
    {
     "name": "stdout",
     "output_type": "stream",
     "text": [
      "3.987207\n"
     ]
    }
   ],
   "source": [
    "total = np.sum(weights)\n",
    "print (total)\n",
    "result = (np.array(p_tests).T * np.array(weights)).T"
   ]
  },
  {
   "cell_type": "code",
   "execution_count": 13,
   "metadata": {},
   "outputs": [
    {
     "name": "stdout",
     "output_type": "stream",
     "text": [
      "(6, 2556790)\n",
      "(2556790,)\n"
     ]
    }
   ],
   "source": [
    "print (np.shape(result))\n",
    "mat = np.sum(np.matrix(result), axis = 0)\n",
    "p_test = [x / total for x in (mat.tolist()[0])]\n",
    "print (np.shape(p_test))"
   ]
  },
  {
   "cell_type": "code",
   "execution_count": 14,
   "metadata": {},
   "outputs": [
    {
     "name": "stdout",
     "output_type": "stream",
     "text": [
      "0.4642308979\n",
      "0.504770238454\n",
      "0.153423018504\n",
      "0.143255339305\n",
      "0.0527307230864\n",
      "0.0574776432928\n",
      "0.0489744545509\n",
      "0.718005915934\n",
      "0.0675593516035\n",
      "0.705625235429\n"
     ]
    }
   ],
   "source": [
    "for x in p_test[:10]:\n",
    "    print (x)"
   ]
  },
  {
   "cell_type": "code",
   "execution_count": 15,
   "metadata": {},
   "outputs": [],
   "source": [
    "# with open('p_tests.pickle', 'wb') as handle:\n",
    "#     pickle.dump(p_tests, handle, protocol=pickle.HIGHEST_PROTOCOL)\n",
    "# with open('weights.pickle', 'wb') as handle:\n",
    "#     pickle.dump(weights, handle, protocol=pickle.HIGHEST_PROTOCOL)"
   ]
  },
  {
   "cell_type": "code",
   "execution_count": 16,
   "metadata": {},
   "outputs": [
    {
     "name": "stdout",
     "output_type": "stream",
     "text": [
      "1134167.91314\n"
     ]
    }
   ],
   "source": [
    "print (np.sum(p_test))"
   ]
  },
  {
   "cell_type": "code",
   "execution_count": 17,
   "metadata": {},
   "outputs": [
    {
     "name": "stdout",
     "output_type": "stream",
     "text": [
      "(2556790, 2556790)\n"
     ]
    }
   ],
   "source": [
    "# Prepare submission\n",
    "subm = pd.DataFrame()\n",
    "subm['id'] = ids\n",
    "subm['target'] = p_test\n",
    "print(len(ids), len(p_test))\n",
    "subm.to_csv('../submissions/submission.csv', index=False)"
   ]
  },
  {
   "cell_type": "code",
   "execution_count": null,
   "metadata": {},
   "outputs": [],
   "source": []
  }
 ],
 "metadata": {
  "anaconda-cloud": {},
  "kernelspec": {
   "display_name": "Python 2",
   "language": "python",
   "name": "python2"
  },
  "language_info": {
   "codemirror_mode": {
    "name": "ipython",
    "version": 2
   },
   "file_extension": ".py",
   "mimetype": "text/x-python",
   "name": "python",
   "nbconvert_exporter": "python",
   "pygments_lexer": "ipython2",
   "version": "2.7.11"
  }
 },
 "nbformat": 4,
 "nbformat_minor": 2
}
