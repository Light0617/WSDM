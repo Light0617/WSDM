{
 "cells": [
  {
   "cell_type": "code",
   "execution_count": 7,
   "metadata": {},
   "outputs": [],
   "source": [
    "import pandas as pd\n",
    "from sklearn.preprocessing import LabelEncoder\n",
    "from tables import *"
   ]
  },
  {
   "cell_type": "code",
   "execution_count": 2,
   "metadata": {},
   "outputs": [
    {
     "name": "stderr",
     "output_type": "stream",
     "text": [
      "/home/light/miniconda2/lib/python2.7/site-packages/numpy/lib/arraysetops.py:463: FutureWarning: elementwise comparison failed; returning scalar instead, but in the future will perform elementwise comparison\n",
      "  mask |= (ar1 == a)\n"
     ]
    }
   ],
   "source": [
    "date_columns = ['expiration_date', 'registration_init_time']\n",
    "\n",
    "train_data = pd.read_csv('../data/train.csv')\n",
    "test_data = pd.read_csv('../data/test.csv', index_col=0)\n",
    "item_data = pd.read_csv('../data/songs.csv')\n",
    "user_data = pd.read_csv('../data/members.csv', parse_dates=date_columns)"
   ]
  },
  {
   "cell_type": "code",
   "execution_count": 3,
   "metadata": {},
   "outputs": [],
   "source": [
    "all_data = pd.concat([train_data, test_data])\n",
    "\n",
    "all_data = all_data.merge(item_data, on='song_id', how='left')\n",
    "all_data = all_data.merge(user_data, on='msno', how='left')"
   ]
  },
  {
   "cell_type": "code",
   "execution_count": 4,
   "metadata": {},
   "outputs": [],
   "source": [
    "enc = LabelEncoder()\n",
    "\n",
    "for col in [\n",
    "    'msno', 'song_id', 'source_screen_name', \n",
    "    'source_system_tab', 'source_type', 'genre_ids', \n",
    "    'artist_name', 'composer', 'lyricist', 'gender'\n",
    "]:\n",
    "    all_data[col] = enc.fit_transform(all_data[col].fillna('nan'))\n",
    "    \n",
    "for col in ['language', 'city', 'registered_via']:\n",
    "    all_data[col] = enc.fit_transform(all_data[col].fillna(-2)) "
   ]
  },
  {
   "cell_type": "code",
   "execution_count": 8,
   "metadata": {},
   "outputs": [],
   "source": [
    "all_data['time'] = all_data.index / len(all_data)\n",
    "\n",
    "n = len(train_data)\n",
    "train_data = all_data[:n]\n",
    "test_data = all_data[n:]\n",
    "\n",
    "train_data.to_hdf('../data/train_data.hdf', key='wsdm')\n",
    "test_data.to_hdf('../data/test_data.hdf', key='wsdm')  "
   ]
  },
  {
   "cell_type": "code",
   "execution_count": null,
   "metadata": {},
   "outputs": [],
   "source": []
  }
 ],
 "metadata": {
  "anaconda-cloud": {},
  "kernelspec": {
   "display_name": "Python 2",
   "language": "python",
   "name": "python2"
  },
  "language_info": {
   "codemirror_mode": {
    "name": "ipython",
    "version": 2
   },
   "file_extension": ".py",
   "mimetype": "text/x-python",
   "name": "python",
   "nbconvert_exporter": "python",
   "pygments_lexer": "ipython2",
   "version": "2.7.11"
  }
 },
 "nbformat": 4,
 "nbformat_minor": 2
}
