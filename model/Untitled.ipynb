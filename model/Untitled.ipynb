{
 "cells": [
  {
   "cell_type": "code",
   "execution_count": 11,
   "metadata": {},
   "outputs": [],
   "source": [
    "import pandas as pd\n",
    "import pickle"
   ]
  },
  {
   "cell_type": "code",
   "execution_count": 12,
   "metadata": {},
   "outputs": [
    {
     "name": "stdout",
     "output_type": "stream",
     "text": [
      "loading done\n"
     ]
    }
   ],
   "source": [
    "data_path = '../data/'\n",
    "#test = pickle.load( open(data_path + 'test_feature_myadding', 'rb'))\n",
    "test = pickle.load( open(data_path + 'test_feature_myadding1_reduceDim', 'rb'))\n",
    "print 'loading done'"
   ]
  },
  {
   "cell_type": "code",
   "execution_count": 14,
   "metadata": {},
   "outputs": [
    {
     "data": {
      "text/plain": [
       "id                             int64\n",
       "msno                        category\n",
       "song_id                        int64\n",
       "source_system_tab           category\n",
       "source_screen_name          category\n",
       "source_type                 category\n",
       "song_length                   uint32\n",
       "genre_ids                   category\n",
       "artist_name                   object\n",
       "composer                      object\n",
       "lyricist                      object\n",
       "language                    category\n",
       "city                        category\n",
       "bd                             uint8\n",
       "gender                      category\n",
       "registered_via              category\n",
       "expiration_date                int64\n",
       "registration_year              int64\n",
       "registration_month             int64\n",
       "registration_date              int64\n",
       "expiration_year                int64\n",
       "expiration_month               int64\n",
       "membership_days                int64\n",
       "song_year_x                  float64\n",
       "genre_ids_count                 int8\n",
       "lyricists_count                 int8\n",
       "composer_count                  int8\n",
       "is_featured                     int8\n",
       "artist_count                    int8\n",
       "artist_composer                 int8\n",
       "artist_composer_lyricist        int8\n",
       "song_lang_boolean               int8\n",
       "smaller_song                    int8\n",
       "count_song_played              int64\n",
       "count_artist_played            int64\n",
       "song_country                  object\n",
       "song_year_y                  float64\n",
       "dtype: object"
      ]
     },
     "execution_count": 14,
     "metadata": {},
     "output_type": "execute_result"
    }
   ],
   "source": [
    "test.dtypes"
   ]
  },
  {
   "cell_type": "code",
   "execution_count": 7,
   "metadata": {},
   "outputs": [
    {
     "name": "stdout",
     "output_type": "stream",
     "text": [
      "['local-library' 'song-based-playlist' 'radio' 'local-playlist'\n",
      " 'online-playlist' 'top-hits-for-artist' 'album' 'song' 'listen-with'\n",
      " 'my-daily-playlist' 'topic-article-playlist' nan 'artist']\n"
     ]
    }
   ],
   "source": [
    "print test.source_type.unique()"
   ]
  },
  {
   "cell_type": "code",
   "execution_count": 8,
   "metadata": {},
   "outputs": [
    {
     "name": "stdout",
     "output_type": "stream",
     "text": [
      "['Local playlist more' nan 'Radio' 'Online playlist more' 'Artist more'\n",
      " 'Discover Genre' 'Album more' 'Discover Chart' 'Discover Feature' 'Search'\n",
      " 'Unknown' 'Explore' 'Others profile more' 'My library' 'My library_Search'\n",
      " 'Search Trends' 'Discover New' 'Search Home' 'Payment' 'Self profile more'\n",
      " 'People local' 'Concert' 'People global']\n"
     ]
    }
   ],
   "source": [
    "print test.source_screen_name.unique()"
   ]
  },
  {
   "cell_type": "code",
   "execution_count": 9,
   "metadata": {},
   "outputs": [
    {
     "name": "stdout",
     "output_type": "stream",
     "text": [
      "['my library' 'discover' 'radio' 'search' 'listen with' 'explore'\n",
      " 'settings' nan 'notification']\n"
     ]
    }
   ],
   "source": [
    "print test.source_system_tab.unique()"
   ]
  },
  {
   "cell_type": "code",
   "execution_count": null,
   "metadata": {},
   "outputs": [],
   "source": []
  }
 ],
 "metadata": {
  "kernelspec": {
   "display_name": "Python 2",
   "language": "python",
   "name": "python2"
  },
  "language_info": {
   "codemirror_mode": {
    "name": "ipython",
    "version": 2
   },
   "file_extension": ".py",
   "mimetype": "text/x-python",
   "name": "python",
   "nbconvert_exporter": "python",
   "pygments_lexer": "ipython2",
   "version": "2.7.11"
  }
 },
 "nbformat": 4,
 "nbformat_minor": 2
}
