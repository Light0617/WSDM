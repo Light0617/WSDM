{
 "cells": [
  {
   "cell_type": "code",
   "execution_count": 1,
   "metadata": {},
   "outputs": [
    {
     "name": "stderr",
     "output_type": "stream",
     "text": [
      "/Users/light/anaconda/lib/python3.5/site-packages/sklearn/cross_validation.py:44: DeprecationWarning: This module was deprecated in version 0.18 in favor of the model_selection module into which all the refactored classes and functions are moved. Also note that the interface of the new CV iterators are different from that of this module. This module will be removed in 0.20.\n",
      "  \"This module will be removed in 0.20.\", DeprecationWarning)\n"
     ]
    }
   ],
   "source": [
    "import numpy as np\n",
    "import pandas as pd\n",
    "\n",
    "from sklearn.model_selection import train_test_split\n",
    "from sklearn.preprocessing import LabelEncoder\n",
    "\n",
    "from tqdm import tqdm\n",
    "import xgboost as xgb\n",
    "\n",
    "import pickle"
   ]
  },
  {
   "cell_type": "code",
   "execution_count": 14,
   "metadata": {
    "collapsed": true
   },
   "outputs": [],
   "source": [
    "data_path = '../data/'\n",
    "train = pd.read_csv(data_path + 'train.csv')\n",
    "test = pd.read_csv(data_path + 'test.csv')\n",
    "songs = pd.read_csv(data_path + 'songs1.csv')\n",
    "members = pd.read_csv(data_path + 'members.csv')\n",
    "\n",
    "song_cols = ['song_id', 'song_length', 'genre_ids', 'artist_name', 'composer',\\\n",
    "            'lyricist', 'language', 'song_name', 'song_country', 'song_year']\n",
    "\n",
    "train = train.merge(songs[song_cols], on='song_id', how='left')\n",
    "test = test.merge(songs[song_cols], on='song_id', how='left')\n",
    "\n",
    "members['registration_year'] = members['registration_init_time'].apply(lambda x: int(str(x)[0:4]))\n",
    "members['registration_month'] = members['registration_init_time'].apply(lambda x: int(str(x)[4:6]))\n",
    "members['registration_date'] = members['registration_init_time'].apply(lambda x: int(str(x)[6:8]))\n",
    "\n",
    "members['expiration_year'] = members['expiration_date'].apply(lambda x: int(str(x)[0:4]))\n",
    "members['expiration_month'] = members['expiration_date'].apply(lambda x: int(str(x)[4:6]))\n",
    "members['expiration_date'] = members['expiration_date'].apply(lambda x: int(str(x)[6:8]))\n",
    "member = members.drop(['registration_year', 'expiration_year'], axis=1)\n",
    "\n",
    "members_cols = members.columns\n",
    "train = train.merge(members[members_cols], on='msno', how='left')\n",
    "test = test.merge(members[members_cols], on='msno', how='left')\n",
    "\n",
    "train = train.fillna(-1)\n",
    "test = test.fillna(-1)"
   ]
  },
  {
   "cell_type": "code",
   "execution_count": 13,
   "metadata": {},
   "outputs": [
    {
     "name": "stdout",
     "output_type": "stream",
     "text": [
      "id\n",
      "song_id\n",
      "song_length\n",
      "genre_ids\n",
      "artist_name\n",
      "composer\n",
      "lyricist\n",
      "language\n",
      "song_name\n",
      "isrc\n",
      "song_country\n",
      "song_year\n"
     ]
    }
   ],
   "source": [
    "for x in list(songs):\n",
    "    print (x)"
   ]
  },
  {
   "cell_type": "code",
   "execution_count": 15,
   "metadata": {},
   "outputs": [
    {
     "data": {
      "text/plain": [
       "0           Bastille\n",
       "1    Various Artists\n",
       "2                Nas\n",
       "3           Soundway\n",
       "Name: artist_name, dtype: object"
      ]
     },
     "execution_count": 15,
     "metadata": {},
     "output_type": "execute_result"
    }
   ],
   "source": [
    "train['artist_name'][:4]"
   ]
  },
  {
   "cell_type": "code",
   "execution_count": 3,
   "metadata": {
    "collapsed": true
   },
   "outputs": [],
   "source": [
    "#<class 'pandas.core.series.Series'> object\n",
    "#pandas.core.frame.DataFrame"
   ]
  },
  {
   "cell_type": "code",
   "execution_count": 17,
   "metadata": {
    "scrolled": false
   },
   "outputs": [
    {
     "name": "stderr",
     "output_type": "stream",
     "text": [
      "\n",
      "  0%|          | 0/25 [00:00<?, ?it/s]\u001b[A\n",
      "Exception in thread Thread-4:\n",
      "Traceback (most recent call last):\n",
      "  File \"/Users/light/anaconda/lib/python3.5/threading.py\", line 914, in _bootstrap_inner\n",
      "    self.run()\n",
      "  File \"/Users/light/anaconda/lib/python3.5/site-packages/tqdm/_tqdm.py\", line 144, in run\n",
      "    for instance in self.tqdm_cls._instances:\n",
      "  File \"/Users/light/anaconda/lib/python3.5/_weakrefset.py\", line 60, in __iter__\n",
      "    for itemref in self.data:\n",
      "RuntimeError: Set changed size during iteration\n",
      "\n",
      "  4%|▍         | 1/25 [00:24<09:56, 24.84s/it]"
     ]
    },
    {
     "name": "stdout",
     "output_type": "stream",
     "text": [
      "msno: 30755, 25131\n"
     ]
    },
    {
     "name": "stderr",
     "output_type": "stream",
     "text": [
      "\r",
      "  8%|▊         | 2/25 [01:22<15:50, 41.33s/it]"
     ]
    },
    {
     "name": "stdout",
     "output_type": "stream",
     "text": [
      "song_id: 359966, 224753\n"
     ]
    },
    {
     "name": "stderr",
     "output_type": "stream",
     "text": [
      "\r",
      " 12%|█▏        | 3/25 [01:40<12:19, 33.61s/it]"
     ]
    },
    {
     "name": "stdout",
     "output_type": "stream",
     "text": [
      "source_system_tab: 10, 10\n"
     ]
    },
    {
     "name": "stderr",
     "output_type": "stream",
     "text": [
      "\r",
      " 16%|█▌        | 4/25 [02:01<10:35, 30.27s/it]"
     ]
    },
    {
     "name": "stdout",
     "output_type": "stream",
     "text": [
      "source_screen_name: 21, 23\n"
     ]
    },
    {
     "name": "stderr",
     "output_type": "stream",
     "text": [
      "\r",
      " 20%|██        | 5/25 [02:20<09:21, 28.07s/it]"
     ]
    },
    {
     "name": "stdout",
     "output_type": "stream",
     "text": [
      "source_type: 13, 13\n"
     ]
    },
    {
     "name": "stderr",
     "output_type": "stream",
     "text": [
      "\r",
      " 28%|██▊       | 7/25 [02:38<06:48, 22.68s/it]"
     ]
    },
    {
     "name": "stdout",
     "output_type": "stream",
     "text": [
      "genre_ids: 573, 502\n"
     ]
    },
    {
     "name": "stderr",
     "output_type": "stream",
     "text": [
      "\r",
      " 32%|███▏      | 8/25 [03:10<06:44, 23.76s/it]"
     ]
    },
    {
     "name": "stdout",
     "output_type": "stream",
     "text": [
      "artist_name: 40583, 27564\n"
     ]
    },
    {
     "name": "stderr",
     "output_type": "stream",
     "text": [
      "\r",
      " 36%|███▌      | 9/25 [04:40<08:18, 31.13s/it]"
     ]
    },
    {
     "name": "stdout",
     "output_type": "stream",
     "text": [
      "composer: 76065, 52307\n"
     ]
    },
    {
     "name": "stderr",
     "output_type": "stream",
     "text": [
      "\r",
      " 40%|████      | 10/25 [05:06<07:40, 30.69s/it]"
     ]
    },
    {
     "name": "stdout",
     "output_type": "stream",
     "text": [
      "lyricist: 33890, 24911\n"
     ]
    },
    {
     "name": "stderr",
     "output_type": "stream",
     "text": [
      "\r",
      " 48%|████▊     | 12/25 [06:28<07:00, 32.34s/it]"
     ]
    },
    {
     "name": "stdout",
     "output_type": "stream",
     "text": [
      "song_name: 234112, 154708\n"
     ]
    },
    {
     "name": "stderr",
     "output_type": "stream",
     "text": [
      "\r",
      " 52%|█████▏    | 13/25 [06:44<06:13, 31.09s/it]"
     ]
    },
    {
     "name": "stdout",
     "output_type": "stream",
     "text": [
      "song_country: 110, 97\n"
     ]
    },
    {
     "name": "stderr",
     "output_type": "stream",
     "text": [
      "100%|██████████| 25/25 [06:57<00:00, 16.68s/it]"
     ]
    },
    {
     "name": "stdout",
     "output_type": "stream",
     "text": [
      "gender: 3, 3\n"
     ]
    },
    {
     "name": "stderr",
     "output_type": "stream",
     "text": [
      "\n"
     ]
    }
   ],
   "source": [
    "# Preprocess dataset\n",
    "cols = list(train.columns)\n",
    "cols.remove('target')\n",
    "\n",
    "for col in tqdm(cols):\n",
    "    try:\n",
    "        if train[col].dtype == 'object':\n",
    "            train[col] = train[col].apply(str)\n",
    "            test[col] = test[col].apply(str)\n",
    "\n",
    "            le = LabelEncoder()\n",
    "            train_vals = list(train[col].unique())\n",
    "            test_vals = list(test[col].unique())\n",
    "            le.fit(train_vals + test_vals)\n",
    "            train[col] = le.transform(train[col])\n",
    "            test[col] = le.transform(test[col])\n",
    "\n",
    "            print(col + ': ' + str(len(train_vals)) + ', ' + str(len(test_vals)))\n",
    "    except:\n",
    "        print (col, type(train[col]))\n",
    "        break\n",
    "\n"
   ]
  },
  {
   "cell_type": "code",
   "execution_count": 18,
   "metadata": {},
   "outputs": [
    {
     "ename": "NameError",
     "evalue": "name 'ssss' is not defined",
     "output_type": "error",
     "traceback": [
      "\u001b[0;31m---------------------------------------------------------------------------\u001b[0m",
      "\u001b[0;31mNameError\u001b[0m                                 Traceback (most recent call last)",
      "\u001b[0;32m<ipython-input-18-eef088adb5da>\u001b[0m in \u001b[0;36m<module>\u001b[0;34m()\u001b[0m\n\u001b[0;32m----> 1\u001b[0;31m \u001b[0mssss\u001b[0m\u001b[0;34m\u001b[0m\u001b[0m\n\u001b[0m",
      "\u001b[0;31mNameError\u001b[0m: name 'ssss' is not defined"
     ]
    }
   ],
   "source": [
    "ssss"
   ]
  },
  {
   "cell_type": "code",
   "execution_count": 19,
   "metadata": {},
   "outputs": [
    {
     "name": "stdout",
     "output_type": "stream",
     "text": [
      "    msno  song_id  source_system_tab  source_screen_name  source_type  target  \\\n",
      "0   9176    86884                  2                   8            7       1   \n",
      "1  19273   260594                  4                   9            5       1   \n",
      "2  19273   140755                  4                   9            5       1   \n",
      "3  19273    27577                  4                   9            5       1   \n",
      "4   9176    38706                  2                   8            7       1   \n",
      "\n",
      "   song_length  genre_ids  artist_name  composer        ...         bd  \\\n",
      "0     206471.0        308         3785     16654        ...          0   \n",
      "1     284584.0         98        36868        71        ...         24   \n",
      "2     225396.0         98        24602     51541        ...         24   \n",
      "3     255512.0          7        31652     41992        ...         24   \n",
      "4     187802.0          3         5191      9702        ...          0   \n",
      "\n",
      "   gender  registered_via  registration_init_time  expiration_date  \\\n",
      "0       0               7                20120102                5   \n",
      "1       1               9                20110525               11   \n",
      "2       1               9                20110525               11   \n",
      "3       1               9                20110525               11   \n",
      "4       0               7                20120102                5   \n",
      "\n",
      "   registration_year  registration_month  registration_date  expiration_year  \\\n",
      "0               2012                   1                  2             2017   \n",
      "1               2011                   5                 25             2017   \n",
      "2               2011                   5                 25             2017   \n",
      "3               2011                   5                 25             2017   \n",
      "4               2012                   1                  2             2017   \n",
      "\n",
      "   expiration_month  \n",
      "0                10  \n",
      "1                 9  \n",
      "2                 9  \n",
      "3                 9  \n",
      "4                10  \n",
      "\n",
      "[5 rows x 26 columns]\n",
      "   id   msno  song_id  source_system_tab  source_screen_name  source_type  \\\n",
      "0   0  17724   228222                  4                   9            4   \n",
      "1   1  17724   407039                  4                   9            4   \n",
      "2   2    977    70211                  1                   0           10   \n",
      "3   3   1878   419092                  7                  17            8   \n",
      "4   4   1878   160096                  7                  17            8   \n",
      "\n",
      "   song_length  genre_ids  artist_name  composer        ...         bd  \\\n",
      "0     224130.0        365        42813     56690        ...          0   \n",
      "1     320470.0        372        42633     79915        ...          0   \n",
      "2     315899.0        201        38493     73207        ...          0   \n",
      "3     285210.0        372        36424     67328        ...         30   \n",
      "4     197590.0        520        38299     52439        ...         30   \n",
      "\n",
      "   gender  registered_via  registration_init_time  expiration_date  \\\n",
      "0       0               7                20160219               18   \n",
      "1       0               7                20160219               18   \n",
      "2       0               4                20161117               24   \n",
      "3       2               9                20070725               30   \n",
      "4       2               9                20070725               30   \n",
      "\n",
      "   registration_year  registration_month  registration_date  expiration_year  \\\n",
      "0               2016                   2                 19             2017   \n",
      "1               2016                   2                 19             2017   \n",
      "2               2016                  11                 17             2016   \n",
      "3               2007                   7                 25             2017   \n",
      "4               2007                   7                 25             2017   \n",
      "\n",
      "   expiration_month  \n",
      "0                 9  \n",
      "1                 9  \n",
      "2                11  \n",
      "3                 4  \n",
      "4                 4  \n",
      "\n",
      "[5 rows x 26 columns]\n"
     ]
    }
   ],
   "source": [
    "print(train.head())\n",
    "print(test.head())\n",
    "\n",
    "X = np.array(train.drop(['target'], axis=1))\n",
    "y = train['target'].values\n",
    "\n",
    "X_test = np.array(test.drop(['id'], axis=1))\n",
    "ids = test['id'].values\n",
    "\n",
    "X_train, X_valid, y_train, y_valid = train_test_split(X, y, \\\n",
    "    test_size=0.2, random_state=0)\n",
    "\n",
    "\n",
    "d_train = xgb.DMatrix(X_train, label=y_train)\n",
    "d_valid = xgb.DMatrix(X_valid, label=y_valid) \n",
    "d_test = xgb.DMatrix(X_test)\n",
    "\n",
    "eval_set = [(X_train, y_train), (X_valid, y_valid)]\n",
    "watchlist = [(d_train, 'train'), (d_valid, 'valid')]"
   ]
  },
  {
   "cell_type": "code",
   "execution_count": null,
   "metadata": {
    "collapsed": true
   },
   "outputs": [],
   "source": [
    "for x in list(train)\n",
    "    print (x)"
   ]
  },
  {
   "cell_type": "code",
   "execution_count": 20,
   "metadata": {},
   "outputs": [
    {
     "name": "stdout",
     "output_type": "stream",
     "text": [
      "The history saving thread hit an unexpected error (OperationalError('unable to open database file',)).History will not be written to the database.\n"
     ]
    }
   ],
   "source": [
    "# Train model, evaluate and make predictions\n",
    "def model(eta, max_depth):\n",
    "    params = {}\n",
    "    params['objective'] = 'binary:logistic'\n",
    "    params['eta'] = eta #0.7\n",
    "    params['max_depth'] = max_depth #5\n",
    "    params['silent'] = 1\n",
    "    params['eval_metric'] = 'auc'\n",
    "    params['subsample'] = 1.0 #1.0\n",
    "    params['min_child_weight'] = 5 #5\n",
    "    params['colsample_bytree'] = 0.2 # 0.2\n",
    "    evals_result = {}\n",
    "    \n",
    "    model = xgb.train(params, d_train, 105, watchlist, early_stopping_rounds=20, \\\n",
    "        maximize=True, verbose_eval=10, evals_result = evals_result)\n",
    "\n",
    "    p_test = model.predict(d_test)\n",
    "    return [p_test, [evals_result['train']['auc'][-1], evals_result['valid']['auc'][-1]]]"
   ]
  },
  {
   "cell_type": "code",
   "execution_count": 58,
   "metadata": {
    "collapsed": true
   },
   "outputs": [],
   "source": [
    "etas = [0.01 * (2 ** x) for x in range(1, 8)] # 0.01 to 1.28\n",
    "subsamples = [0.1 * x for x in range(5, 11)]\n",
    "min_child_weights = [ x for x in range(2, 10)] \n",
    "colsample_bytrees = [0.1 * x for x in range(1, 11)]\n",
    "p_tests = []\n",
    "weights = []"
   ]
  },
  {
   "cell_type": "code",
   "execution_count": null,
   "metadata": {
    "scrolled": false
   },
   "outputs": [
    {
     "name": "stdout",
     "output_type": "stream",
     "text": [
      "[0]\ttrain-auc:0.656992\tvalid-auc:0.656627\n",
      "Multiple eval metrics have been passed: 'valid-auc' will be used for early stopping.\n",
      "\n",
      "Will train until valid-auc hasn't improved in 20 rounds.\n",
      "[10]\ttrain-auc:0.685999\tvalid-auc:0.684967\n",
      "[20]\ttrain-auc:0.696548\tvalid-auc:0.69481\n",
      "[30]\ttrain-auc:0.70385\tvalid-auc:0.701774\n",
      "[40]\ttrain-auc:0.708127\tvalid-auc:0.705447\n",
      "[50]\ttrain-auc:0.713368\tvalid-auc:0.710174\n",
      "[60]\ttrain-auc:0.719463\tvalid-auc:0.715828\n",
      "[70]\ttrain-auc:0.72356\tvalid-auc:0.719519\n",
      "[80]\ttrain-auc:0.726944\tvalid-auc:0.722293\n",
      "[90]\ttrain-auc:0.73067\tvalid-auc:0.725706\n",
      "[100]\ttrain-auc:0.733022\tvalid-auc:0.727608\n",
      "[0]\ttrain-auc:0.659704\tvalid-auc:0.659181\n",
      "Multiple eval metrics have been passed: 'valid-auc' will be used for early stopping.\n",
      "\n",
      "Will train until valid-auc hasn't improved in 20 rounds.\n",
      "[10]\ttrain-auc:0.691551\tvalid-auc:0.689757\n",
      "[20]\ttrain-auc:0.703835\tvalid-auc:0.700952\n",
      "[30]\ttrain-auc:0.714268\tvalid-auc:0.710014\n",
      "[40]\ttrain-auc:0.720057\tvalid-auc:0.714803\n",
      "[50]\ttrain-auc:0.725903\tvalid-auc:0.719826\n",
      "[60]\ttrain-auc:0.731328\tvalid-auc:0.724234\n",
      "[70]\ttrain-auc:0.736306\tvalid-auc:0.728236\n"
     ]
    }
   ],
   "source": [
    "for max_depth in range(7,15):\n",
    "    for eta in [0.9]:\n",
    "        p_test, res = model(eta, max_depth)\n",
    "        with open('%s_%s.pickle' % (eta*10, max_depth),\\\n",
    "                                      'wb')as handle:\n",
    "            pickle.dump(p_test, handle, protocol=pickle.HIGHEST_PROTOCOL)\n",
    "        with open('%s_%s_res.pickle' % (eta*10, max_depth),\\\n",
    "                                      'wb')as handle:\n",
    "            pickle.dump(res, handle, protocol=pickle.HIGHEST_PROTOCOL)\n",
    "        p_tests += p_test,\n",
    "        weights += res,"
   ]
  },
  {
   "cell_type": "code",
   "execution_count": 60,
   "metadata": {},
   "outputs": [
    {
     "name": "stdout",
     "output_type": "stream",
     "text": [
      "[0.726066, 0.737759, 0.748974, 0.76023, 0.768716, 0.774832, 0.780295, 0.783225]\n"
     ]
    }
   ],
   "source": [
    "weights = [x[1] for x in weights]\n",
    "print (weights)"
   ]
  },
  {
   "cell_type": "code",
   "execution_count": 52,
   "metadata": {},
   "outputs": [
    {
     "name": "stdout",
     "output_type": "stream",
     "text": [
      "[array([ 0.61823994,  0.68429184,  0.15756422, ...,  0.46034351,\n",
      "        0.28037271,  0.52262759], dtype=float32), array([ 0.64945638,  0.72622496,  0.08256978, ...,  0.40195748,\n",
      "        0.56350332,  0.38161099], dtype=float32), array([ 0.57295883,  0.66559821,  0.16085353, ...,  0.34414583,\n",
      "        0.2465423 ,  0.32933512], dtype=float32)]\n"
     ]
    }
   ],
   "source": []
  },
  {
   "cell_type": "code",
   "execution_count": 61,
   "metadata": {},
   "outputs": [
    {
     "name": "stdout",
     "output_type": "stream",
     "text": [
      "6.080097\n"
     ]
    }
   ],
   "source": [
    "total = np.sum(weights)\n",
    "print (total)\n",
    "result = (np.array(p_tests).T * np.array(weights)).T"
   ]
  },
  {
   "cell_type": "code",
   "execution_count": 62,
   "metadata": {},
   "outputs": [
    {
     "name": "stdout",
     "output_type": "stream",
     "text": [
      "0.367186068286\n"
     ]
    }
   ],
   "source": [
    "for x in result[0]:\n",
    "    print (x)\n",
    "    break"
   ]
  },
  {
   "cell_type": "code",
   "execution_count": 63,
   "metadata": {},
   "outputs": [
    {
     "name": "stdout",
     "output_type": "stream",
     "text": [
      "(8, 2556790)\n",
      "(2556790,)\n"
     ]
    }
   ],
   "source": [
    "print (np.shape(result))\n",
    "mat = np.sum(np.matrix(result), axis = 0)\n",
    "p_test = [x / total for x in (mat.tolist()[0])]\n",
    "print (np.shape(p_test))"
   ]
  },
  {
   "cell_type": "code",
   "execution_count": 64,
   "metadata": {},
   "outputs": [
    {
     "name": "stdout",
     "output_type": "stream",
     "text": [
      "0.570655484057\n",
      "0.581413742763\n",
      "0.149166142116\n",
      "0.1587308109\n",
      "0.092280751841\n",
      "0.082292448482\n",
      "0.0999132944131\n",
      "0.60623654552\n",
      "0.116966316641\n",
      "0.75354827326\n"
     ]
    }
   ],
   "source": [
    "for x in p_test[:10]:\n",
    "    print (x)"
   ]
  },
  {
   "cell_type": "code",
   "execution_count": 65,
   "metadata": {},
   "outputs": [
    {
     "name": "stdout",
     "output_type": "stream",
     "text": [
      "1153547.80067 6.080097\n",
      "[0.5706554840566217, 0.581413742762942, 0.14916614211646084, 0.15873081090045421, 0.092280751840975533, 0.082292448482018735, 0.099913294413103482, 0.60623654551980322, 0.11696631664126375, 0.75354827325956553, 0.85834640936327078, 0.21649286939877421, 0.21201662564667348, 0.35645880938272151, 0.47542811376319372, 0.27627696581163907, 0.31095170748881729, 0.360451222954489, 0.41398138809861362, 0.75623951222149066, 0.83159836347863036, 0.53081967950078768, 0.60549767424237733, 0.65977437116158433, 0.47550732270315899, 0.47470735329351438, 0.49624855884680857, 0.48989081351051711, 0.48362556074529206, 0.39779905907358626]\n"
     ]
    }
   ],
   "source": [
    "print (np.sum(p_test), total)\n",
    "print(p_test[:30])"
   ]
  },
  {
   "cell_type": "code",
   "execution_count": null,
   "metadata": {},
   "outputs": [],
   "source": [
    "# with open('p_tests.pickle', 'wb') as handle:\n",
    "#     pickle.dump(p_tests, handle, protocol=pickle.HIGHEST_PROTOCOL)\n",
    "# with open('weights.pickle', 'wb') as handle:\n",
    "#     pickle.dump(weights, handle, protocol=pickle.HIGHEST_PROTOCOL)"
   ]
  },
  {
   "cell_type": "code",
   "execution_count": 56,
   "metadata": {},
   "outputs": [
    {
     "name": "stdout",
     "output_type": "stream",
     "text": [
      "1169748.15508\n"
     ]
    }
   ],
   "source": [
    "print (np.sum(p_test))"
   ]
  },
  {
   "cell_type": "code",
   "execution_count": 66,
   "metadata": {},
   "outputs": [
    {
     "name": "stdout",
     "output_type": "stream",
     "text": [
      "2556790 2556790\n"
     ]
    }
   ],
   "source": [
    "# Prepare submission\n",
    "subm = pd.DataFrame()\n",
    "subm['id'] = ids\n",
    "subm['target'] = p_test\n",
    "print(len(ids), len(p_test))\n",
    "subm.to_csv('../submissions/submission.csv', index=False)"
   ]
  },
  {
   "cell_type": "code",
   "execution_count": null,
   "metadata": {
    "collapsed": true
   },
   "outputs": [],
   "source": []
  }
 ],
 "metadata": {
  "anaconda-cloud": {},
  "kernelspec": {
   "display_name": "Python [conda root]",
   "language": "python",
   "name": "conda-root-py"
  },
  "language_info": {
   "codemirror_mode": {
    "name": "ipython",
    "version": 3
   },
   "file_extension": ".py",
   "mimetype": "text/x-python",
   "name": "python",
   "nbconvert_exporter": "python",
   "pygments_lexer": "ipython3",
   "version": "3.5.2"
  }
 },
 "nbformat": 4,
 "nbformat_minor": 2
}
