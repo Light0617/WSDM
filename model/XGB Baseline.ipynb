{
 "cells": [
  {
   "cell_type": "code",
   "execution_count": null,
   "metadata": {
    "collapsed": true
   },
   "outputs": [],
   "source": [
    "import numpy as np\n",
    "import pandas as pd\n",
    "\n",
    "from sklearn.model_selection import train_test_split\n",
    "from sklearn.preprocessing import LabelEncoder\n",
    "\n",
    "from tqdm import tqdm\n",
    "import xgboost as xgb"
   ]
  },
  {
   "cell_type": "code",
   "execution_count": 3,
   "metadata": {},
   "outputs": [
    {
     "name": "stderr",
     "output_type": "stream",
     "text": [
      "  5%|▍         | 1/21 [00:24<08:14, 24.71s/it]"
     ]
    },
    {
     "name": "stdout",
     "output_type": "stream",
     "text": [
      "msno: 30755, 25131\n"
     ]
    },
    {
     "name": "stderr",
     "output_type": "stream",
     "text": [
      "\r",
      " 10%|▉         | 2/21 [01:24<13:22, 42.23s/it]"
     ]
    },
    {
     "name": "stdout",
     "output_type": "stream",
     "text": [
      "song_id: 359966, 224753\n"
     ]
    },
    {
     "name": "stderr",
     "output_type": "stream",
     "text": [
      "\r",
      " 14%|█▍        | 3/21 [01:42<10:15, 34.18s/it]"
     ]
    },
    {
     "name": "stdout",
     "output_type": "stream",
     "text": [
      "source_system_tab: 10, 10\n"
     ]
    },
    {
     "name": "stderr",
     "output_type": "stream",
     "text": [
      "\r",
      " 19%|█▉        | 4/21 [02:03<08:46, 30.95s/it]"
     ]
    },
    {
     "name": "stdout",
     "output_type": "stream",
     "text": [
      "source_screen_name: 21, 23\n"
     ]
    },
    {
     "name": "stderr",
     "output_type": "stream",
     "text": [
      "\r",
      " 24%|██▍       | 5/21 [02:23<07:38, 28.65s/it]"
     ]
    },
    {
     "name": "stdout",
     "output_type": "stream",
     "text": [
      "source_type: 13, 13\n"
     ]
    },
    {
     "name": "stderr",
     "output_type": "stream",
     "text": [
      "\r",
      " 29%|██▊       | 6/21 [02:53<07:13, 28.92s/it]"
     ]
    },
    {
     "name": "stdout",
     "output_type": "stream",
     "text": [
      "artist_name: 40583, 27564\n"
     ]
    },
    {
     "name": "stderr",
     "output_type": "stream",
     "text": [
      "\r",
      " 33%|███▎      | 7/21 [03:11<06:22, 27.34s/it]"
     ]
    },
    {
     "name": "stdout",
     "output_type": "stream",
     "text": [
      "genre_ids: 573, 502\n"
     ]
    },
    {
     "name": "stderr",
     "output_type": "stream",
     "text": [
      "100%|██████████| 21/21 [03:24<00:00,  9.74s/it]"
     ]
    },
    {
     "name": "stdout",
     "output_type": "stream",
     "text": [
      "gender: 3, 3\n",
      "    msno  song_id  source_system_tab  source_screen_name  source_type  target  \\\n",
      "0   9176    86884                  2                   8            7       1   \n",
      "1  19273   260594                  4                   9            5       1   \n",
      "2  19273   140755                  4                   9            5       1   \n",
      "3  19273    27577                  4                   9            5       1   \n",
      "4   9176    38706                  2                   8            7       1   \n",
      "\n",
      "   artist_name  genre_ids  song_length  language    ...     gender  \\\n",
      "0         3785        308     206471.0      52.0    ...          0   \n",
      "1        36868         98     284584.0      52.0    ...          1   \n",
      "2        24602         98     225396.0      52.0    ...          1   \n",
      "3        31652          7     255512.0      -1.0    ...          1   \n",
      "4         5191          3     187802.0      52.0    ...          0   \n",
      "\n",
      "   registered_via  registration_init_time  expiration_date  registration_year  \\\n",
      "0               7                20120102                5               2012   \n",
      "1               9                20110525               11               2011   \n",
      "2               9                20110525               11               2011   \n",
      "3               9                20110525               11               2011   \n",
      "4               7                20120102                5               2012   \n",
      "\n",
      "   registration_month  registration_date  expiration_year  expiration_month  \\\n",
      "0                   1                  2             2017                10   \n",
      "1                   5                 25             2017                 9   \n",
      "2                   5                 25             2017                 9   \n",
      "3                   5                 25             2017                 9   \n",
      "4                   1                  2             2017                10   \n",
      "\n",
      "   duration  \n",
      "0      2112  \n",
      "1      2306  \n",
      "2      2306  \n",
      "3      2306  \n",
      "4      2112  \n",
      "\n",
      "[5 rows x 22 columns]\n",
      "   id   msno  song_id  source_system_tab  source_screen_name  source_type  \\\n",
      "0   0  17724   228222                  4                   9            4   \n",
      "1   1  17724   407039                  4                   9            4   \n",
      "2   2    977    70211                  1                   0           10   \n",
      "3   3   1878   419092                  7                  17            8   \n",
      "4   4   1878   160096                  7                  17            8   \n",
      "\n",
      "   artist_name  genre_ids  song_length  language    ...     gender  \\\n",
      "0        42813        365     224130.0       3.0    ...          0   \n",
      "1        42633        372     320470.0       3.0    ...          0   \n",
      "2        38493        201     315899.0      17.0    ...          0   \n",
      "3        36424        372     285210.0      52.0    ...          2   \n",
      "4        38299        520     197590.0      -1.0    ...          2   \n",
      "\n",
      "   registered_via  registration_init_time  expiration_date  registration_year  \\\n",
      "0               7                20160219               18               2016   \n",
      "1               7                20160219               18               2016   \n",
      "2               4                20161117               24               2016   \n",
      "3               9                20070725               30               2007   \n",
      "4               9                20070725               30               2007   \n",
      "\n",
      "   registration_month  registration_date  expiration_year  expiration_month  \\\n",
      "0                   2                 19             2017                 9   \n",
      "1                   2                 19             2017                 9   \n",
      "2                  11                 17             2016                11   \n",
      "3                   7                 25             2017                 4   \n",
      "4                   7                 25             2017                 4   \n",
      "\n",
      "   duration  \n",
      "0       582  \n",
      "1       582  \n",
      "2         7  \n",
      "3      3572  \n",
      "4      3572  \n",
      "\n",
      "[5 rows x 22 columns]\n"
     ]
    },
    {
     "name": "stderr",
     "output_type": "stream",
     "text": [
      "\n"
     ]
    },
    {
     "name": "stdout",
     "output_type": "stream",
     "text": [
      "[0]\ttrain-auc:0.723997\tvalid-auc:0.709273\n",
      "Multiple eval metrics have been passed: 'valid-auc' will be used for early stopping.\n",
      "\n",
      "Will train until valid-auc hasn't improved in 20 rounds.\n",
      "[5]\ttrain-auc:0.798951\tvalid-auc:0.757861\n",
      "[10]\ttrain-auc:0.848383\tvalid-auc:0.789145\n",
      "[15]\ttrain-auc:0.86581\tvalid-auc:0.791084\n",
      "[20]\ttrain-auc:0.884339\tvalid-auc:0.795012\n",
      "[25]\ttrain-auc:0.898766\tvalid-auc:0.795542\n",
      "[30]\ttrain-auc:0.909542\tvalid-auc:0.796093\n",
      "[35]\ttrain-auc:0.919392\tvalid-auc:0.795387\n",
      "[40]\ttrain-auc:0.927595\tvalid-auc:0.795019\n",
      "[45]\ttrain-auc:0.93485\tvalid-auc:0.793741\n",
      "[50]\ttrain-auc:0.941913\tvalid-auc:0.793438\n",
      "Stopping. Best iteration:\n",
      "[31]\ttrain-auc:0.911176\tvalid-auc:0.796266\n",
      "\n",
      "2556790 2556790\n"
     ]
    }
   ],
   "source": [
    "data_path = '../data/'\n",
    "train = pd.read_csv(data_path + 'train.csv')\n",
    "test = pd.read_csv(data_path + 'test.csv')\n",
    "songs = pd.read_csv(data_path + 'songs.csv')\n",
    "members = pd.read_csv(data_path + 'members.csv')\n",
    "\n",
    "song_cols = ['song_id', 'artist_name', 'genre_ids', 'song_length', 'language']\n",
    "train = train.merge(songs[song_cols], on='song_id', how='left')\n",
    "test = test.merge(songs[song_cols], on='song_id', how='left')\n",
    "\n",
    "members['registration_year'] = members['registration_init_time'].apply(lambda x: int(str(x)[0:4]))\n",
    "members['registration_month'] = members['registration_init_time'].apply(lambda x: int(str(x)[4:6]))\n",
    "members['registration_date'] = members['registration_init_time'].apply(lambda x: int(str(x)[6:8]))\n",
    "\n",
    "members['expiration_year'] = members['expiration_date'].apply(lambda x: int(str(x)[0:4]))\n",
    "members['expiration_month'] = members['expiration_date'].apply(lambda x: int(str(x)[4:6]))\n",
    "members['expiration_date'] = members['expiration_date'].apply(lambda x: int(str(x)[6:8]))\n",
    "members['duration'] = (members['expiration_year'] - members['registration_year']) * 366\\\n",
    "                    + (members['expiration_month'] - members['registration_month']) * 31\\\n",
    "                    + (members['expiration_date'] - members['registration_date'])\n",
    "member = members.drop(['registration_year', 'expiration_year'], axis=1)\n",
    "\n",
    "members_cols = members.columns\n",
    "train = train.merge(members[members_cols], on='msno', how='left')\n",
    "test = test.merge(members[members_cols], on='msno', how='left')\n",
    "\n",
    "train = train.fillna(-1)\n",
    "test = test.fillna(-1)\n",
    "\n",
    "# Preprocess dataset\n",
    "cols = list(train.columns)\n",
    "cols.remove('target')\n",
    "\n",
    "for col in tqdm(cols):\n",
    "    if train[col].dtype == 'object':\n",
    "        train[col] = train[col].apply(str)\n",
    "        test[col] = test[col].apply(str)\n",
    "\n",
    "        le = LabelEncoder()\n",
    "        train_vals = list(train[col].unique())\n",
    "        test_vals = list(test[col].unique())\n",
    "        le.fit(train_vals + test_vals)\n",
    "        train[col] = le.transform(train[col])\n",
    "        test[col] = le.transform(test[col])\n",
    "\n",
    "        print(col + ': ' + str(len(train_vals)) + ', ' + str(len(test_vals)))\n",
    "\n",
    "print(train.head())\n",
    "print(test.head())\n",
    "\n",
    "X = np.array(train.drop(['target'], axis=1))\n",
    "y = train['target'].values\n",
    "\n",
    "X_test = np.array(test.drop(['id'], axis=1))\n",
    "ids = test['id'].values\n",
    "\n",
    "X_train, X_valid, y_train, y_valid = train_test_split(X, y, \\\n",
    "    test_size=0.2, random_state=0)\n",
    "\n",
    "d_train = xgb.DMatrix(X_train, label=y_train)\n",
    "d_valid = xgb.DMatrix(X_valid, label=y_valid) \n",
    "d_test = xgb.DMatrix(X_test)\n",
    "\n",
    "eval_set = [(X_train, y_train), (X_valid, y_valid)]\n",
    "watchlist = [(d_train, 'train'), (d_valid, 'valid')]\n",
    "\n",
    "# Train model, evaluate and make predictions\n",
    "params = {}\n",
    "params['objective'] = 'binary:logistic'\n",
    "params['eta'] = 0.75\n",
    "params['max_depth'] = 16\n",
    "params['silent'] = 1\n",
    "params['eval_metric'] = 'auc'\n",
    "\n",
    "model = xgb.train(params, d_train, 100, watchlist, early_stopping_rounds=20, \\\n",
    "    maximize=True, verbose_eval=5)\n",
    "\n",
    "p_test = model.predict(d_test)\n",
    "\n",
    "# Prepare submission\n",
    "subm = pd.DataFrame()\n",
    "subm['id'] = ids\n",
    "subm['target'] = p_test\n",
    "print(len(ids), len(p_test))\n",
    "subm.to_csv('submission.csv', index=False)"
   ]
  },
  {
   "cell_type": "code",
   "execution_count": null,
   "metadata": {
    "collapsed": true
   },
   "outputs": [],
   "source": []
  }
 ],
 "metadata": {
  "anaconda-cloud": {},
  "kernelspec": {
   "display_name": "Python [conda root]",
   "language": "python",
   "name": "conda-root-py"
  }
 },
 "nbformat": 4,
 "nbformat_minor": 2
}
