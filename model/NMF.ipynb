{
 "cells": [
  {
   "cell_type": "code",
   "execution_count": 17,
   "metadata": {},
   "outputs": [],
   "source": [
    "import numpy as np\n",
    "import surprise\n",
    "import pandas as pd\n",
    "import pickle"
   ]
  },
  {
   "cell_type": "code",
   "execution_count": 19,
   "metadata": {},
   "outputs": [
    {
     "name": "stdout",
     "output_type": "stream",
     "text": [
      "Training Set Loaded\n"
     ]
    }
   ],
   "source": [
    "train = pickle.load(open('../data/trainSet_SVD', 'r'))\n",
    "val= pickle.load(open('../data/valSet_SVD', 'r'))\n",
    "print(\"Training Set Loaded\")"
   ]
  },
  {
   "cell_type": "code",
   "execution_count": 20,
   "metadata": {},
   "outputs": [],
   "source": [
    "algo = surprise.NMF()\n",
    "reader = surprise.Reader(rating_scale=(0,1))\n",
    "data = surprise.Dataset.load_from_df(train[['msno', 'song_id', 'target']].dropna(), reader)"
   ]
  },
  {
   "cell_type": "code",
   "execution_count": 26,
   "metadata": {},
   "outputs": [],
   "source": [
    "trainSet = data.build_full_trainset()"
   ]
  },
  {
   "cell_type": "code",
   "execution_count": null,
   "metadata": {},
   "outputs": [],
   "source": [
    "# algo = surprise.NMF(n_factors=5)\n",
    "# algo.train(trainSet)\n",
    "# print(\"Done Training\")"
   ]
  },
  {
   "cell_type": "code",
   "execution_count": 29,
   "metadata": {},
   "outputs": [],
   "source": [
    "valSet = surprise.Dataset.load_from_df(train[['msno', 'song_id', 'target']].dropna(), reader)\n",
    "valSet.split(n_folds=2)"
   ]
  },
  {
   "cell_type": "code",
   "execution_count": null,
   "metadata": {},
   "outputs": [],
   "source": [
    "perf = surprise.evaluate(algo, valSet, measures=['fcp'])"
   ]
  },
  {
   "cell_type": "code",
   "execution_count": null,
   "metadata": {},
   "outputs": [],
   "source": [
    "print perf.best_score"
   ]
  },
  {
   "cell_type": "code",
   "execution_count": null,
   "metadata": {},
   "outputs": [],
   "source": [
    "algo = surprise.NMF(n_factors=10)\n",
    "algo.train(trainSet)\n",
    "print(\"Done Training\")\n",
    "perf = surprise.evaluate(algo, valSet, measures=['MAE'])"
   ]
  },
  {
   "cell_type": "code",
   "execution_count": null,
   "metadata": {},
   "outputs": [],
   "source": [
    "perf = surprise.evaluate(algo, val, measures=['MAE'])"
   ]
  },
  {
   "cell_type": "code",
   "execution_count": null,
   "metadata": {},
   "outputs": [],
   "source": [
    "print perf1"
   ]
  },
  {
   "cell_type": "code",
   "execution_count": 9,
   "metadata": {},
   "outputs": [],
   "source": [
    "test = pd.read_csv('../data/test.csv')"
   ]
  },
  {
   "cell_type": "code",
   "execution_count": 15,
   "metadata": {},
   "outputs": [
    {
     "name": "stdout",
     "output_type": "stream",
     "text": [
      "Created submission.csv\n"
     ]
    }
   ],
   "source": [
    "submit = []\n",
    "for index, row in test.iterrows():\n",
    "    est = algo.predict(row['msno'], row['song_id']).est\n",
    "    submit.append((row['id'], est))\n",
    "submit = pd.DataFrame(submit, columns=['id', 'target'])\n",
    "submit.to_csv('../submissions/submission_NMF.csv', index=False)\n",
    "print(\"Created submission.csv\")"
   ]
  },
  {
   "cell_type": "code",
   "execution_count": null,
   "metadata": {},
   "outputs": [],
   "source": []
  }
 ],
 "metadata": {
  "kernelspec": {
   "display_name": "Python 2",
   "language": "python",
   "name": "python2"
  },
  "language_info": {
   "codemirror_mode": {
    "name": "ipython",
    "version": 2
   },
   "file_extension": ".py",
   "mimetype": "text/x-python",
   "name": "python",
   "nbconvert_exporter": "python",
   "pygments_lexer": "ipython2",
   "version": "2.7.11"
  }
 },
 "nbformat": 4,
 "nbformat_minor": 2
}
