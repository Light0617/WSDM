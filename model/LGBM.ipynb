{
 "cells": [
  {
   "cell_type": "code",
   "execution_count": 1,
   "metadata": {},
   "outputs": [
    {
     "name": "stderr",
     "output_type": "stream",
     "text": [
      "/Users/light/anaconda/lib/python3.5/site-packages/sklearn/cross_validation.py:44: DeprecationWarning: This module was deprecated in version 0.18 in favor of the model_selection module into which all the refactored classes and functions are moved. Also note that the interface of the new CV iterators are different from that of this module. This module will be removed in 0.20.\n",
      "  \"This module will be removed in 0.20.\", DeprecationWarning)\n"
     ]
    }
   ],
   "source": [
    "import numpy as np\n",
    "import pandas as pd\n",
    "\n",
    "from sklearn.model_selection import train_test_split\n",
    "from sklearn.preprocessing import LabelEncoder\n",
    "\n",
    "from tqdm import tqdm\n",
    "import xgboost as xgb"
   ]
  },
  {
   "cell_type": "code",
   "execution_count": 3,
   "metadata": {},
   "outputs": [
    {
     "name": "stderr",
     "output_type": "stream",
     "text": [
      "  5%|▌         | 1/20 [00:42<13:19, 42.07s/it]"
     ]
    },
    {
     "name": "stdout",
     "output_type": "stream",
     "text": [
      "msno: 30755, 25131\n"
     ]
    },
    {
     "name": "stderr",
     "output_type": "stream",
     "text": [
      "\r",
      " 10%|█         | 2/20 [02:15<20:18, 67.71s/it]"
     ]
    },
    {
     "name": "stdout",
     "output_type": "stream",
     "text": [
      "song_id: 359966, 224753\n"
     ]
    },
    {
     "name": "stderr",
     "output_type": "stream",
     "text": [
      "\r",
      " 15%|█▌        | 3/20 [02:42<15:18, 54.00s/it]"
     ]
    },
    {
     "name": "stdout",
     "output_type": "stream",
     "text": [
      "source_system_tab: 10, 10\n"
     ]
    },
    {
     "name": "stderr",
     "output_type": "stream",
     "text": [
      "\r",
      " 20%|██        | 4/20 [03:12<12:48, 48.06s/it]"
     ]
    },
    {
     "name": "stdout",
     "output_type": "stream",
     "text": [
      "source_screen_name: 21, 23\n"
     ]
    },
    {
     "name": "stderr",
     "output_type": "stream",
     "text": [
      "\r",
      " 25%|██▌       | 5/20 [03:41<11:03, 44.21s/it]"
     ]
    },
    {
     "name": "stdout",
     "output_type": "stream",
     "text": [
      "source_type: 13, 13\n"
     ]
    },
    {
     "name": "stderr",
     "output_type": "stream",
     "text": [
      "\r",
      " 30%|███       | 6/20 [04:32<10:36, 45.43s/it]"
     ]
    },
    {
     "name": "stdout",
     "output_type": "stream",
     "text": [
      "artist_name: 40583, 27564\n"
     ]
    },
    {
     "name": "stderr",
     "output_type": "stream",
     "text": [
      "\r",
      " 35%|███▌      | 7/20 [04:59<09:16, 42.78s/it]"
     ]
    },
    {
     "name": "stdout",
     "output_type": "stream",
     "text": [
      "genre_ids: 573, 502\n"
     ]
    },
    {
     "name": "stderr",
     "output_type": "stream",
     "text": [
      "100%|██████████| 20/20 [05:19<00:00, 15.99s/it]"
     ]
    },
    {
     "name": "stdout",
     "output_type": "stream",
     "text": [
      "gender: 3, 3\n",
      "    msno  song_id  source_system_tab  source_screen_name  source_type  target  \\\n",
      "0   9176    86884                  2                   8            7       1   \n",
      "1  19273   260594                  4                   9            5       1   \n",
      "2  19273   140755                  4                   9            5       1   \n",
      "3  19273    27577                  4                   9            5       1   \n",
      "4   9176    38706                  2                   8            7       1   \n",
      "\n",
      "   artist_name  genre_ids  song_length  language        ...         bd  \\\n",
      "0         3785        308     206471.0      52.0        ...          0   \n",
      "1        36868         98     284584.0      52.0        ...         24   \n",
      "2        24602         98     225396.0      52.0        ...         24   \n",
      "3        31652          7     255512.0      -1.0        ...         24   \n",
      "4         5191          3     187802.0      52.0        ...          0   \n",
      "\n",
      "   gender  registered_via  registration_init_time  expiration_date  \\\n",
      "0       0               7                20120102                5   \n",
      "1       1               9                20110525               11   \n",
      "2       1               9                20110525               11   \n",
      "3       1               9                20110525               11   \n",
      "4       0               7                20120102                5   \n",
      "\n",
      "   registration_year  registration_month  registration_date  expiration_year  \\\n",
      "0               2012                   1                  2             2017   \n",
      "1               2011                   5                 25             2017   \n",
      "2               2011                   5                 25             2017   \n",
      "3               2011                   5                 25             2017   \n",
      "4               2012                   1                  2             2017   \n",
      "\n",
      "   expiration_month  \n",
      "0                10  \n",
      "1                 9  \n",
      "2                 9  \n",
      "3                 9  \n",
      "4                10  \n",
      "\n",
      "[5 rows x 21 columns]\n",
      "   id   msno  song_id  source_system_tab  source_screen_name  source_type  \\\n",
      "0   0  17724   228222                  4                   9            4   \n",
      "1   1  17724   407039                  4                   9            4   \n",
      "2   2    977    70211                  1                   0           10   \n",
      "3   3   1878   419092                  7                  17            8   \n",
      "4   4   1878   160096                  7                  17            8   \n",
      "\n",
      "   artist_name  genre_ids  song_length  language        ...         bd  \\\n",
      "0        42813        365     224130.0       3.0        ...          0   \n",
      "1        42633        372     320470.0       3.0        ...          0   \n",
      "2        38493        201     315899.0      17.0        ...          0   \n",
      "3        36424        372     285210.0      52.0        ...         30   \n",
      "4        38299        520     197590.0      -1.0        ...         30   \n",
      "\n",
      "   gender  registered_via  registration_init_time  expiration_date  \\\n",
      "0       0               7                20160219               18   \n",
      "1       0               7                20160219               18   \n",
      "2       0               4                20161117               24   \n",
      "3       2               9                20070725               30   \n",
      "4       2               9                20070725               30   \n",
      "\n",
      "   registration_year  registration_month  registration_date  expiration_year  \\\n",
      "0               2016                   2                 19             2017   \n",
      "1               2016                   2                 19             2017   \n",
      "2               2016                  11                 17             2016   \n",
      "3               2007                   7                 25             2017   \n",
      "4               2007                   7                 25             2017   \n",
      "\n",
      "   expiration_month  \n",
      "0                 9  \n",
      "1                 9  \n",
      "2                11  \n",
      "3                 4  \n",
      "4                 4  \n",
      "\n",
      "[5 rows x 21 columns]\n"
     ]
    },
    {
     "name": "stderr",
     "output_type": "stream",
     "text": [
      "\n"
     ]
    },
    {
     "name": "stdout",
     "output_type": "stream",
     "text": [
      "[0]\ttrain-auc:0.677461\tvalid-auc:0.676231\n",
      "Multiple eval metrics have been passed: 'valid-auc' will be used for early stopping.\n",
      "\n",
      "Will train until valid-auc hasn't improved in 20 rounds.\n",
      "[10]\ttrain-auc:0.729333\tvalid-auc:0.723042\n",
      "[20]\ttrain-auc:0.755395\tvalid-auc:0.745264\n",
      "[30]\ttrain-auc:0.772012\tvalid-auc:0.758588\n",
      "[40]\ttrain-auc:0.784599\tvalid-auc:0.768582\n",
      "[50]\ttrain-auc:0.792818\tvalid-auc:0.773607\n",
      "[60]\ttrain-auc:0.800681\tvalid-auc:0.778979\n",
      "[70]\ttrain-auc:0.80708\tvalid-auc:0.783057\n",
      "[80]\ttrain-auc:0.81297\tvalid-auc:0.78659\n",
      "[90]\ttrain-auc:0.818247\tvalid-auc:0.789474\n",
      "[100]\ttrain-auc:0.822554\tvalid-auc:0.791283\n",
      "2556790 2556790\n"
     ]
    }
   ],
   "source": [
    "data_path = '../data/'\n",
    "train = pd.read_csv(data_path + 'train.csv')\n",
    "test = pd.read_csv(data_path + 'test.csv')\n",
    "songs = pd.read_csv(data_path + 'songs.csv')\n",
    "members = pd.read_csv(data_path + 'members.csv')\n",
    "\n",
    "song_cols = ['song_id', 'artist_name', 'genre_ids', 'song_length', 'language']\n",
    "train = train.merge(songs[song_cols], on='song_id', how='left')\n",
    "test = test.merge(songs[song_cols], on='song_id', how='left')\n",
    "\n",
    "members['registration_year'] = members['registration_init_time'].apply(lambda x: int(str(x)[0:4]))\n",
    "members['registration_month'] = members['registration_init_time'].apply(lambda x: int(str(x)[4:6]))\n",
    "members['registration_date'] = members['registration_init_time'].apply(lambda x: int(str(x)[6:8]))\n",
    "\n",
    "members['expiration_year'] = members['expiration_date'].apply(lambda x: int(str(x)[0:4]))\n",
    "members['expiration_month'] = members['expiration_date'].apply(lambda x: int(str(x)[4:6]))\n",
    "members['expiration_date'] = members['expiration_date'].apply(lambda x: int(str(x)[6:8]))\n",
    "member = members.drop(['registration_year', 'expiration_year'], axis=1)\n",
    "\n",
    "members_cols = members.columns\n",
    "train = train.merge(members[members_cols], on='msno', how='left')\n",
    "test = test.merge(members[members_cols], on='msno', how='left')\n",
    "\n",
    "train = train.fillna(-1)\n",
    "test = test.fillna(-1)\n",
    "\n",
    "# Preprocess dataset\n",
    "cols = list(train.columns)\n",
    "cols.remove('target')\n",
    "\n",
    "for col in tqdm(cols):\n",
    "    if train[col].dtype == 'object':\n",
    "        train[col] = train[col].apply(str)\n",
    "        test[col] = test[col].apply(str)\n",
    "\n",
    "        le = LabelEncoder()\n",
    "        train_vals = list(train[col].unique())\n",
    "        test_vals = list(test[col].unique())\n",
    "        le.fit(train_vals + test_vals)\n",
    "        train[col] = le.transform(train[col])\n",
    "        test[col] = le.transform(test[col])\n",
    "\n",
    "        print(col + ': ' + str(len(train_vals)) + ', ' + str(len(test_vals)))\n",
    "\n",
    "print(train.head())\n",
    "print(test.head())\n",
    "\n",
    "X = np.array(train.drop(['target'], axis=1))\n",
    "y = train['target'].values\n",
    "\n",
    "X_test = np.array(test.drop(['id'], axis=1))\n",
    "ids = test['id'].values\n",
    "\n",
    "X_train, X_valid, y_train, y_valid = train_test_split(X, y, \\\n",
    "    test_size=0.2, random_state=0)\n",
    "\n",
    "d_train = xgb.DMatrix(X_train, label=y_train)\n",
    "d_valid = xgb.DMatrix(X_valid, label=y_valid) \n",
    "d_test = xgb.DMatrix(X_test)\n",
    "\n",
    "eval_set = [(X_train, y_train), (X_valid, y_valid)]\n",
    "watchlist = [(d_train, 'train'), (d_valid, 'valid')]\n",
    "\n",
    "# Train model, evaluate and make predictions\n",
    "params = {}\n",
    "params['objective'] = 'binary:logistic'\n",
    "params['eta'] = 0.7\n",
    "params['max_depth'] = 10\n",
    "params['silent'] = 1\n",
    "params['eval_metric'] = 'auc'\n",
    "\n",
    "model = xgb.train(params, d_train, 105, watchlist, early_stopping_rounds=20, \\\n",
    "    maximize=True, verbose_eval=10)\n",
    "\n",
    "p_test = model.predict(d_test)\n",
    "\n",
    "# Prepare submission\n",
    "subm = pd.DataFrame()\n",
    "subm['id'] = ids\n",
    "subm['target'] = p_test\n",
    "print(len(ids), len(p_test))\n",
    "subm.to_csv('submission.csv', index=False)"
   ]
  },
  {
   "cell_type": "code",
   "execution_count": null,
   "metadata": {
    "collapsed": true
   },
   "outputs": [],
   "source": []
  }
 ],
 "metadata": {
  "anaconda-cloud": {},
  "kernelspec": {
   "display_name": "Python [conda root]",
   "language": "python",
   "name": "conda-root-py"
  },
  "language_info": {
   "codemirror_mode": {
    "name": "ipython",
    "version": 3
   },
   "file_extension": ".py",
   "mimetype": "text/x-python",
   "name": "python",
   "nbconvert_exporter": "python",
   "pygments_lexer": "ipython3",
   "version": "3.5.2"
  }
 },
 "nbformat": 4,
 "nbformat_minor": 2
}
