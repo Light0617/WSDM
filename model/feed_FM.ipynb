{
 "cells": [
  {
   "cell_type": "code",
   "execution_count": 2,
   "metadata": {},
   "outputs": [],
   "source": [
    "import pickle"
   ]
  },
  {
   "cell_type": "code",
   "execution_count": 3,
   "metadata": {},
   "outputs": [
    {
     "name": "stdout",
     "output_type": "stream",
     "text": [
      "loading done\n"
     ]
    }
   ],
   "source": [
    "data_path = '../data/'\n",
    "test = pickle.load( open(data_path + 'test_feature_myadding1_reduceDim', 'rb'))\n",
    "print 'loading done'"
   ]
  },
  {
   "cell_type": "code",
   "execution_count": 4,
   "metadata": {},
   "outputs": [
    {
     "name": "stdout",
     "output_type": "stream",
     "text": [
      "loading done\n"
     ]
    }
   ],
   "source": [
    "data_path = '../data/'\n",
    "train = pickle.load( open(data_path + 'train_feature_myadding1_reduceDim', 'rb'))\n",
    "print 'loading done'"
   ]
  },
  {
   "cell_type": "code",
   "execution_count": 5,
   "metadata": {},
   "outputs": [],
   "source": [
    "num_user =  max(max(test['msno']), max(train['msno'])) + 1\n",
    "num_song = max(max(test['song_id']), max(train['song_id'])) + 1"
   ]
  },
  {
   "cell_type": "code",
   "execution_count": 6,
   "metadata": {},
   "outputs": [
    {
     "name": "stdout",
     "output_type": "stream",
     "text": [
      "9\n"
     ]
    }
   ],
   "source": [
    "source_system_tab = list(set(test['source_system_tab'].unique()) | set(train['source_system_tab'].unique()))\n",
    "num_source_system_tab = len(source_system_tab)\n",
    "print num_source_system_tab"
   ]
  },
  {
   "cell_type": "code",
   "execution_count": 7,
   "metadata": {},
   "outputs": [],
   "source": [
    "source_system_tab_map = {}\n",
    "k = 0\n",
    "for x in source_system_tab:\n",
    "    source_system_tab_map[x] = k\n",
    "    k += 1"
   ]
  },
  {
   "cell_type": "code",
   "execution_count": 8,
   "metadata": {},
   "outputs": [
    {
     "name": "stdout",
     "output_type": "stream",
     "text": [
      "23\n"
     ]
    }
   ],
   "source": [
    "source_screen_name = set(test['source_screen_name'].unique()) | set(train['source_screen_name'].unique())\n",
    "num_source_screen_name = len(source_screen_name)\n",
    "print num_source_screen_name"
   ]
  },
  {
   "cell_type": "code",
   "execution_count": 9,
   "metadata": {},
   "outputs": [],
   "source": [
    "source_screen_name_map = {}\n",
    "k = 0\n",
    "for x in source_screen_name:\n",
    "    source_screen_name_map[x] = k\n",
    "    k += 1"
   ]
  },
  {
   "cell_type": "code",
   "execution_count": 10,
   "metadata": {},
   "outputs": [
    {
     "name": "stdout",
     "output_type": "stream",
     "text": [
      "13\n"
     ]
    }
   ],
   "source": [
    "source_type = set(test['source_type'].unique()) | set(train['source_type'].unique())\n",
    "num_source_type = len(source_type)\n",
    "print num_source_type"
   ]
  },
  {
   "cell_type": "code",
   "execution_count": 11,
   "metadata": {},
   "outputs": [],
   "source": [
    "source_type_map = {}\n",
    "k = 0\n",
    "for x in source_type:\n",
    "    source_type_map[x] = k\n",
    "    k += 1"
   ]
  },
  {
   "cell_type": "code",
   "execution_count": 12,
   "metadata": {},
   "outputs": [
    {
     "name": "stdout",
     "output_type": "stream",
     "text": [
      "609\n"
     ]
    }
   ],
   "source": [
    "genre_ids = set(test['genre_ids'].unique()) | set(train['genre_ids'].unique())\n",
    "num_genre_ids = len(genre_ids)\n",
    "print num_genre_ids"
   ]
  },
  {
   "cell_type": "code",
   "execution_count": 13,
   "metadata": {},
   "outputs": [],
   "source": [
    "genre_ids_map = {}\n",
    "k = 0\n",
    "for x in genre_ids:\n",
    "    genre_ids_map[x] = k\n",
    "    k += 1"
   ]
  },
  {
   "cell_type": "code",
   "execution_count": 14,
   "metadata": {},
   "outputs": [
    {
     "name": "stdout",
     "output_type": "stream",
     "text": [
      "872\n"
     ]
    }
   ],
   "source": [
    "artist_name = set(test['artist_name'].unique()) | set(train['artist_name'].unique())\n",
    "num_artist_name = len(artist_name)\n",
    "print num_artist_name"
   ]
  },
  {
   "cell_type": "code",
   "execution_count": 15,
   "metadata": {},
   "outputs": [],
   "source": [
    "artist_name_map = {}\n",
    "k = 0\n",
    "for x in artist_name:\n",
    "    artist_name_map[x] = k\n",
    "    k += 1"
   ]
  },
  {
   "cell_type": "code",
   "execution_count": 16,
   "metadata": {},
   "outputs": [
    {
     "name": "stdout",
     "output_type": "stream",
     "text": [
      "911\n"
     ]
    }
   ],
   "source": [
    "composer = set(test['composer'].unique()) | set(train['composer'].unique())\n",
    "num_composer = len(composer)\n",
    "print num_composer"
   ]
  },
  {
   "cell_type": "code",
   "execution_count": 17,
   "metadata": {},
   "outputs": [],
   "source": [
    "composer_map = {}\n",
    "k = 0\n",
    "for x in composer:\n",
    "    composer_map[x] = k\n",
    "    k += 1"
   ]
  },
  {
   "cell_type": "code",
   "execution_count": 18,
   "metadata": {},
   "outputs": [
    {
     "name": "stdout",
     "output_type": "stream",
     "text": [
      "998\n"
     ]
    }
   ],
   "source": [
    "lyricist = set(test['lyricist'].unique()) | set(train['lyricist'].unique())\n",
    "num_lyricist = len(lyricist)\n",
    "print num_lyricist"
   ]
  },
  {
   "cell_type": "code",
   "execution_count": 19,
   "metadata": {},
   "outputs": [],
   "source": [
    "lyricist_map = {}\n",
    "k = 0\n",
    "for x in lyricist:\n",
    "    lyricist_map[x] = k\n",
    "    k += 1"
   ]
  },
  {
   "cell_type": "code",
   "execution_count": 20,
   "metadata": {},
   "outputs": [
    {
     "name": "stdout",
     "output_type": "stream",
     "text": [
      "12\n"
     ]
    }
   ],
   "source": [
    "language = set(test['language'].unique()) | set(train['language'].unique())\n",
    "num_language = len(language)\n",
    "print num_language"
   ]
  },
  {
   "cell_type": "code",
   "execution_count": 21,
   "metadata": {},
   "outputs": [],
   "source": [
    "language_map = {}\n",
    "k = 0\n",
    "for x in language:\n",
    "    language_map[x] = k\n",
    "    k += 1"
   ]
  },
  {
   "cell_type": "code",
   "execution_count": 22,
   "metadata": {},
   "outputs": [
    {
     "name": "stdout",
     "output_type": "stream",
     "text": [
      "21\n"
     ]
    }
   ],
   "source": [
    "city = set(test['city'].unique()) | set(train['city'].unique())\n",
    "num_city = len(city)\n",
    "print num_city"
   ]
  },
  {
   "cell_type": "code",
   "execution_count": 23,
   "metadata": {},
   "outputs": [],
   "source": [
    "city_map = {}\n",
    "k = 0\n",
    "for x in city:\n",
    "    city_map[x] = k\n",
    "    k += 1"
   ]
  },
  {
   "cell_type": "code",
   "execution_count": 24,
   "metadata": {},
   "outputs": [
    {
     "name": "stdout",
     "output_type": "stream",
     "text": [
      "3\n"
     ]
    }
   ],
   "source": [
    "gender = set(test['gender'].unique()) | set(train['gender'].unique())\n",
    "num_gender = len(gender)\n",
    "print num_gender"
   ]
  },
  {
   "cell_type": "code",
   "execution_count": 25,
   "metadata": {},
   "outputs": [],
   "source": [
    "gender_map = {}\n",
    "k = 0\n",
    "for x in gender:\n",
    "    gender_map[x] = k\n",
    "    k += 1"
   ]
  },
  {
   "cell_type": "code",
   "execution_count": 26,
   "metadata": {},
   "outputs": [
    {
     "name": "stdout",
     "output_type": "stream",
     "text": [
      "6\n"
     ]
    }
   ],
   "source": [
    "registered_via = set(test['registered_via'].unique()) | set(train['registered_via'].unique())\n",
    "num_registered_via = len(registered_via)\n",
    "print num_registered_via"
   ]
  },
  {
   "cell_type": "code",
   "execution_count": 27,
   "metadata": {},
   "outputs": [],
   "source": [
    "registered_via_map = {}\n",
    "k = 0\n",
    "for x in registered_via:\n",
    "    registered_via_map[x] = k\n",
    "    k += 1"
   ]
  },
  {
   "cell_type": "code",
   "execution_count": 28,
   "metadata": {},
   "outputs": [
    {
     "name": "stdout",
     "output_type": "stream",
     "text": [
      "117\n"
     ]
    }
   ],
   "source": [
    "song_country = set(test['song_country'].unique()) | set(train['song_country'].unique())\n",
    "num_song_country = len(song_country)\n",
    "print num_song_country"
   ]
  },
  {
   "cell_type": "code",
   "execution_count": 29,
   "metadata": {},
   "outputs": [],
   "source": [
    "song_country_map = {}\n",
    "k = 0\n",
    "for x in song_country:\n",
    "    song_country_map[x] = k\n",
    "    k += 1"
   ]
  },
  {
   "cell_type": "code",
   "execution_count": 30,
   "metadata": {},
   "outputs": [
    {
     "name": "stdout",
     "output_type": "stream",
     "text": [
      "18146 446810 my library Local playlist more local-library 224130 458 梁文音 (Rachel Liang) new no_lyricist 3.0 1 0 nan 7 1 1970 1 1 1970 1 1 -1 2014.0 1 0 1 0 0 0 0 0 1 694 13654 TW 2014.0\n"
     ]
    }
   ],
   "source": [
    "for index, row in test.iterrows():\n",
    "    print row['msno'], row['song_id'], row['source_system_tab'], row['source_screen_name'], row['source_type'],\\\n",
    "            row['song_length'], row['genre_ids'], row['artist_name'], row['composer'],\\\n",
    "            row['lyricist'],  row['language'],  row['city'],  row['bd'],  row['gender'], row['registered_via'], \\\n",
    "            row['expiration_date'], row['registration_year'], row['registration_month'], row['registration_date'], row['expiration_year'],\\\n",
    "            row['expiration_month'], row['expiration_month'], row['membership_days'], row['song_year_x'], row['genre_ids_count'],\\\n",
    "            row['lyricists_count'],  row['composer_count'],  row['is_featured'],  row['artist_count'],  row['artist_composer'], \\\n",
    "            row['artist_composer_lyricist'], row['song_lang_boolean'], row['smaller_song'], row['count_song_played'], \\\n",
    "            row['count_artist_played'], row['song_country'], row['song_year_y']\n",
    "    break"
   ]
  },
  {
   "cell_type": "code",
   "execution_count": 31,
   "metadata": {},
   "outputs": [],
   "source": [
    "def update_song_id(x):\n",
    "    if isinstance(x, float) and np.isnan(x):\n",
    "        return num_user\n",
    "    return x + num_user\n",
    "def update_source_system_tab(x):\n",
    "    if isinstance(x, float) and np.isnan(x):\n",
    "        return num_user + num_song\n",
    "    return source_system_tab_map[x] + num_user + num_song\n",
    "def update_source_screen_name(x):\n",
    "    if isinstance(x, float) and np.isnan(x):\n",
    "        return num_user + num_song + num_source_system_tab\n",
    "    return source_screen_name_map[x] + num_user + num_song + num_source_system_tab\n",
    "def update_source_type(x):\n",
    "    if isinstance(x, float) and np.isnan(x):\n",
    "        return num_user + num_song + num_source_system_tab + num_source_screen_name\n",
    "    return source_type_map[x] + num_user + num_song + num_source_system_tab + num_source_screen_name\n",
    "def update_song_length(x):\n",
    "    if isinstance(x, float) and np.isnan(x):\n",
    "        return num_song + num_source_system_tab + num_source_screen_name + num_source_type\n",
    "    return num_user + num_song + num_source_system_tab + num_source_screen_name + num_source_type\n",
    "def update_genre_ids(x):\n",
    "    if isinstance(x, float) and np.isnan(x):\n",
    "        return num_user + num_song + num_source_system_tab + num_source_screen_name + num_source_type\\\n",
    "        + 1\n",
    "    return genre_ids_map[x] + num_user + num_song + num_source_system_tab + num_source_screen_name + num_source_type\\\n",
    "        + 1\n",
    "def update_artist_name(x):\n",
    "    if isinstance(x, float) and np.isnan(x):\n",
    "        return num_user + num_song + num_source_system_tab + num_source_screen_name +\\\n",
    "            num_source_type + 1 + num_genre_ids\n",
    "    return artist_name_map[x] + num_user + num_song + num_source_system_tab + num_source_screen_name +\\\n",
    "            num_source_type + 1 + num_genre_ids\n",
    "def update_composer(x):\n",
    "    if isinstance(x, float) and np.isnan(x):\n",
    "        return num_user + num_song + num_source_system_tab + num_source_screen_name +\\\n",
    "            num_source_type + 1 + num_genre_ids + num_artist_name\n",
    "    return composer_map[x] + num_user + num_song + num_source_system_tab + num_source_screen_name +\\\n",
    "            num_source_type + 1 + num_genre_ids + num_artist_name\n",
    "def update_lyricist(x):\n",
    "    if isinstance(x, float) and np.isnan(x):\n",
    "        return num_user + num_song + num_source_system_tab + num_source_screen_name +\\\n",
    "            num_source_type + 1 + num_genre_ids + num_artist_name + num_composer\n",
    "    return lyricist_map[x] + num_user + num_song + num_source_system_tab + num_source_screen_name +\\\n",
    "            num_source_type + 1 + num_genre_ids + num_artist_name + num_composer\n",
    "def update_language(x):\n",
    "    if isinstance(x, float) and np.isnan(x):\n",
    "        return num_user + num_song + num_source_system_tab + num_source_screen_name +\\\n",
    "            num_source_type + 1 + num_genre_ids + num_artist_name + num_composer + num_lyricist\n",
    "    return language_map[x] + num_user + num_song + num_source_system_tab + num_source_screen_name +\\\n",
    "            num_source_type + 1 + num_genre_ids + num_artist_name + num_composer + num_lyricist\n",
    "def update_city(x):\n",
    "    if isinstance(x, float) and np.isnan(x):\n",
    "        return num_user + num_song + num_source_system_tab + num_source_screen_name +\\\n",
    "            num_source_type + 1 + num_genre_ids + num_artist_name + num_composer + num_lyricist +\\\n",
    "            num_language\n",
    "    return city_map[x] + num_user + num_song + num_source_system_tab + num_source_screen_name +\\\n",
    "            num_source_type + 1 + num_genre_ids + num_artist_name + num_composer + num_lyricist +\\\n",
    "            num_language\n",
    "def update_bd(x):\n",
    "    if isinstance(x, float) and np.isnan(x):\n",
    "        return num_song + num_source_system_tab + num_source_screen_name +\\\n",
    "            num_source_type + 1 + num_genre_ids + num_artist_name + num_composer + num_lyricist +\\\n",
    "            num_language + num_city\n",
    "    return num_user + num_song + num_source_system_tab + num_source_screen_name +\\\n",
    "            num_source_type + 1 + num_genre_ids + num_artist_name + num_composer + num_lyricist +\\\n",
    "            num_language + num_city\n",
    "def update_gender(x):\n",
    "    if isinstance(x, float) and np.isnan(x):\n",
    "        return num_user + num_song + num_source_system_tab + num_source_screen_name +\\\n",
    "            num_source_type + 2 + num_genre_ids + num_artist_name + num_composer + num_lyricist +\\\n",
    "            num_language + num_city\n",
    "    return gender_map[x] + num_user + num_song + num_source_system_tab + num_source_screen_name +\\\n",
    "            num_source_type + 2 + num_genre_ids + num_artist_name + num_composer + num_lyricist +\\\n",
    "            num_language + num_city\n",
    "def update_registered_via(x):\n",
    "    if isinstance(x, float) and np.isnan(x):\n",
    "        return num_user + num_song + num_source_system_tab + num_source_screen_name +\\\n",
    "            num_source_type + 2 + num_genre_ids + num_artist_name + num_composer + num_lyricist +\\\n",
    "            num_language + num_city + num_gender\n",
    "    return registered_via_map[x] + num_user + num_song + num_source_system_tab + num_source_screen_name +\\\n",
    "            num_source_type + 2 + num_genre_ids + num_artist_name + num_composer + num_lyricist +\\\n",
    "            num_language + num_city + num_gender\n",
    "def update_expiration_date(x):\n",
    "    if isinstance(x, float) and np.isnan(x):\n",
    "        return num_song + num_source_system_tab + num_source_screen_name +\\\n",
    "            num_source_type + 2 + num_genre_ids + num_artist_name + num_composer + num_lyricist +\\\n",
    "            num_language + num_city + num_gender + num_registered_via\n",
    "    return num_user + num_song + num_source_system_tab + num_source_screen_name +\\\n",
    "            num_source_type + 2 + num_genre_ids + num_artist_name + num_composer + num_lyricist +\\\n",
    "            num_language + num_city + num_gender + num_registered_via"
   ]
  },
  {
   "cell_type": "code",
   "execution_count": 32,
   "metadata": {},
   "outputs": [],
   "source": [
    "def update_registration_year(x):\n",
    "    if isinstance(x, float) and np.isnan(x):\n",
    "        return num_user + num_song + num_source_system_tab + num_source_screen_name +\\\n",
    "            num_source_type + 3 + num_genre_ids + num_artist_name + num_composer + num_lyricist +\\\n",
    "            num_language + num_city + num_gender + num_registered_via\n",
    "    return num_user + num_song + num_source_system_tab + num_source_screen_name +\\\n",
    "            num_source_type + 3 + num_genre_ids + num_artist_name + num_composer + num_lyricist +\\\n",
    "            num_language + num_city + num_gender + num_registered_via\n",
    "def update_registration_month(x):\n",
    "    if isinstance(x, float) and np.isnan(x):\n",
    "        return num_user + num_song + num_source_system_tab + num_source_screen_name +\\\n",
    "            num_source_type + 4 + num_genre_ids + num_artist_name + num_composer + num_lyricist +\\\n",
    "            num_language + num_city + num_gender + num_registered_via\n",
    "    return num_user + num_song + num_source_system_tab + num_source_screen_name +\\\n",
    "            num_source_type + 4 + num_genre_ids + num_artist_name + num_composer + num_lyricist +\\\n",
    "            num_language + num_city + num_gender + num_registered_via\n",
    "def update_registration_date(x):\n",
    "    if isinstance(x, float) and np.isnan(x):\n",
    "        return num_user + num_song + num_source_system_tab + num_source_screen_name +\\\n",
    "            num_source_type + 5 + num_genre_ids + num_artist_name + num_composer + num_lyricist +\\\n",
    "            num_language + num_city + num_gender + num_registered_via\n",
    "    return num_user + num_song + num_source_system_tab + num_source_screen_name +\\\n",
    "            num_source_type + 5 + num_genre_ids + num_artist_name + num_composer + num_lyricist +\\\n",
    "            num_language + num_city + num_gender + num_registered_via\n",
    "def update_expiration_year(x):\n",
    "    if isinstance(x, float) and np.isnan(x):\n",
    "        return num_user + num_song + num_source_system_tab + num_source_screen_name +\\\n",
    "            num_source_type + 6 + num_genre_ids + num_artist_name + num_composer + num_lyricist +\\\n",
    "            num_language + num_city + num_gender + num_registered_via\n",
    "    return num_user + num_song + num_source_system_tab + num_source_screen_name +\\\n",
    "            num_source_type + 6 + num_genre_ids + num_artist_name + num_composer + num_lyricist +\\\n",
    "            num_language + num_city + num_gender + num_registered_via\n",
    "def update_expiration_month(x):\n",
    "    if isinstance(x, float) and np.isnan(x):\n",
    "        return num_user + num_song + num_source_system_tab + num_source_screen_name +\\\n",
    "            num_source_type + 7 + num_genre_ids + num_artist_name + num_composer + num_lyricist +\\\n",
    "            num_language + num_city + num_gender + num_registered_via\n",
    "    return num_user + num_song + num_source_system_tab + num_source_screen_name +\\\n",
    "            num_source_type + 7 + num_genre_ids + num_artist_name + num_composer + num_lyricist +\\\n",
    "            num_language + num_city + num_gender + num_registered_via\n",
    "def update_membership_days(x):\n",
    "    if isinstance(x, float) and np.isnan(x):\n",
    "        return num_user + num_song + num_source_system_tab + num_source_screen_name +\\\n",
    "            num_source_type + 8 + num_genre_ids + num_artist_name + num_composer + num_lyricist +\\\n",
    "            num_language + num_city + num_gender + num_registered_via\n",
    "    return num_user + num_song + num_source_system_tab + num_source_screen_name +\\\n",
    "            num_source_type + 8 + num_genre_ids + num_artist_name + num_composer + num_lyricist +\\\n",
    "            num_language + num_city + num_gender + num_registered_via\n",
    "def update_song_year_x(x):\n",
    "    if isinstance(x, float) and np.isnan(x):\n",
    "        return num_user + num_song + num_source_system_tab + num_source_screen_name +\\\n",
    "            num_source_type + 9 + num_genre_ids + num_artist_name + num_composer + num_lyricist +\\\n",
    "            num_language + num_city + num_gender + num_registered_via\n",
    "    return num_user + num_song + num_source_system_tab + num_source_screen_name +\\\n",
    "            num_source_type + 9 + num_genre_ids + num_artist_name + num_composer + num_lyricist +\\\n",
    "            num_language + num_city + num_gender + num_registered_via\n",
    "def update_genre_ids_count(x):\n",
    "    if isinstance(x, float) and np.isnan(x):\n",
    "        return num_user + num_song + num_source_system_tab + num_source_screen_name +\\\n",
    "            num_source_type + 10 + num_genre_ids + num_artist_name + num_composer + num_lyricist +\\\n",
    "            num_language + num_city + num_gender + num_registered_via\n",
    "    return num_user + num_song + num_source_system_tab + num_source_screen_name +\\\n",
    "            num_source_type + 10 + num_genre_ids + num_artist_name + num_composer + num_lyricist +\\\n",
    "            num_language + num_city + num_gender + num_registered_via"
   ]
  },
  {
   "cell_type": "code",
   "execution_count": 33,
   "metadata": {},
   "outputs": [],
   "source": [
    "def update_lyricists_count(x):\n",
    "    if np.isnan(x):\n",
    "        return num_user + num_song + num_source_system_tab + num_source_screen_name +\\\n",
    "            num_source_type + 11 + num_genre_ids + num_artist_name + num_composer + num_lyricist +\\\n",
    "            num_language + num_city + num_gender + num_registered_via\n",
    "    return num_user + num_song + num_source_system_tab + num_source_screen_name +\\\n",
    "            num_source_type + 11 + num_genre_ids + num_artist_name + num_composer + num_lyricist +\\\n",
    "            num_language + num_city + num_gender + num_registered_via\n",
    "def update_composer_count(x):\n",
    "    if np.isnan(x):\n",
    "        return num_user + num_song + num_source_system_tab + num_source_screen_name +\\\n",
    "            num_source_type + 12 + num_genre_ids + num_artist_name + num_composer + num_lyricist +\\\n",
    "            num_language + num_city + num_gender + num_registered_via\n",
    "    return num_user + num_song + num_source_system_tab + num_source_screen_name +\\\n",
    "            num_source_type + 12 + num_genre_ids + num_artist_name + num_composer + num_lyricist +\\\n",
    "            num_language + num_city + num_gender + num_registered_via"
   ]
  },
  {
   "cell_type": "code",
   "execution_count": 34,
   "metadata": {},
   "outputs": [],
   "source": [
    "def update_composer_count(x):\n",
    "    if np.isnan(x):\n",
    "        return num_user + num_song + num_source_system_tab + num_source_screen_name +\\\n",
    "            num_source_type + 13 + num_genre_ids + num_artist_name + num_composer + num_lyricist +\\\n",
    "            num_language + num_city + num_gender + num_registered_via\n",
    "    return num_user + num_song + num_source_system_tab + num_source_screen_name +\\\n",
    "            num_source_type + 13 + num_genre_ids + num_artist_name + num_composer + num_lyricist +\\\n",
    "            num_language + num_city + num_gender + num_registered_via\n",
    "def update_is_featured(x):\n",
    "    if np.isnan(x):\n",
    "        return num_user + num_song + num_source_system_tab + num_source_screen_name +\\\n",
    "            num_source_type + 14 + num_genre_ids + num_artist_name + num_composer + num_lyricist +\\\n",
    "            num_language + num_city + num_gender + num_registered_via\n",
    "    return num_user + num_song + num_source_system_tab + num_source_screen_name +\\\n",
    "            num_source_type + 14 + num_genre_ids + num_artist_name + num_composer + num_lyricist +\\\n",
    "            num_language + num_city + num_gender + num_registered_via"
   ]
  },
  {
   "cell_type": "code",
   "execution_count": 35,
   "metadata": {},
   "outputs": [],
   "source": [
    "def update_artist_count(x):\n",
    "    return num_user + num_song + num_source_system_tab + num_source_screen_name +\\\n",
    "            num_source_type + 15 + num_genre_ids + num_artist_name + num_composer + num_lyricist +\\\n",
    "            num_language + num_city + num_gender + num_registered_via\n",
    "def update_artist_composer(x):\n",
    "    return num_user + num_song + num_source_system_tab + num_source_screen_name +\\\n",
    "            num_source_type + 16 + num_genre_ids + num_artist_name + num_composer + num_lyricist +\\\n",
    "            num_language + num_city + num_gender + num_registered_via"
   ]
  },
  {
   "cell_type": "code",
   "execution_count": 36,
   "metadata": {},
   "outputs": [
    {
     "name": "stdout",
     "output_type": "stream",
     "text": [
      "id                             int64\n",
      "msno                        category\n",
      "song_id                        int64\n",
      "source_system_tab           category\n",
      "source_screen_name          category\n",
      "source_type                 category\n",
      "song_length                   uint32\n",
      "genre_ids                   category\n",
      "artist_name                   object\n",
      "composer                      object\n",
      "lyricist                      object\n",
      "language                    category\n",
      "city                        category\n",
      "bd                             uint8\n",
      "gender                      category\n",
      "registered_via              category\n",
      "expiration_date                int64\n",
      "registration_year              int64\n",
      "registration_month             int64\n",
      "registration_date              int64\n",
      "expiration_year                int64\n",
      "expiration_month               int64\n",
      "membership_days                int64\n",
      "song_year_x                  float64\n",
      "genre_ids_count                 int8\n",
      "lyricists_count                 int8\n",
      "composer_count                  int8\n",
      "is_featured                     int8\n",
      "artist_count                    int8\n",
      "artist_composer                 int8\n",
      "artist_composer_lyricist        int8\n",
      "song_lang_boolean               int8\n",
      "smaller_song                    int8\n",
      "count_song_played              int64\n",
      "count_artist_played            int64\n",
      "song_country                  object\n",
      "song_year_y                  float64\n",
      "dtype: object\n"
     ]
    }
   ],
   "source": [
    "print test.dtypes"
   ]
  },
  {
   "cell_type": "code",
   "execution_count": 37,
   "metadata": {},
   "outputs": [],
   "source": [
    "def update_artist_composer_lyricist(x):\n",
    "    return num_user + num_song + num_source_system_tab + num_source_screen_name +\\\n",
    "            num_source_type + 17 + num_genre_ids + num_artist_name + num_composer + num_lyricist +\\\n",
    "            num_language + num_city + num_gender + num_registered_via\n",
    "def update_song_lang_boolean(x):\n",
    "    return num_user + num_song + num_source_system_tab + num_source_screen_name +\\\n",
    "            num_source_type + 18 + num_genre_ids + num_artist_name + num_composer + num_lyricist +\\\n",
    "            num_language + num_city + num_gender + num_registered_via"
   ]
  },
  {
   "cell_type": "code",
   "execution_count": 38,
   "metadata": {},
   "outputs": [],
   "source": [
    "def update_smaller_song(x):\n",
    "    return num_user + num_song + num_source_system_tab + num_source_screen_name +\\\n",
    "            num_source_type + 19 + num_genre_ids + num_artist_name + num_composer + num_lyricist +\\\n",
    "            num_language + num_city + num_gender + num_registered_via\n",
    "def update_count_song_played(x):\n",
    "    return num_user + num_song + num_source_system_tab + num_source_screen_name +\\\n",
    "            num_source_type + 20 + num_genre_ids + num_artist_name + num_composer + num_lyricist +\\\n",
    "            num_language + num_city + num_gender + num_registered_via"
   ]
  },
  {
   "cell_type": "code",
   "execution_count": 39,
   "metadata": {},
   "outputs": [],
   "source": [
    "def update_count_artist_played(x):\n",
    "    return num_user + num_song + num_source_system_tab + num_source_screen_name +\\\n",
    "            num_source_type + 21 + num_genre_ids + num_artist_name + num_composer + num_lyricist +\\\n",
    "            num_language + num_city + num_gender + num_registered_via\n",
    "def update_song_country(x):\n",
    "    if isinstance(x, float) and np.isnan(x):\n",
    "        return num_user + num_song + num_source_system_tab + num_source_screen_name +\\\n",
    "            num_source_type + 22 + num_genre_ids + num_artist_name + num_composer + num_lyricist +\\\n",
    "            num_language + num_city + num_gender + num_registered_via\n",
    "    return song_country_map[x] + num_user + num_song + num_source_system_tab + num_source_screen_name +\\\n",
    "            num_source_type + 22 + num_genre_ids + num_artist_name + num_composer + num_lyricist +\\\n",
    "            num_language + num_city + num_gender + num_registered_via\n",
    "def update_song_year_y(x):\n",
    "    return num_user + num_song + num_source_system_tab + num_source_screen_name +\\\n",
    "            num_source_type + 22 + num_genre_ids + num_artist_name + num_composer + num_lyricist +\\\n",
    "            num_language + num_city + num_gender + num_registered_via + num_song_country"
   ]
  },
  {
   "cell_type": "code",
   "execution_count": 40,
   "metadata": {},
   "outputs": [],
   "source": [
    "import csv\n",
    "import numpy as np"
   ]
  },
  {
   "cell_type": "code",
   "execution_count": 41,
   "metadata": {},
   "outputs": [],
   "source": [
    "# with open('../test.txt', \"wb\") as f:\n",
    "#     for index, row in test.iterrows():\n",
    "#         s = str(row['msno']) + ':1 ' + \\\n",
    "#             str(update_song_id(row['song_id'])) + ':1 ' + \\\n",
    "#             str(update_source_system_tab(row['source_system_tab'])) + ':1 ' + \\\n",
    "#             str(update_source_screen_name(row['source_screen_name'])) + ':1 ' + \\\n",
    "#             str(update_source_type(row['source_type'])) + ':1 ' + \\\n",
    "#             str(update_song_length(row['song_length'])) + ':' + str(row['song_length']) + ' ' + \\\n",
    "#             str(update_genre_ids(row['genre_ids'])) + ':1 ' + \\\n",
    "#             str(update_artist_name(row['artist_name'])) + ':1 ' + \\\n",
    "#             str(update_composer(row['composer'])) + ':1 ' + \\\n",
    "#             str(update_lyricist(row['lyricist'])) + ':1 ' + \\\n",
    "#             str(update_language(row['language'])) + ':1 ' + \\\n",
    "#             str(update_city(row['city'])) + ':1 ' + \\\n",
    "#             str(update_bd(row['bd'])) + ':' + str(row['bd']) + ' ' + \\\n",
    "#             str(update_gender(row['gender'])) + ':1 ' + \\\n",
    "#             str(update_registered_via(row['registered_via'])) + ':1 ' + \\\n",
    "#             str(update_expiration_date(row['expiration_date'])) + ':' + str(row['expiration_date']) + ' ' + \\\n",
    "#             str(update_registration_year(row['registration_year'])) + ':' + str(row['registration_year']) + ' ' + \\\n",
    "#             str(update_registration_month(row['registration_month'])) + ':' + str(row['registration_month']) + ' ' + \\\n",
    "#             str(update_registration_date(row['registration_date'])) + ':' + str(row['registration_date']) + ' ' + \\\n",
    "#             str(update_expiration_year(row['expiration_year'])) + ':' + str(row['expiration_year']) + ' ' + \\\n",
    "#             str(update_expiration_month(row['expiration_month'])) + ':' + str(row['expiration_month']) + ' ' + \\\n",
    "#             str(update_membership_days(row['membership_days'])) + ':' + str(row['membership_days']) + ' ' + \\\n",
    "#             str(update_song_year_x(row['song_year_x'])) + ':' + str(row['song_year_x']) + ' ' + \\\n",
    "#             str(update_genre_ids_count(row['genre_ids_count'])) + ':' + str(row['genre_ids_count']) + ' ' + \\\n",
    "#             str(update_lyricists_count(row['lyricists_count'])) + ':' + str(row['lyricists_count']) + ' ' + \\\n",
    "#             str(update_composer_count(row['composer_count'])) + ':' + str(row['composer_count']) + ' ' + \\\n",
    "#             str(update_is_featured(row['is_featured'])) + ':' + str(row['is_featured']) + ' ' + \\\n",
    "#             str(update_artist_count(row['artist_count'])) + ':' + str(row['artist_count']) + ' ' + \\\n",
    "#             str(update_artist_composer(row['artist_composer'])) + ':' + str(row['artist_composer']) + ' ' + \\\n",
    "#             str(update_artist_composer_lyricist(row['artist_composer_lyricist'])) + ':' + str(row['artist_composer_lyricist']) + ' ' + \\\n",
    "#             str(update_song_lang_boolean(row['song_lang_boolean'])) + ':' + str(row['song_lang_boolean']) + ' ' + \\\n",
    "#             str(update_smaller_song(row['smaller_song'])) + ':' + str(row['smaller_song']) + ' ' + \\\n",
    "#             str(update_count_song_played(row['count_song_played'])) + ':' + str(row['count_song_played']) + ' ' + \\\n",
    "#             str(update_count_artist_played(row['count_artist_played'])) + ':' + str(row['count_artist_played']) + ' ' + \\\n",
    "#             str(update_song_country(row['song_country'])) + ':1'\n",
    "#         f.write(s)"
   ]
  },
  {
   "cell_type": "code",
   "execution_count": 43,
   "metadata": {},
   "outputs": [
    {
     "name": "stdout",
     "output_type": "stream",
     "text": [
      "DDDD \n"
     ]
    }
   ],
   "source": [
    "print 'DDDD '"
   ]
  },
  {
   "cell_type": "code",
   "execution_count": 45,
   "metadata": {},
   "outputs": [],
   "source": [
    "# with open('../train.txt', \"wb\") as f:\n",
    "#     for index, row in train.iterrows():\n",
    "#         s = str(row['msno']) + ':1 ' + \\\n",
    "#             str(update_song_id(row['song_id'])) + ':1 ' + \\\n",
    "#             str(update_source_system_tab(row['source_system_tab'])) + ':1 ' + \\\n",
    "#             str(update_source_screen_name(row['source_screen_name'])) + ':1 ' + \\\n",
    "#             str(update_source_type(row['source_type'])) + ':1 ' + \\\n",
    "#             str(update_song_length(row['song_length'])) + ':' + str(row['song_length']) + ' ' + \\\n",
    "#             str(update_genre_ids(row['genre_ids'])) + ':1 ' + \\\n",
    "#             str(update_artist_name(row['artist_name'])) + ':1 ' + \\\n",
    "#             str(update_composer(row['composer'])) + ':1 ' + \\\n",
    "#             str(update_lyricist(row['lyricist'])) + ':1 ' + \\\n",
    "#             str(update_language(row['language'])) + ':1 ' + \\\n",
    "#             str(update_city(row['city'])) + ':1 ' + \\\n",
    "#             str(update_bd(row['bd'])) + ':' + str(row['bd']) + ' ' + \\\n",
    "#             str(update_gender(row['gender'])) + ':1 ' + \\\n",
    "#             str(update_registered_via(row['registered_via'])) + ':1 ' + \\\n",
    "#             str(update_expiration_date(row['expiration_date'])) + ':' + str(row['expiration_date']) + ' ' + \\\n",
    "#             str(update_registration_year(row['registration_year'])) + ':' + str(row['registration_year']) + ' ' + \\\n",
    "#             str(update_registration_month(row['registration_month'])) + ':' + str(row['registration_month']) + ' ' + \\\n",
    "#             str(update_registration_date(row['registration_date'])) + ':' + str(row['registration_date']) + ' ' + \\\n",
    "#             str(update_expiration_year(row['expiration_year'])) + ':' + str(row['expiration_year']) + ' ' + \\\n",
    "#             str(update_expiration_month(row['expiration_month'])) + ':' + str(row['expiration_month']) + ' ' + \\\n",
    "#             str(update_membership_days(row['membership_days'])) + ':' + str(row['membership_days']) + ' ' + \\\n",
    "#             str(update_song_year_x(row['song_year_x'])) + ':' + str(row['song_year_x']) + ' ' + \\\n",
    "#             str(update_genre_ids_count(row['genre_ids_count'])) + ':' + str(row['genre_ids_count']) + ' ' + \\\n",
    "#             str(update_lyricists_count(row['lyricists_count'])) + ':' + str(row['lyricists_count']) + ' ' + \\\n",
    "#             str(update_composer_count(row['composer_count'])) + ':' + str(row['composer_count']) + ' ' + \\\n",
    "#             str(update_is_featured(row['is_featured'])) + ':' + str(row['is_featured']) + ' ' + \\\n",
    "#             str(update_artist_count(row['artist_count'])) + ':' + str(row['artist_count']) + ' ' + \\\n",
    "#             str(update_artist_composer(row['artist_composer'])) + ':' + str(row['artist_composer']) + ' ' + \\\n",
    "#             str(update_artist_composer_lyricist(row['artist_composer_lyricist'])) + ':' + str(row['artist_composer_lyricist']) + ' ' + \\\n",
    "#             str(update_song_lang_boolean(row['song_lang_boolean'])) + ':' + str(row['song_lang_boolean']) + ' ' + \\\n",
    "#             str(update_smaller_song(row['smaller_song'])) + ':' + str(row['smaller_song']) + ' ' + \\\n",
    "#             str(update_count_song_played(row['count_song_played'])) + ':' + str(row['count_song_played']) + ' ' + \\\n",
    "#             str(update_count_artist_played(row['count_artist_played'])) + ':' + str(row['count_artist_played']) + ' ' + \\\n",
    "#             str(update_song_country(row['song_country'])) + ':1'\n",
    "#         f.write(s)"
   ]
  },
  {
   "cell_type": "code",
   "execution_count": 43,
   "metadata": {},
   "outputs": [],
   "source": [
    "with open('../../libfm/test.txt', \"wb\") as f:\n",
    "    for index, row in test.iterrows():\n",
    "        s = str(row['msno']) + ':1 ' + \\\n",
    "            str(update_song_id(row['song_id'])) + ':1 ' + \\\n",
    "            str(update_source_system_tab(row['source_system_tab'])) + ':1 ' + \\\n",
    "            str(update_source_screen_name(row['source_screen_name'])) + ':1'\n",
    "        f.write(s)"
   ]
  },
  {
   "cell_type": "code",
   "execution_count": 44,
   "metadata": {},
   "outputs": [],
   "source": [
    "with open('../../libfm/train.txt', \"wb\") as f:\n",
    "    for index, row in train.iterrows():\n",
    "        s = str(row['msno']) + ':1 ' + \\\n",
    "            str(update_song_id(row['song_id'])) + ':1 ' + \\\n",
    "            str(update_source_system_tab(row['source_system_tab'])) + ':1 ' + \\\n",
    "            str(update_source_screen_name(row['source_screen_name'])) + ':1'\n",
    "        f.write(s)"
   ]
  },
  {
   "cell_type": "code",
   "execution_count": null,
   "metadata": {},
   "outputs": [],
   "source": [
    "print 'OKOK'"
   ]
  },
  {
   "cell_type": "code",
   "execution_count": null,
   "metadata": {},
   "outputs": [],
   "source": []
  }
 ],
 "metadata": {
  "kernelspec": {
   "display_name": "Python 2",
   "language": "python",
   "name": "python2"
  },
  "language_info": {
   "codemirror_mode": {
    "name": "ipython",
    "version": 2
   },
   "file_extension": ".py",
   "mimetype": "text/x-python",
   "name": "python",
   "nbconvert_exporter": "python",
   "pygments_lexer": "ipython2",
   "version": "2.7.11"
  }
 },
 "nbformat": 4,
 "nbformat_minor": 2
}
