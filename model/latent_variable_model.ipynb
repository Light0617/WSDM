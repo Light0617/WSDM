{
 "cells": [
  {
   "cell_type": "code",
   "execution_count": 1,
   "metadata": {},
   "outputs": [],
   "source": [
    "import numpy as np\n",
    "import pandas as pd\n",
    "\n",
    "from sklearn.model_selection import train_test_split\n",
    "from sklearn.preprocessing import LabelEncoder\n",
    "\n",
    "from scipy.sparse import *\n",
    "import pickle\n",
    "from sklearn.decomposition import NMF\n",
    "import multiprocessing"
   ]
  },
  {
   "cell_type": "code",
   "execution_count": 2,
   "metadata": {},
   "outputs": [],
   "source": [
    "data_path = '../data/'\n",
    "train = pd.read_csv(data_path + 'train_fill.csv')\n",
    "test = pd.read_csv(data_path + 'test_fill.csv')\n",
    "all_data = pd.concat([train, test])"
   ]
  },
  {
   "cell_type": "code",
   "execution_count": 3,
   "metadata": {},
   "outputs": [],
   "source": [
    "all_data.msno = pd.Categorical(all_data.msno)\n",
    "all_data.msno = all_data.msno.cat.codes\n",
    "all_data.song_id = pd.Categorical(all_data.song_id)\n",
    "all_data.song_id = all_data.song_id.cat.codes\n",
    "\n",
    "num_users = len(all_data.msno.unique()) \n",
    "num_songs = len(all_data.song_id.unique())\n",
    "\n",
    "pos_X = all_data[all_data.target == 1]\n",
    "neg_X = all_data[all_data.target == 0]\n",
    "row1, row2 = pos_X.msno, neg_X.msno\n",
    "col1, col2 = pos_X.song_id, neg_X.song_id"
   ]
  },
  {
   "cell_type": "code",
   "execution_count": 14,
   "metadata": {},
   "outputs": [],
   "source": [
    "def get_X(all_data):    \n",
    "#     all_data.msno = pd.Categorical(all_data.msno)\n",
    "#     all_data.msno = all_data.msno.cat.codes\n",
    "#     all_data.song_id = pd.Categorical(all_data.song_id)\n",
    "#     all_data.song_id = all_data.song_id.cat.codes\n",
    "\n",
    "#     num_users = len(all_data.msno.unique()) \n",
    "#     num_songs = len(all_data.song_id.unique())\n",
    "\n",
    "#     pos_X = all_data[all_data.target == 1]\n",
    "#     neg_X = all_data[all_data.target == 0]\n",
    "#     row1, row2 = pos_X.msno, neg_X.msno\n",
    "#     col1, col2 = pos_X.song_id, neg_X.song_id\n",
    "#     print max(row1), max(row2), max(col1), max(col2)\n",
    "    content1, content2 = np.ones(len(pos_X)), np.ones(len(neg_X)) * -1\n",
    "    content, row, col = np.concatenate((content1, content2), axis = 0)\\\n",
    "                , np.concatenate((row1,row2), axis = 0), np.concatenate((col1, col2), axis = 0)\n",
    "    print len(row)\n",
    "    return csc_matrix((content, (row, col)), \\\n",
    "                   shape=(num_users, num_songs)).toarray()"
   ]
  },
  {
   "cell_type": "code",
   "execution_count": 5,
   "metadata": {},
   "outputs": [],
   "source": [
    "def get_W():    \n",
    "    row = all_data.msno\n",
    "    col = all_data.song_id\n",
    "    content = np.ones(len(all_data))\n",
    "    return csc_matrix((content, (row, col)), \\\n",
    "                   shape=(num_users, num_songs)).toarray()"
   ]
  },
  {
   "cell_type": "code",
   "execution_count": 16,
   "metadata": {},
   "outputs": [
    {
     "name": "stdout",
     "output_type": "stream",
     "text": [
      "280119\n"
     ]
    }
   ],
   "source": [
    "#X = get_X(all_data)\n",
    "#280118\n",
    "print len(train)"
   ]
  },
  {
   "cell_type": "markdown",
   "metadata": {},
   "source": [
    "## x_hat = alpha + beta_u + beta_i + P_u' * Q_i"
   ]
  },
  {
   "cell_type": "code",
   "execution_count": 21,
   "metadata": {},
   "outputs": [],
   "source": [
    "K = 10\n",
    "bias = 0.5\n",
    "alpha = 0.0001\n",
    "lam = 0.01\n",
    "beta_u = np.mean(X, axis = 1)\n",
    "beta_item = np.mean(X, axis = 0)\n",
    "P = np.random.rand(num_users, K)\n",
    "Q = np.random.rand(num_songs, K)\n",
    "pos_length, neg_length = int(len(row1) * 0.8), int(len(row2) * 0.8)\n",
    "train_row1, train_col1 = row1[:pos_length], col1[:pos_length]\n",
    "train_row2, train_col2 = row1[:neg_length], col1[:neg_length]\n",
    "valid_row1, valid_col1 = row1[pos_length:], col1[pos_length:]\n",
    "valid_row2, valid_col2 = row1[neg_length:], col1[neg_length:]"
   ]
  },
  {
   "cell_type": "code",
   "execution_count": 26,
   "metadata": {},
   "outputs": [],
   "source": [
    "pool = multiprocessing.Pool(processes=4)\n",
    "def get_error(row1, col1, row2, col2):\n",
    "    error = 0\n",
    "    for i, j in zip(row1, col1):\n",
    "        y_hat = bias + beta_u[i] + beta_item[j] + np.dot(P[i], Q[j])\n",
    "        err = 1 - y_hat\n",
    "        P[i] += alpha * (2 * err * Q[j]  - lam * P[i])\n",
    "        Q[j] += alpha * (2 * err * P[i]  - lam * Q[j])\n",
    "        error += err\n",
    "    for i, j in zip(row2, col2):\n",
    "        y_hat = bias + beta_u[i] + beta_item[j] + np.dot(P[i], Q[j])\n",
    "        error += 0 - y_hat   \n",
    "        P[i] += alpha * (2 * err * Q[j]  - lam * P[i])\n",
    "        Q[j] += alpha * (2 * err * P[i]  - lam * Q[j])\n",
    "        error += err\n",
    "    return error / (len(row1) + len(row2))\n",
    "def get_train_error():\n",
    "    return get_error(train_row1, train_col1, train_row2, train_col2)\n",
    "def get_valid_error():\n",
    "    return get_error(valid_row1, valid_col1, valid_row2, valid_col2)"
   ]
  },
  {
   "cell_type": "code",
   "execution_count": 27,
   "metadata": {},
   "outputs": [
    {
     "name": "stdout",
     "output_type": "stream",
     "text": [
      "-2.53796773492\n",
      "-2.38051826524\n",
      "-2.24904496382\n",
      "-2.13677249011\n",
      "-2.03919147944\n",
      "-1.95316821852\n",
      "-1.87644834133\n",
      "-1.80736284301\n",
      "-1.74464555017\n",
      "-1.68731541634\n",
      "-1.63459818444\n",
      "-1.58587281851\n",
      "-1.54063399368\n",
      "-1.49846527063\n",
      "-1.45901954337\n",
      "-1.42200454135\n",
      "-1.38717190965\n",
      "-1.35430886565\n",
      "-1.32323174033\n",
      "-1.29378091787\n",
      "-1.2658168269\n",
      "-1.23921673223\n",
      "-1.21387214317\n",
      "-1.18968670154\n",
      "-1.16657444687\n",
      "-1.14445838072\n",
      "-1.12326927033\n",
      "-1.10294464522\n",
      "-1.08342795068\n",
      "-1.06466782943\n",
      "-1.04661750906\n",
      "-1.02923427684\n",
      "-1.01247902762\n",
      "-0.996315872686\n",
      "-0.980711800213\n",
      "-0.965636379156\n",
      "-0.951061500206\n",
      "-0.936961148318\n",
      "-0.92331120235\n",
      "-0.910089257974\n",
      "-0.897274470748\n",
      "-0.884847416603\n",
      "-0.872789967538\n",
      "-0.861085180532\n",
      "-0.849717198021\n",
      "-0.838671158593\n",
      "-0.827933116572\n",
      "-0.817489969526\n",
      "-0.807329392771\n",
      "-0.797439780039\n",
      "-0.78781018967\n",
      "-0.77843029571\n",
      "-0.769290343385\n",
      "-0.760381108496\n",
      "-0.75169386033\n",
      "-0.743220327724\n",
      "-0.734952667971\n",
      "-0.726883438295\n",
      "-0.719005569617\n",
      "-0.711312342457\n",
      "-0.703797364679\n",
      "-0.696454551002\n",
      "-0.689278104054\n",
      "-0.682262496849\n",
      "-0.675402456577\n",
      "-0.668692949565\n",
      "-0.662129167328\n",
      "-0.655706513613\n",
      "-0.649420592348\n",
      "-0.64326719643\n",
      "-0.637242297269\n",
      "-0.631342035051\n",
      "-0.625562709637\n",
      "-0.619900772069\n",
      "-0.614352816616\n",
      "-0.60891557335\n",
      "-0.603585901162\n",
      "-0.598360781255\n",
      "-0.593237310997\n",
      "-0.588212698183\n",
      "-0.583284255622\n",
      "-0.578449396072\n",
      "-0.573705627437\n",
      "-0.569050548283\n",
      "-0.564481843589\n",
      "-0.559997280751\n",
      "-0.555594705805\n",
      "-0.551272039868\n",
      "-0.547027275777\n",
      "-0.542858474902\n",
      "-0.538763764142\n",
      "-0.534741333073\n",
      "-0.530789431259\n",
      "-0.526906365695\n",
      "-0.523090498387\n",
      "-0.519340244053\n",
      "-0.515654067951\n",
      "-0.512030483799\n",
      "-0.508468051823\n",
      "-0.504965376874\n"
     ]
    }
   ],
   "source": [
    "for i in range(100):\n",
    "    print get_train_error()"
   ]
  },
  {
   "cell_type": "code",
   "execution_count": 28,
   "metadata": {},
   "outputs": [
    {
     "name": "stdout",
     "output_type": "stream",
     "text": [
      "-1.87962387758\n"
     ]
    }
   ],
   "source": [
    "print get_valid_error()"
   ]
  },
  {
   "cell_type": "code",
   "execution_count": null,
   "metadata": {},
   "outputs": [],
   "source": []
  }
 ],
 "metadata": {
  "kernelspec": {
   "display_name": "Python 2",
   "language": "python",
   "name": "python2"
  },
  "language_info": {
   "codemirror_mode": {
    "name": "ipython",
    "version": 2
   },
   "file_extension": ".py",
   "mimetype": "text/x-python",
   "name": "python",
   "nbconvert_exporter": "python",
   "pygments_lexer": "ipython2",
   "version": "2.7.14"
  }
 },
 "nbformat": 4,
 "nbformat_minor": 2
}
