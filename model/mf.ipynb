{
 "cells": [
  {
   "cell_type": "code",
   "execution_count": 1,
   "metadata": {
    "collapsed": true
   },
   "outputs": [],
   "source": [
    "import numpy as np\n",
    "import pandas as pd\n",
    "\n",
    "from sklearn.model_selection import train_test_split\n",
    "\n",
    "from tqdm import tqdm\n",
    "\n",
    "import pickle\n",
    "from scipy.sparse import *\n",
    "\n",
    "import get_raintg_X\n",
    "from sklearn.decomposition import NMF"
   ]
  },
  {
   "cell_type": "code",
   "execution_count": 2,
   "metadata": {},
   "outputs": [],
   "source": [
    "data_path = '../data/'\n",
    "train = pd.read_csv(data_path + 'train.csv')\n",
    "test = pd.read_csv(data_path + 'test.csv')\n",
    "\n",
    "X = train.drop(['source_system_tab', 'source_screen_name', 'source_type'],\\\n",
    "           axis=1)\n",
    "Y = train['target'].values\n",
    "X_test = test.drop(['id','source_system_tab',\\\n",
    "                    'source_screen_name', 'source_type'], axis=1)\n",
    "\n",
    "data = pd.concat([X, X_test], axis=0)\n",
    "data.msno = pd.Categorical(data.msno)\n",
    "data.msno = data.msno.cat.codes\n",
    "data.song_id = pd.Categorical(data.song_id)\n",
    "data.song_id = data.song_id.cat.codes\n",
    "\n",
    "num_songs = len(data.song_id.unique())\n",
    "num_users = len(data.msno.unique())\n",
    "\n",
    "pos_X = data[data.target == 1]"
   ]
  },
  {
   "cell_type": "code",
   "execution_count": 12,
   "metadata": {},
   "outputs": [],
   "source": [
    "test = data[pd.isnull(data.target)]"
   ]
  },
  {
   "cell_type": "code",
   "execution_count": 18,
   "metadata": {},
   "outputs": [
    {
     "name": "stdout",
     "output_type": "stream",
     "text": [
      "          msno  song_id  target\n",
      "2556785  19206   396079     NaN\n",
      "2556786  25753   146146     NaN\n",
      "2556787  25753   409892     NaN\n",
      "2556788  25753   226660     NaN\n",
      "2556789  25753   288315     NaN\n"
     ]
    }
   ],
   "source": [
    "print (test.tail())"
   ]
  },
  {
   "cell_type": "code",
   "execution_count": 34,
   "metadata": {},
   "outputs": [],
   "source": [
    "row = pos_X.msno.append(test.msno)\n",
    "col = pos_X.song_id.append(test.song_id)\n",
    "content = np.concatenate(( np.ones(len(pos_X)) , np.empty(len(test)) * np.nan))"
   ]
  },
  {
   "cell_type": "code",
   "execution_count": 37,
   "metadata": {
    "collapsed": true
   },
   "outputs": [],
   "source": [
    "X = csc_matrix((content, (row, col)), \\\n",
    "               shape=(num_users, num_songs)).toarray()"
   ]
  },
  {
   "cell_type": "code",
   "execution_count": 43,
   "metadata": {},
   "outputs": [
    {
     "name": "stdout",
     "output_type": "stream",
     "text": [
      "(34403, 419839)\n"
     ]
    }
   ],
   "source": [
    "print(np.shape(X))"
   ]
  },
  {
   "cell_type": "code",
   "execution_count": 42,
   "metadata": {
    "collapsed": true
   },
   "outputs": [],
   "source": [
    "# P (U * k),  Q(I * k)\n",
    "K = 10"
   ]
  },
  {
   "cell_type": "code",
   "execution_count": 44,
   "metadata": {
    "collapsed": true
   },
   "outputs": [],
   "source": [
    "model = NMF(n_components=4, init='random', random_state=0)"
   ]
  },
  {
   "cell_type": "code",
   "execution_count": null,
   "metadata": {
    "collapsed": true
   },
   "outputs": [],
   "source": [
    "W = model.fit_transform(X)"
   ]
  },
  {
   "cell_type": "code",
   "execution_count": null,
   "metadata": {
    "collapsed": true
   },
   "outputs": [],
   "source": []
  }
 ],
 "metadata": {
  "anaconda-cloud": {},
  "kernelspec": {
   "display_name": "Python [conda root]",
   "language": "python",
   "name": "conda-root-py"
  },
  "language_info": {
   "codemirror_mode": {
    "name": "ipython",
    "version": 3
   },
   "file_extension": ".py",
   "mimetype": "text/x-python",
   "name": "python",
   "nbconvert_exporter": "python",
   "pygments_lexer": "ipython3",
   "version": "3.5.2"
  }
 },
 "nbformat": 4,
 "nbformat_minor": 2
}
