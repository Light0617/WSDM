{
 "cells": [
  {
   "cell_type": "code",
   "execution_count": 3,
   "metadata": {},
   "outputs": [],
   "source": [
    "import numpy as np\n",
    "import surprise\n",
    "import pandas as pd\n",
    "import pickle"
   ]
  },
  {
   "cell_type": "code",
   "execution_count": 4,
   "metadata": {},
   "outputs": [
    {
     "name": "stdout",
     "output_type": "stream",
     "text": [
      "Training Set Loaded\n",
      "val Set Loaded\n"
     ]
    }
   ],
   "source": [
    "train = pickle.load(open('../data/trainSet_SVD', 'r'))\n",
    "print \"Training Set Loaded\"\n",
    "val= pickle.load(open('../data/valSet_SVD', 'r'))\n",
    "print(\"val Set Loaded\")"
   ]
  },
  {
   "cell_type": "code",
   "execution_count": 5,
   "metadata": {},
   "outputs": [],
   "source": [
    "reader = surprise.Reader(rating_scale=(0,1))\n",
    "data = surprise.Dataset.load_from_df(train[['msno', 'song_id', 'target']].dropna(), reader)"
   ]
  },
  {
   "cell_type": "code",
   "execution_count": 6,
   "metadata": {},
   "outputs": [],
   "source": [
    "trainSet = data.build_full_trainset()"
   ]
  },
  {
   "cell_type": "code",
   "execution_count": 7,
   "metadata": {},
   "outputs": [],
   "source": [
    "valSet = surprise.Dataset.load_from_df(train[['msno', 'song_id', 'target']].dropna(), reader)\n",
    "valSet.split(n_folds=2)"
   ]
  },
  {
   "cell_type": "code",
   "execution_count": 8,
   "metadata": {},
   "outputs": [
    {
     "name": "stdout",
     "output_type": "stream",
     "text": [
      "Done Training\n",
      "Evaluating FCP of algorithm NMF.\n",
      "\n",
      "------------\n",
      "Fold 1\n",
      "FCP:  0.5956\n",
      "------------\n",
      "Fold 2\n",
      "FCP:  0.5956\n",
      "------------\n",
      "------------\n",
      "Mean FCP : 0.5956\n",
      "------------\n",
      "------------\n"
     ]
    }
   ],
   "source": [
    "# algo = surprise.NMF(n_factors=5)\n",
    "# algo.train(trainSet)\n",
    "# print(\"Done Training\")\n",
    "# perf = surprise.evaluate(algo, valSet, measures=['fcp'])\n",
    "# # 0.5956"
   ]
  },
  {
   "cell_type": "code",
   "execution_count": 9,
   "metadata": {},
   "outputs": [
    {
     "name": "stdout",
     "output_type": "stream",
     "text": [
      "Done Training\n",
      "Evaluating FCP of algorithm NMF.\n",
      "\n",
      "------------\n",
      "Fold 1\n",
      "FCP:  0.5973\n",
      "------------\n",
      "Fold 2\n",
      "FCP:  0.5973\n",
      "------------\n",
      "------------\n",
      "Mean FCP : 0.5973\n",
      "------------\n",
      "------------\n"
     ]
    }
   ],
   "source": [
    "# algo = surprise.NMF(n_factors=10)\n",
    "# algo.train(trainSet)\n",
    "# print(\"Done Training\")\n",
    "# perf = surprise.evaluate(algo, valSet, measures=['fcp'])\n",
    "#Mean FCP : 0.5973"
   ]
  },
  {
   "cell_type": "code",
   "execution_count": 12,
   "metadata": {},
   "outputs": [],
   "source": [
    "algos = []"
   ]
  },
  {
   "cell_type": "code",
   "execution_count": null,
   "metadata": {},
   "outputs": [
    {
     "name": "stdout",
     "output_type": "stream",
     "text": [
      "Done Training\n",
      "Evaluating FCP of algorithm NMF.\n",
      "\n",
      "------------\n",
      "Fold 1\n",
      "FCP:  0.5999\n",
      "------------\n",
      "Fold 2\n"
     ]
    }
   ],
   "source": [
    "algos += surprise.NMF(n_factors=20),\n",
    "algos[-1].train(trainSet)\n",
    "print(\"Done Training\")\n",
    "perf = surprise.evaluate(algos[-1], valSet, measures=['fcp'])"
   ]
  },
  {
   "cell_type": "code",
   "execution_count": null,
   "metadata": {},
   "outputs": [],
   "source": [
    "algos += surprise.NMF(n_factors=30),\n",
    "algos[-1].train(trainSet)\n",
    "print(\"Done Training\")\n",
    "perf = surprise.evaluate(algos[-1], valSet, measures=['fcp'])"
   ]
  },
  {
   "cell_type": "code",
   "execution_count": null,
   "metadata": {},
   "outputs": [],
   "source": [
    "algos += surprise.NMF(n_factors=40),\n",
    "algos[-1].train(trainSet)\n",
    "print(\"Done Training\")\n",
    "perf = surprise.evaluate(algos[-1], valSet, measures=['fcp'])"
   ]
  },
  {
   "cell_type": "code",
   "execution_count": null,
   "metadata": {},
   "outputs": [],
   "source": [
    "algos += surprise.NMF(n_factors=50),\n",
    "algos[-1].train(trainSet)\n",
    "print(\"Done Training\")\n",
    "perf = surprise.evaluate(algos[-1], valSet, measures=['fcp'])"
   ]
  },
  {
   "cell_type": "code",
   "execution_count": null,
   "metadata": {},
   "outputs": [],
   "source": [
    "algos += surprise.NMF(n_factors=60),\n",
    "algos[-1].train(trainSet)\n",
    "print(\"Done Training\")\n",
    "perf = surprise.evaluate(algos[-1], valSet, measures=['fcp'])"
   ]
  },
  {
   "cell_type": "code",
   "execution_count": null,
   "metadata": {},
   "outputs": [],
   "source": [
    "algos += surprise.NMF(n_factors=70),\n",
    "algos[-1].train(trainSet)\n",
    "print(\"Done Training\")\n",
    "perf = surprise.evaluate(algos[-1], valSet, measures=['fcp'])"
   ]
  },
  {
   "cell_type": "code",
   "execution_count": null,
   "metadata": {},
   "outputs": [],
   "source": [
    "algos += surprise.NMF(n_factors=80),\n",
    "algos[-1].train(trainSet)\n",
    "print(\"Done Training\")\n",
    "perf = surprise.evaluate(algos[-1], valSet, measures=['fcp'])"
   ]
  },
  {
   "cell_type": "code",
   "execution_count": null,
   "metadata": {},
   "outputs": [],
   "source": [
    "algos += surprise.NMF(n_factors=90),\n",
    "algos[-1].train(trainSet)\n",
    "print(\"Done Training\")\n",
    "perf = surprise.evaluate(algos[-1], valSet, measures=['fcp'])"
   ]
  },
  {
   "cell_type": "code",
   "execution_count": null,
   "metadata": {},
   "outputs": [],
   "source": [
    "algos += surprise.NMF(n_factors=100),\n",
    "algos[-1].train(trainSet)\n",
    "print(\"Done Training\")\n",
    "perf = surprise.evaluate(algos[-1], valSet, measures=['fcp'])"
   ]
  },
  {
   "cell_type": "code",
   "execution_count": null,
   "metadata": {},
   "outputs": [],
   "source": [
    "# submit = []\n",
    "# for index, row in test.iterrows():\n",
    "#     est = algo.predict(row['msno'], row['song_id']).est\n",
    "#     submit.append((row['id'], est))\n",
    "# submit = pd.DataFrame(submit, columns=['id', 'target'])\n",
    "# submit.to_csv('../submissions/submission_svd.csv', index=False)\n",
    "# print(\"Created submission.csv\")"
   ]
  },
  {
   "cell_type": "code",
   "execution_count": 17,
   "metadata": {},
   "outputs": [],
   "source": [
    "#100 : 0.62606\n",
    "#20 : "
   ]
  },
  {
   "cell_type": "code",
   "execution_count": 21,
   "metadata": {},
   "outputs": [
    {
     "name": "stdout",
     "output_type": "stream",
     "text": [
      "[[ 0.02661558 -0.06037657 -0.00639305 ...,  0.02757311  0.06544725\n",
      "  -0.07251684]\n",
      " [ 0.01014178 -0.01561913  0.00352199 ..., -0.01019787  0.02732697\n",
      "  -0.04474286]\n",
      " [ 0.01896309 -0.01965533  0.00230753 ..., -0.00574813  0.04791484\n",
      "   0.06125134]\n",
      " ..., \n",
      " [ 0.06185865  0.12322451  0.00888664 ...,  0.10170841  0.22392329\n",
      "  -0.08997281]\n",
      " [-0.1313276   0.071987   -0.02986526 ...,  0.1321452  -0.04375992\n",
      "   0.02596669]\n",
      " [-0.01822129 -0.09226306  0.01140745 ..., -0.01452212  0.01977765\n",
      "   0.09389985]]\n",
      "[[-0.02064623 -0.09018417  0.14311868 ...,  0.01276754 -0.07853461\n",
      "  -0.0179726 ]\n",
      " [ 0.00552811  0.01844719  0.08283412 ...,  0.21995376 -0.02598372\n",
      "  -0.14883586]\n",
      " [ 0.11535391 -0.03020665 -0.09376313 ...,  0.02992012 -0.01139271\n",
      "  -0.05362295]\n",
      " ..., \n",
      " [ 0.065074    0.22109495 -0.10344207 ..., -0.0114808  -0.01807701\n",
      "   0.03218149]\n",
      " [-0.05616891  0.01634275  0.1139764  ..., -0.07711226  0.16773101\n",
      "  -0.19855165]\n",
      " [-0.02595497 -0.14759776  0.05879291 ..., -0.11063625 -0.02766702\n",
      "  -0.03535646]]\n"
     ]
    }
   ],
   "source": [
    "# print algo.pu\n",
    "# print algo.qi"
   ]
  },
  {
   "cell_type": "code",
   "execution_count": null,
   "metadata": {},
   "outputs": [],
   "source": [
    "# trainSet = train.iloc[:, :72]\n",
    "# df1 = datasX.iloc[:, :72]\n",
    "# df2 = datasX.iloc[:, 72:]"
   ]
  },
  {
   "cell_type": "code",
   "execution_count": 5,
   "metadata": {},
   "outputs": [
    {
     "name": "stdout",
     "output_type": "stream",
     "text": [
      "A\n"
     ]
    }
   ],
   "source": [
    "print 'A'"
   ]
  },
  {
   "cell_type": "code",
   "execution_count": 9,
   "metadata": {},
   "outputs": [
    {
     "name": "stdout",
     "output_type": "stream",
     "text": [
      "5901934\n"
     ]
    }
   ],
   "source": [
    "l =  int(len(train) * 0.8)\n",
    "print l"
   ]
  },
  {
   "cell_type": "code",
   "execution_count": 10,
   "metadata": {},
   "outputs": [],
   "source": [
    "trainSet =  train.iloc[:l, :]\n",
    "valSet = train.iloc[l:, :]"
   ]
  },
  {
   "cell_type": "code",
   "execution_count": 12,
   "metadata": {},
   "outputs": [
    {
     "name": "stdout",
     "output_type": "stream",
     "text": [
      "5901934 1475484\n"
     ]
    }
   ],
   "source": [
    "print len(trainSet), len(valSet)"
   ]
  },
  {
   "cell_type": "code",
   "execution_count": 13,
   "metadata": {},
   "outputs": [
    {
     "name": "stdout",
     "output_type": "stream",
     "text": [
      "Empty DataFrame\n",
      "Columns: [msno, song_id, source_system_tab, source_screen_name, source_type, target]\n",
      "Index: []\n"
     ]
    }
   ],
   "source": [
    "print trainSet.head(0)"
   ]
  },
  {
   "cell_type": "code",
   "execution_count": 15,
   "metadata": {},
   "outputs": [],
   "source": [
    "import pickle\n",
    "pickle.dump(trainSet, open('../data/trainSet_SVD', 'wb'))\n",
    "pickle.dump(valSet, open('../data/valSet_SVD', 'wb'))"
   ]
  },
  {
   "cell_type": "code",
   "execution_count": null,
   "metadata": {},
   "outputs": [],
   "source": []
  }
 ],
 "metadata": {
  "kernelspec": {
   "display_name": "Python 2",
   "language": "python",
   "name": "python2"
  },
  "language_info": {
   "codemirror_mode": {
    "name": "ipython",
    "version": 2
   },
   "file_extension": ".py",
   "mimetype": "text/x-python",
   "name": "python",
   "nbconvert_exporter": "python",
   "pygments_lexer": "ipython2",
   "version": "2.7.11"
  }
 },
 "nbformat": 4,
 "nbformat_minor": 2
}
